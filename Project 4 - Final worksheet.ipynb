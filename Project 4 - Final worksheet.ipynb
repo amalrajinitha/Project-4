{
 "cells": [
  {
   "cell_type": "markdown",
   "metadata": {},
   "source": [
    "# Project 4: Web Scraping Job Postings"
   ]
  },
  {
   "cell_type": "markdown",
   "metadata": {},
   "source": [
    "### Webscraping was done using selenium on the MycareersFuture website.\n",
    "\n",
    "#### 1. Used different keywords such as Data, machine learning, python, data science, data analytics, data scientist, python, big data, deep learning etc to get the links and other details and the results were stored on df-1Feb.csv file\n",
    "\n",
    "#### 2. Using the links got then scraped all the required information such as job titles, salary, job descriptions, job requirements, comapny, industry, emplyment types and stored in final_df3Feb.csv. This file is used for further analysis."
   ]
  },
  {
   "cell_type": "code",
   "execution_count": 1,
   "metadata": {},
   "outputs": [],
   "source": [
    "#### imports\n",
    "import numpy as np\n",
    "import matplotlib.pyplot as plt\n",
    "from matplotlib.patches import Wedge\n",
    "import matplotlib.patches as patches\n",
    "from matplotlib.path import Path\n",
    "import pandas as pd\n",
    "\n",
    "%matplotlib inline"
   ]
  },
  {
   "cell_type": "markdown",
   "metadata": {},
   "source": [
    "## Loading Data"
   ]
  },
  {
   "cell_type": "markdown",
   "metadata": {},
   "source": [
    "### I had several questing before starting my analysis"
   ]
  },
  {
   "cell_type": "code",
   "execution_count": 2,
   "metadata": {},
   "outputs": [],
   "source": [
    "# groupby based on seniority, industry, employment_types find the variation in salary type\n",
    "# Keep this as the main category index - seniority(different types):\n",
    "    #1. whats is the most common jobtitle and whats the expected salary(for different employment types)\n",
    "    #2. Does the govenment support affects the salary\n",
    "    #3. which industry is getting more govenment support\n",
    "    #4. Where most companies located\n",
    "    #5. predict what is the most common requirements for different seniority roles\n",
    "    #6. predict what is the common job discription based on seniority\n",
    "    #7. which industry have more data science roles and which one we can look into."
   ]
  },
  {
   "cell_type": "code",
   "execution_count": 3,
   "metadata": {},
   "outputs": [],
   "source": [
    "#loading the scarped data file\n",
    "df = pd.read_csv('final_df3Feb.csv')"
   ]
  },
  {
   "cell_type": "code",
   "execution_count": 4,
   "metadata": {},
   "outputs": [],
   "source": [
    "df.drop('Unnamed: 0', axis=1, inplace=True)"
   ]
  },
  {
   "cell_type": "code",
   "execution_count": 5,
   "metadata": {
    "scrolled": true
   },
   "outputs": [
    {
     "data": {
      "text/html": [
       "<div>\n",
       "<style scoped>\n",
       "    .dataframe tbody tr th:only-of-type {\n",
       "        vertical-align: middle;\n",
       "    }\n",
       "\n",
       "    .dataframe tbody tr th {\n",
       "        vertical-align: top;\n",
       "    }\n",
       "\n",
       "    .dataframe thead th {\n",
       "        text-align: right;\n",
       "    }\n",
       "</style>\n",
       "<table border=\"1\" class=\"dataframe\">\n",
       "  <thead>\n",
       "    <tr style=\"text-align: right;\">\n",
       "      <th></th>\n",
       "      <th>job_titles</th>\n",
       "      <th>companys</th>\n",
       "      <th>employment_type</th>\n",
       "      <th>seniority</th>\n",
       "      <th>industrys</th>\n",
       "      <th>salary</th>\n",
       "      <th>salary_terms</th>\n",
       "      <th>job_descriptions</th>\n",
       "      <th>job_requirements</th>\n",
       "      <th>links</th>\n",
       "      <th>location</th>\n",
       "      <th>gov_support</th>\n",
       "    </tr>\n",
       "  </thead>\n",
       "  <tbody>\n",
       "    <tr>\n",
       "      <th>0</th>\n",
       "      <td>Data Engineer</td>\n",
       "      <td>GRABTAXI HOLDINGS PTE. LTD.</td>\n",
       "      <td>Full Time</td>\n",
       "      <td>Professional</td>\n",
       "      <td>Engineering</td>\n",
       "      <td>$6,000to$10,000</td>\n",
       "      <td>Monthly</td>\n",
       "      <td>Build, deploy and manage big data solutions t...</td>\n",
       "      <td>A degree or higher in Computer Science, Elec...</td>\n",
       "      <td>https://www.mycareersfuture.sg/job/data-engine...</td>\n",
       "      <td>Central</td>\n",
       "      <td>Government support available</td>\n",
       "    </tr>\n",
       "    <tr>\n",
       "      <th>1</th>\n",
       "      <td>Data Engineer</td>\n",
       "      <td>MOKA TECHNOLOGY SOLUTIONS PTE. LTD.</td>\n",
       "      <td>Permanent, Full Time</td>\n",
       "      <td>Professional</td>\n",
       "      <td>Engineering</td>\n",
       "      <td>$5,000to$7,000</td>\n",
       "      <td>Monthly</td>\n",
       "      <td>Do you have a passion for data? Are you lookin...</td>\n",
       "      <td>You have:  BS (MS preferred) in Computer Scien...</td>\n",
       "      <td>https://www.mycareersfuture.sg/job/data-engine...</td>\n",
       "      <td>North</td>\n",
       "      <td>Government support available</td>\n",
       "    </tr>\n",
       "    <tr>\n",
       "      <th>2</th>\n",
       "      <td>Data Engineer</td>\n",
       "      <td>TITANSOFT PTE. LTD.</td>\n",
       "      <td>Permanent</td>\n",
       "      <td>Executive</td>\n",
       "      <td>Professional Services</td>\n",
       "      <td>$3,000to$8,000</td>\n",
       "      <td>Monthly</td>\n",
       "      <td>If you believe data makes the world go round, ...</td>\n",
       "      <td>What we are looking for in a Data Engineer Qua...</td>\n",
       "      <td>https://www.mycareersfuture.sg/job/data-engine...</td>\n",
       "      <td>Central</td>\n",
       "      <td>Government support available</td>\n",
       "    </tr>\n",
       "  </tbody>\n",
       "</table>\n",
       "</div>"
      ],
      "text/plain": [
       "      job_titles                             companys       employment_type  \\\n",
       "0  Data Engineer          GRABTAXI HOLDINGS PTE. LTD.             Full Time   \n",
       "1  Data Engineer  MOKA TECHNOLOGY SOLUTIONS PTE. LTD.  Permanent, Full Time   \n",
       "2  Data Engineer                  TITANSOFT PTE. LTD.             Permanent   \n",
       "\n",
       "      seniority              industrys           salary salary_terms  \\\n",
       "0  Professional            Engineering  $6,000to$10,000      Monthly   \n",
       "1  Professional            Engineering   $5,000to$7,000      Monthly   \n",
       "2     Executive  Professional Services   $3,000to$8,000      Monthly   \n",
       "\n",
       "                                    job_descriptions  \\\n",
       "0   Build, deploy and manage big data solutions t...   \n",
       "1  Do you have a passion for data? Are you lookin...   \n",
       "2  If you believe data makes the world go round, ...   \n",
       "\n",
       "                                    job_requirements  \\\n",
       "0    A degree or higher in Computer Science, Elec...   \n",
       "1  You have:  BS (MS preferred) in Computer Scien...   \n",
       "2  What we are looking for in a Data Engineer Qua...   \n",
       "\n",
       "                                               links location  \\\n",
       "0  https://www.mycareersfuture.sg/job/data-engine...  Central   \n",
       "1  https://www.mycareersfuture.sg/job/data-engine...    North   \n",
       "2  https://www.mycareersfuture.sg/job/data-engine...  Central   \n",
       "\n",
       "                    gov_support  \n",
       "0  Government support available  \n",
       "1  Government support available  \n",
       "2  Government support available  "
      ]
     },
     "execution_count": 5,
     "metadata": {},
     "output_type": "execute_result"
    }
   ],
   "source": [
    "df.head(3)"
   ]
  },
  {
   "cell_type": "markdown",
   "metadata": {},
   "source": [
    "## Feature Engineering\n",
    "\n",
    "### 1. seniority "
   ]
  },
  {
   "cell_type": "code",
   "execution_count": 6,
   "metadata": {},
   "outputs": [],
   "source": [
    "#fill the null value by NA\n",
    "df.seniority=df.seniority.fillna(\"NA\")"
   ]
  },
  {
   "cell_type": "code",
   "execution_count": 7,
   "metadata": {},
   "outputs": [],
   "source": [
    "#split the seniority column to reduce the length \n",
    "df.seniority=df.seniority.apply(lambda x: x.split(',')[0])"
   ]
  },
  {
   "cell_type": "code",
   "execution_count": 8,
   "metadata": {},
   "outputs": [
    {
     "data": {
      "text/plain": [
       "Professional         255\n",
       "Executive            154\n",
       "Manager               85\n",
       "Senior Executive      81\n",
       "Middle Management     79\n",
       "Non-executive         56\n",
       "Senior Management     40\n",
       "Junior Executive      36\n",
       "NA                    27\n",
       "Fresh/entry level     25\n",
       "Name: seniority, dtype: int64"
      ]
     },
     "execution_count": 8,
     "metadata": {},
     "output_type": "execute_result"
    }
   ],
   "source": [
    "df.seniority.value_counts()"
   ]
  },
  {
   "cell_type": "markdown",
   "metadata": {},
   "source": [
    "### 2. Salary\n",
    "\n",
    "Separating the salary column into min and maximum salary\n",
    "\n"
   ]
  },
  {
   "cell_type": "code",
   "execution_count": 9,
   "metadata": {},
   "outputs": [],
   "source": [
    "df.salary=df.salary.apply(lambda x: x.replace('$',''))\n",
    "df.salary=df.salary.apply(lambda x: x.replace(',',''))\n",
    "\n",
    "df['min_salary'] = df.salary.apply(lambda x: x.split('to')[0])\n",
    "df['max_salary'] = df.salary.apply(lambda x: x.split('to')[-1])"
   ]
  },
  {
   "cell_type": "markdown",
   "metadata": {},
   "source": [
    "### 3. Gov_support\n",
    "\n",
    "If government support available tehn impute 'yes' else impute 'no'"
   ]
  },
  {
   "cell_type": "code",
   "execution_count": 10,
   "metadata": {},
   "outputs": [],
   "source": [
    "df['gov_support']=df.gov_support.apply(lambda x: 'yes' if x=='Government support available' else 'no')"
   ]
  },
  {
   "cell_type": "markdown",
   "metadata": {},
   "source": [
    "### 4 Employment_type\n",
    "\n",
    "Removing the entries with low counts. For example temporary, internship and part-time jobs have only one value. As tehse data dont have significant contribution to our results. Those columns were removed. "
   ]
  },
  {
   "cell_type": "code",
   "execution_count": 11,
   "metadata": {},
   "outputs": [
    {
     "data": {
      "text/plain": [
       "Full Time                           335\n",
       "Permanent                           170\n",
       "Permanent, Full Time                141\n",
       "Contract, Full Time                  98\n",
       "Contract                             65\n",
       "Permanent, Contract                   8\n",
       "Permanent, Contract, Full Time        7\n",
       "Internship                            5\n",
       "Permanent, Full Time, Internship      1\n",
       "Part Time, Full Time                  1\n",
       "Part Time                             1\n",
       "Part Time, Contract                   1\n",
       "Temporary                             1\n",
       "Temporary, Contract, Full Time        1\n",
       "Full Time, Internship                 1\n",
       "Contract, Full Time, Internship       1\n",
       "Freelance, Full Time, Flexi work      1\n",
       "Name: employment_type, dtype: int64"
      ]
     },
     "execution_count": 11,
     "metadata": {},
     "output_type": "execute_result"
    }
   ],
   "source": [
    "df.employment_type.value_counts()"
   ]
  },
  {
   "cell_type": "code",
   "execution_count": 12,
   "metadata": {},
   "outputs": [],
   "source": [
    "#split the employment_type column to reduce the length \n",
    "df.employment_type=df.employment_type.apply(lambda x: x.split(',')[0])"
   ]
  },
  {
   "cell_type": "code",
   "execution_count": 13,
   "metadata": {},
   "outputs": [
    {
     "data": {
      "text/plain": [
       "Full Time     336\n",
       "Permanent     327\n",
       "Contract      164\n",
       "Internship      5\n",
       "Part Time       3\n",
       "Temporary       2\n",
       "Freelance       1\n",
       "Name: employment_type, dtype: int64"
      ]
     },
     "execution_count": 13,
     "metadata": {},
     "output_type": "execute_result"
    }
   ],
   "source": [
    "df.employment_type.value_counts()"
   ]
  },
  {
   "cell_type": "code",
   "execution_count": 14,
   "metadata": {},
   "outputs": [],
   "source": [
    "#Removing the entries with low counts.\n",
    "\n",
    "df=df[df.employment_type != 'Internship']\n",
    "df=df[df.employment_type != 'Part Time']\n",
    "df=df[df.employment_type != 'Temporary']\n",
    "df=df[df.employment_type != 'Freelance']\n"
   ]
  },
  {
   "cell_type": "code",
   "execution_count": 15,
   "metadata": {},
   "outputs": [
    {
     "data": {
      "text/plain": [
       "Full Time    336\n",
       "Permanent    327\n",
       "Contract     164\n",
       "Name: employment_type, dtype: int64"
      ]
     },
     "execution_count": 15,
     "metadata": {},
     "output_type": "execute_result"
    }
   ],
   "source": [
    "df.employment_type.value_counts()"
   ]
  },
  {
   "cell_type": "markdown",
   "metadata": {},
   "source": [
    "### 6. job_titles"
   ]
  },
  {
   "cell_type": "code",
   "execution_count": 16,
   "metadata": {},
   "outputs": [
    {
     "data": {
      "text/plain": [
       "Data Scientist                                                               46\n",
       "Data Engineer                                                                26\n",
       "Research Fellow                                                              17\n",
       "Data Analyst                                                                 17\n",
       "Research Associate                                                            8\n",
       "Software Engineer                                                             8\n",
       "Software Consultant                                                           7\n",
       "Senior Software Engineer                                                      6\n",
       "DevOps Engineer                                                               6\n",
       "Project Officer                                                               5\n",
       "Research Engineer                                                             5\n",
       "Senior Research Engineer                                                      5\n",
       "Senior Data Scientist                                                         5\n",
       "Product Manager                                                               5\n",
       "Lead Data Scientist                                                           5\n",
       "Application Developer                                                         4\n",
       "Big Data Engineer (Financial Services)                                        4\n",
       "Data Science Consultant                                                       4\n",
       "Infrastructure Engineer - Junior DevOps                                       4\n",
       "Senior Business Intelligence Analyst                                          4\n",
       "Java Developer                                                                4\n",
       "Senior Data Analyst                                                           4\n",
       "Solution Specialist                                                           4\n",
       "Research Assistant                                                            4\n",
       "Project Manager                                                               4\n",
       "Associate, Advisory Data and Analytics                                        3\n",
       "Senior Manager                                                                3\n",
       "Systems Analyst (BI)                                                          3\n",
       "Business Analyst                                                              3\n",
       "Senior Data Engineer                                                          3\n",
       "                                                                             ..\n",
       "Lecturer - Mechatronics Engineering                                           1\n",
       "Javascript / Frontend Developer                                               1\n",
       "Senior Application Developer                                                  1\n",
       "Research Data Analyst                                                         1\n",
       "Software Engineer  /  R&D on Image / Camera processing / chai chee            1\n",
       "Investment Analyst                                                            1\n",
       "Software Architect LEAD (DEX)                                                 1\n",
       "Research Engineer (Human Language Technology)  /  I2R (A*STAR)                1\n",
       "Big Data Engineer  /  DevOps Engineer  /  Software Developer                  1\n",
       "Financial Data Analytics Manager                                              1\n",
       "Research Engineer (Big Urban Data)                                            1\n",
       "Visiting Research Fellow                                                      1\n",
       "SR Clinical Research Associate                                                1\n",
       "Senior Risk Consultant                                                        1\n",
       "Senior  /  Staff Data Scientist                                               1\n",
       "VP, Data Scientist, Business Analytics, Consumer Banking Group (180004XI)     1\n",
       "Machine Learning Engineer                                                     1\n",
       "Engineering Manager - Transport                                               1\n",
       "VP, Analytics Project Manager, DBS Transformation Group, T&O (190000A3)       1\n",
       "Business Program Manager                                                      1\n",
       "Fiori Developer                                                               1\n",
       "Manager, Technology Office (Database)                                         1\n",
       "Software QA Engineer - Automation                                             1\n",
       "Senior Manager (Network and Data Infra), EOID                                 1\n",
       "Data Center Engineering Project Engineer APAC                                 1\n",
       "Junior Data Scientist                                                         1\n",
       "EHS Manager                                                                   1\n",
       "Associate / AVP, Risk Modelling, Investment Management                        1\n",
       "Data Analyst - Database Analyst                                               1\n",
       "Quality Data Analyst                                                          1\n",
       "Name: job_titles, Length: 589, dtype: int64"
      ]
     },
     "execution_count": 16,
     "metadata": {},
     "output_type": "execute_result"
    }
   ],
   "source": [
    "# so many job_titles. so it has to be engineered\n",
    "df.job_titles.value_counts()"
   ]
  },
  {
   "cell_type": "code",
   "execution_count": 17,
   "metadata": {},
   "outputs": [],
   "source": [
    "#split the employment_type column to reduce the length \n",
    "df.job_titles=df.job_titles.apply(lambda x: x.split('/')[0])"
   ]
  },
  {
   "cell_type": "code",
   "execution_count": 18,
   "metadata": {},
   "outputs": [],
   "source": [
    "#split the employment_type column to reduce the length \n",
    "df.job_titles=df.job_titles.apply(lambda x: x.split('-')[0])"
   ]
  },
  {
   "cell_type": "code",
   "execution_count": 19,
   "metadata": {},
   "outputs": [],
   "source": [
    "#df.job_titles.value_counts()"
   ]
  },
  {
   "cell_type": "markdown",
   "metadata": {},
   "source": [
    "### 7. average salary"
   ]
  },
  {
   "cell_type": "code",
   "execution_count": 20,
   "metadata": {},
   "outputs": [
    {
     "data": {
      "text/plain": [
       "dtype('O')"
      ]
     },
     "execution_count": 20,
     "metadata": {},
     "output_type": "execute_result"
    }
   ],
   "source": [
    "#the type of salary is object\n",
    "df.min_salary.dtypes"
   ]
  },
  {
   "cell_type": "code",
   "execution_count": 21,
   "metadata": {},
   "outputs": [
    {
     "data": {
      "text/plain": [
       "(827, 14)"
      ]
     },
     "execution_count": 21,
     "metadata": {},
     "output_type": "execute_result"
    }
   ],
   "source": [
    "df.shape"
   ]
  },
  {
   "cell_type": "code",
   "execution_count": 22,
   "metadata": {},
   "outputs": [],
   "source": [
    "#removing the data with no salary info\n",
    "\n",
    "df = df[df.min_salary != 'Salary undisclosed']"
   ]
  },
  {
   "cell_type": "code",
   "execution_count": 23,
   "metadata": {},
   "outputs": [],
   "source": [
    "df = df[df.max_salary != 'Salary undisclosed']"
   ]
  },
  {
   "cell_type": "code",
   "execution_count": 24,
   "metadata": {},
   "outputs": [
    {
     "data": {
      "text/plain": [
       "(754, 14)"
      ]
     },
     "execution_count": 24,
     "metadata": {},
     "output_type": "execute_result"
    }
   ],
   "source": [
    "df.shape"
   ]
  },
  {
   "cell_type": "code",
   "execution_count": 25,
   "metadata": {},
   "outputs": [],
   "source": [
    "#droping data without salary detail and then converting into numeric\n",
    "\n",
    "#df.min_salary(dropna=True) \n"
   ]
  },
  {
   "cell_type": "code",
   "execution_count": 26,
   "metadata": {},
   "outputs": [
    {
     "data": {
      "text/plain": [
       "0"
      ]
     },
     "execution_count": 26,
     "metadata": {},
     "output_type": "execute_result"
    }
   ],
   "source": [
    "df['min_salary'].isnull().sum()\n",
    "\n"
   ]
  },
  {
   "cell_type": "code",
   "execution_count": 27,
   "metadata": {},
   "outputs": [
    {
     "data": {
      "text/plain": [
       "0"
      ]
     },
     "execution_count": 27,
     "metadata": {},
     "output_type": "execute_result"
    }
   ],
   "source": [
    "df['max_salary'].isnull().sum()"
   ]
  },
  {
   "cell_type": "code",
   "execution_count": 28,
   "metadata": {},
   "outputs": [
    {
     "name": "stderr",
     "output_type": "stream",
     "text": [
      "/anaconda3/lib/python3.7/site-packages/ipykernel_launcher.py:1: FutureWarning: convert_objects is deprecated.  To re-infer data dtypes for object columns, use Series.infer_objects()\n",
      "For all other conversions use the data-type specific converters pd.to_datetime, pd.to_timedelta and pd.to_numeric.\n",
      "  \"\"\"Entry point for launching an IPython kernel.\n"
     ]
    }
   ],
   "source": [
    "df['max_salary'] = df['max_salary'].convert_objects(convert_numeric=True)"
   ]
  },
  {
   "cell_type": "code",
   "execution_count": 29,
   "metadata": {},
   "outputs": [
    {
     "name": "stderr",
     "output_type": "stream",
     "text": [
      "/anaconda3/lib/python3.7/site-packages/ipykernel_launcher.py:1: FutureWarning: convert_objects is deprecated.  To re-infer data dtypes for object columns, use Series.infer_objects()\n",
      "For all other conversions use the data-type specific converters pd.to_datetime, pd.to_timedelta and pd.to_numeric.\n",
      "  \"\"\"Entry point for launching an IPython kernel.\n"
     ]
    }
   ],
   "source": [
    "df['min_salary'] = df['min_salary'].convert_objects(convert_numeric=True)"
   ]
  },
  {
   "cell_type": "code",
   "execution_count": 30,
   "metadata": {},
   "outputs": [],
   "source": [
    "#fill the null value by NA\n",
    "df.min_salary=df.min_salary.fillna(0)"
   ]
  },
  {
   "cell_type": "code",
   "execution_count": 31,
   "metadata": {},
   "outputs": [
    {
     "data": {
      "text/plain": [
       "dtype('int64')"
      ]
     },
     "execution_count": 31,
     "metadata": {},
     "output_type": "execute_result"
    }
   ],
   "source": [
    "df.min_salary.dtypes"
   ]
  },
  {
   "cell_type": "code",
   "execution_count": 32,
   "metadata": {},
   "outputs": [
    {
     "data": {
      "text/plain": [
       "dtype('int64')"
      ]
     },
     "execution_count": 32,
     "metadata": {},
     "output_type": "execute_result"
    }
   ],
   "source": [
    "df.max_salary.dtypes"
   ]
  },
  {
   "cell_type": "code",
   "execution_count": 33,
   "metadata": {},
   "outputs": [],
   "source": [
    "df['avg_salary'] = (df['min_salary']+df['max_salary'])/2"
   ]
  },
  {
   "cell_type": "code",
   "execution_count": 34,
   "metadata": {},
   "outputs": [
    {
     "data": {
      "text/plain": [
       "6750.0"
      ]
     },
     "execution_count": 34,
     "metadata": {},
     "output_type": "execute_result"
    }
   ],
   "source": [
    "df['avg_salary'].median()\n"
   ]
  },
  {
   "cell_type": "code",
   "execution_count": 35,
   "metadata": {},
   "outputs": [],
   "source": [
    "#creating a column denoting salarys less than median average salary as 0 and above to be 1\n",
    "\n",
    "df['salary_med']=df.avg_salary.apply(lambda x: 1 if x>= 6750 else 0)"
   ]
  },
  {
   "cell_type": "code",
   "execution_count": 36,
   "metadata": {},
   "outputs": [
    {
     "data": {
      "text/html": [
       "<div>\n",
       "<style scoped>\n",
       "    .dataframe tbody tr th:only-of-type {\n",
       "        vertical-align: middle;\n",
       "    }\n",
       "\n",
       "    .dataframe tbody tr th {\n",
       "        vertical-align: top;\n",
       "    }\n",
       "\n",
       "    .dataframe thead th {\n",
       "        text-align: right;\n",
       "    }\n",
       "</style>\n",
       "<table border=\"1\" class=\"dataframe\">\n",
       "  <thead>\n",
       "    <tr style=\"text-align: right;\">\n",
       "      <th></th>\n",
       "      <th>job_titles</th>\n",
       "      <th>companys</th>\n",
       "      <th>employment_type</th>\n",
       "      <th>seniority</th>\n",
       "      <th>industrys</th>\n",
       "      <th>salary</th>\n",
       "      <th>salary_terms</th>\n",
       "      <th>job_descriptions</th>\n",
       "      <th>job_requirements</th>\n",
       "      <th>links</th>\n",
       "      <th>location</th>\n",
       "      <th>gov_support</th>\n",
       "      <th>min_salary</th>\n",
       "      <th>max_salary</th>\n",
       "      <th>avg_salary</th>\n",
       "      <th>salary_med</th>\n",
       "    </tr>\n",
       "  </thead>\n",
       "  <tbody>\n",
       "    <tr>\n",
       "      <th>0</th>\n",
       "      <td>Data Engineer</td>\n",
       "      <td>GRABTAXI HOLDINGS PTE. LTD.</td>\n",
       "      <td>Full Time</td>\n",
       "      <td>Professional</td>\n",
       "      <td>Engineering</td>\n",
       "      <td>6000to10000</td>\n",
       "      <td>Monthly</td>\n",
       "      <td>Build, deploy and manage big data solutions t...</td>\n",
       "      <td>A degree or higher in Computer Science, Elec...</td>\n",
       "      <td>https://www.mycareersfuture.sg/job/data-engine...</td>\n",
       "      <td>Central</td>\n",
       "      <td>yes</td>\n",
       "      <td>6000</td>\n",
       "      <td>10000</td>\n",
       "      <td>8000.0</td>\n",
       "      <td>1</td>\n",
       "    </tr>\n",
       "    <tr>\n",
       "      <th>1</th>\n",
       "      <td>Data Engineer</td>\n",
       "      <td>MOKA TECHNOLOGY SOLUTIONS PTE. LTD.</td>\n",
       "      <td>Permanent</td>\n",
       "      <td>Professional</td>\n",
       "      <td>Engineering</td>\n",
       "      <td>5000to7000</td>\n",
       "      <td>Monthly</td>\n",
       "      <td>Do you have a passion for data? Are you lookin...</td>\n",
       "      <td>You have:  BS (MS preferred) in Computer Scien...</td>\n",
       "      <td>https://www.mycareersfuture.sg/job/data-engine...</td>\n",
       "      <td>North</td>\n",
       "      <td>yes</td>\n",
       "      <td>5000</td>\n",
       "      <td>7000</td>\n",
       "      <td>6000.0</td>\n",
       "      <td>0</td>\n",
       "    </tr>\n",
       "    <tr>\n",
       "      <th>2</th>\n",
       "      <td>Data Engineer</td>\n",
       "      <td>TITANSOFT PTE. LTD.</td>\n",
       "      <td>Permanent</td>\n",
       "      <td>Executive</td>\n",
       "      <td>Professional Services</td>\n",
       "      <td>3000to8000</td>\n",
       "      <td>Monthly</td>\n",
       "      <td>If you believe data makes the world go round, ...</td>\n",
       "      <td>What we are looking for in a Data Engineer Qua...</td>\n",
       "      <td>https://www.mycareersfuture.sg/job/data-engine...</td>\n",
       "      <td>Central</td>\n",
       "      <td>yes</td>\n",
       "      <td>3000</td>\n",
       "      <td>8000</td>\n",
       "      <td>5500.0</td>\n",
       "      <td>0</td>\n",
       "    </tr>\n",
       "    <tr>\n",
       "      <th>3</th>\n",
       "      <td>Senior ETL and DATA Engineer</td>\n",
       "      <td>SMARTSOFT PTE. LTD.</td>\n",
       "      <td>Full Time</td>\n",
       "      <td>Senior Executive</td>\n",
       "      <td>Information Technology</td>\n",
       "      <td>6000to11000</td>\n",
       "      <td>Monthly</td>\n",
       "      <td>Responsibilities include understanding ETL &amp;...</td>\n",
       "      <td>Experiences:  Must have 4 to 6 years of experi...</td>\n",
       "      <td>https://www.mycareersfuture.sg/job/senior-etl-...</td>\n",
       "      <td>Islandwide</td>\n",
       "      <td>no</td>\n",
       "      <td>6000</td>\n",
       "      <td>11000</td>\n",
       "      <td>8500.0</td>\n",
       "      <td>1</td>\n",
       "    </tr>\n",
       "    <tr>\n",
       "      <th>4</th>\n",
       "      <td>Senior ETL and Data Engineer</td>\n",
       "      <td>SCHELLDEN GLOBAL SERVICES</td>\n",
       "      <td>Full Time</td>\n",
       "      <td>Senior Executive</td>\n",
       "      <td>Information Technology</td>\n",
       "      <td>6000to11000</td>\n",
       "      <td>Monthly</td>\n",
       "      <td>Responsibilities include understanding ETL &amp; D...</td>\n",
       "      <td>Must have 4 to 6 years of experience using SQ...</td>\n",
       "      <td>https://www.mycareersfuture.sg/job/senior-etl-...</td>\n",
       "      <td>Islandwide</td>\n",
       "      <td>no</td>\n",
       "      <td>6000</td>\n",
       "      <td>11000</td>\n",
       "      <td>8500.0</td>\n",
       "      <td>1</td>\n",
       "    </tr>\n",
       "  </tbody>\n",
       "</table>\n",
       "</div>"
      ],
      "text/plain": [
       "                     job_titles                             companys  \\\n",
       "0                 Data Engineer          GRABTAXI HOLDINGS PTE. LTD.   \n",
       "1                 Data Engineer  MOKA TECHNOLOGY SOLUTIONS PTE. LTD.   \n",
       "2                 Data Engineer                  TITANSOFT PTE. LTD.   \n",
       "3  Senior ETL and DATA Engineer                  SMARTSOFT PTE. LTD.   \n",
       "4  Senior ETL and Data Engineer            SCHELLDEN GLOBAL SERVICES   \n",
       "\n",
       "  employment_type         seniority               industrys       salary  \\\n",
       "0       Full Time      Professional             Engineering  6000to10000   \n",
       "1       Permanent      Professional             Engineering   5000to7000   \n",
       "2       Permanent         Executive   Professional Services   3000to8000   \n",
       "3       Full Time  Senior Executive  Information Technology  6000to11000   \n",
       "4       Full Time  Senior Executive  Information Technology  6000to11000   \n",
       "\n",
       "  salary_terms                                   job_descriptions  \\\n",
       "0      Monthly   Build, deploy and manage big data solutions t...   \n",
       "1      Monthly  Do you have a passion for data? Are you lookin...   \n",
       "2      Monthly  If you believe data makes the world go round, ...   \n",
       "3      Monthly    Responsibilities include understanding ETL &...   \n",
       "4      Monthly  Responsibilities include understanding ETL & D...   \n",
       "\n",
       "                                    job_requirements  \\\n",
       "0    A degree or higher in Computer Science, Elec...   \n",
       "1  You have:  BS (MS preferred) in Computer Scien...   \n",
       "2  What we are looking for in a Data Engineer Qua...   \n",
       "3  Experiences:  Must have 4 to 6 years of experi...   \n",
       "4   Must have 4 to 6 years of experience using SQ...   \n",
       "\n",
       "                                               links    location gov_support  \\\n",
       "0  https://www.mycareersfuture.sg/job/data-engine...     Central         yes   \n",
       "1  https://www.mycareersfuture.sg/job/data-engine...       North         yes   \n",
       "2  https://www.mycareersfuture.sg/job/data-engine...     Central         yes   \n",
       "3  https://www.mycareersfuture.sg/job/senior-etl-...  Islandwide          no   \n",
       "4  https://www.mycareersfuture.sg/job/senior-etl-...  Islandwide          no   \n",
       "\n",
       "   min_salary  max_salary  avg_salary  salary_med  \n",
       "0        6000       10000      8000.0           1  \n",
       "1        5000        7000      6000.0           0  \n",
       "2        3000        8000      5500.0           0  \n",
       "3        6000       11000      8500.0           1  \n",
       "4        6000       11000      8500.0           1  "
      ]
     },
     "execution_count": 36,
     "metadata": {},
     "output_type": "execute_result"
    }
   ],
   "source": [
    "df.head()"
   ]
  },
  {
   "cell_type": "code",
   "execution_count": 37,
   "metadata": {},
   "outputs": [
    {
     "data": {
      "text/plain": [
       "1    391\n",
       "0    363\n",
       "Name: salary_med, dtype: int64"
      ]
     },
     "execution_count": 37,
     "metadata": {},
     "output_type": "execute_result"
    }
   ],
   "source": [
    "#this is a balanced class, so normal classification problem \n",
    "\n",
    "df['salary_med'].value_counts()"
   ]
  },
  {
   "cell_type": "markdown",
   "metadata": {},
   "source": [
    "### 8. locations"
   ]
  },
  {
   "cell_type": "code",
   "execution_count": 38,
   "metadata": {},
   "outputs": [
    {
     "data": {
      "text/plain": [
       "Central                        299\n",
       "East                           117\n",
       "South                          111\n",
       "Islandwide                      80\n",
       "West                            62\n",
       "North                           22\n",
       "East, Central                    4\n",
       "South, Central                   4\n",
       "North, Central                   4\n",
       "South, East, Central             2\n",
       "North, South, East, Central      1\n",
       "East, West                       1\n",
       "North, West                      1\n",
       "Name: location, dtype: int64"
      ]
     },
     "execution_count": 38,
     "metadata": {},
     "output_type": "execute_result"
    }
   ],
   "source": [
    "df.location.value_counts()"
   ]
  },
  {
   "cell_type": "code",
   "execution_count": 39,
   "metadata": {},
   "outputs": [],
   "source": [
    "#fill the null value by NA\n",
    "df.location=df.location.fillna(\"NA\")"
   ]
  },
  {
   "cell_type": "code",
   "execution_count": 40,
   "metadata": {},
   "outputs": [],
   "source": [
    "#split the employment_type column to reduce the length \n",
    "df.location=df.location.apply(lambda x: x.split(',')[0])"
   ]
  },
  {
   "cell_type": "code",
   "execution_count": 41,
   "metadata": {},
   "outputs": [
    {
     "data": {
      "text/plain": [
       "Central       299\n",
       "East          122\n",
       "South         117\n",
       "Islandwide     80\n",
       "West           62\n",
       "NA             46\n",
       "North          28\n",
       "Name: location, dtype: int64"
      ]
     },
     "execution_count": 41,
     "metadata": {},
     "output_type": "execute_result"
    }
   ],
   "source": [
    "df.location.value_counts()"
   ]
  },
  {
   "cell_type": "markdown",
   "metadata": {},
   "source": [
    "### 9. industrys"
   ]
  },
  {
   "cell_type": "code",
   "execution_count": 42,
   "metadata": {},
   "outputs": [],
   "source": [
    "#fill the null value by NA\n",
    "df.industrys=df.industrys.fillna(\"NA\")"
   ]
  },
  {
   "cell_type": "code",
   "execution_count": 43,
   "metadata": {},
   "outputs": [
    {
     "data": {
      "text/plain": [
       "Information Technology                                                                                          340\n",
       "Banking and Finance                                                                                              48\n",
       "Sciences / Laboratory / R&D                                                                                      47\n",
       "Engineering                                                                                                      47\n",
       "Information Technology, Public / Civil Service                                                                   40\n",
       "Others                                                                                                           33\n",
       "Engineering, Information Technology                                                                              18\n",
       "Engineering, Sciences / Laboratory / R&D                                                                         16\n",
       "Consulting                                                                                                       13\n",
       "Banking and Finance, Information Technology                                                                      11\n",
       "Consulting , Banking and Finance, Information Technology                                                         11\n",
       "Logistics / Supply Chain                                                                                          8\n",
       "Advertising / Media                                                                                               7\n",
       "Admin / Secretarial                                                                                               7\n",
       "Engineering, Manufacturing                                                                                        7\n",
       "Engineering, Information Technology, Sciences / Laboratory / R&D                                                  6\n",
       "Sales / Retail                                                                                                    6\n",
       "Information Technology, Sciences / Laboratory / R&D                                                               6\n",
       "Human Resources                                                                                                   6\n",
       "Consulting , Information Technology                                                                               5\n",
       "Marketing / Public Relations                                                                                      5\n",
       "Professional Services                                                                                             4\n",
       "General Management                                                                                                3\n",
       "Accounting / Auditing / Taxation, Information Technology                                                          3\n",
       "Education and Training                                                                                            3\n",
       "Accounting / Auditing / Taxation                                                                                  3\n",
       "Information Technology, Others                                                                                    3\n",
       "Healthcare / Pharmaceutical                                                                                       2\n",
       "Public / Civil Service                                                                                            2\n",
       "Education and Training, Public / Civil Service                                                                    2\n",
       "                                                                                                               ... \n",
       "Banking and Finance, Engineering, Others                                                                          1\n",
       "Information Technology, Manufacturing                                                                             1\n",
       "Engineering, Information Technology, Others, Sciences / Laboratory / R&D, Telecommunications                      1\n",
       "Advertising / Media , Marketing / Public Relations                                                                1\n",
       "Design, Engineering                                                                                               1\n",
       "Design                                                                                                            1\n",
       "Advertising / Media , Professional Services                                                                       1\n",
       "Engineering, Human Resources , Information Technology, Others, Professional Services                              1\n",
       "Admin / Secretarial, Advertising / Media , Social Services, Education and Training                                1\n",
       "Advertising / Media , Information Technology, Sales / Retail                                                      1\n",
       "Others, Sciences / Laboratory / R&D                                                                               1\n",
       "Education and Training, Engineering, Sciences / Laboratory / R&D                                                  1\n",
       "Medical / Therapy Services                                                                                        1\n",
       "Building and Construction, Design, Engineering, Information Technology                                            1\n",
       "Consulting , Risk Management, Banking and Finance                                                                 1\n",
       "Insurance                                                                                                         1\n",
       "Engineering, Information Technology, Insurance                                                                    1\n",
       "Manufacturing, Others                                                                                             1\n",
       "Admin / Secretarial, Education and Training, Marketing / Public Relations                                         1\n",
       "Information Technology, Logistics / Supply Chain, Manufacturing, Purchasing / Merchandising, Sales / Retail       1\n",
       "Customer Service                                                                                                  1\n",
       "Real Estate / Property Management                                                                                 1\n",
       "Engineering, Information Technology, Manufacturing                                                                1\n",
       "Consulting , General Management, Professional Services                                                            1\n",
       "Telecommunications                                                                                                1\n",
       "Environment / Health  , Healthcare / Pharmaceutical, Medical / Therapy Services                                   1\n",
       "Engineering, Information Technology, Others, Telecommunications                                                   1\n",
       "Advertising / Media , Consulting , Marketing / Public Relations                                                   1\n",
       "Consulting , Banking and Finance                                                                                  1\n",
       "Risk Management, Healthcare / Pharmaceutical, Information Technology                                              1\n",
       "Name: industrys, Length: 69, dtype: int64"
      ]
     },
     "execution_count": 43,
     "metadata": {},
     "output_type": "execute_result"
    }
   ],
   "source": [
    "df.industrys.value_counts()"
   ]
  },
  {
   "cell_type": "code",
   "execution_count": 44,
   "metadata": {},
   "outputs": [],
   "source": [
    "#split the employment_type column to reduce the length \n",
    "df.industrys=df.industrys.apply(lambda x: x.split('/')[0])"
   ]
  },
  {
   "cell_type": "code",
   "execution_count": 45,
   "metadata": {},
   "outputs": [],
   "source": [
    "#split the employment_type column to reduce the length \n",
    "df.industrys=df.industrys.apply(lambda x: x.split(',')[0])"
   ]
  },
  {
   "cell_type": "code",
   "execution_count": 46,
   "metadata": {},
   "outputs": [
    {
     "data": {
      "text/plain": [
       "Information Technology       393\n",
       "Engineering                  101\n",
       "Banking and Finance           60\n",
       "Sciences                      47\n",
       "Others                        34\n",
       "Consulting                    32\n",
       "Advertising                   12\n",
       "Logistics                     10\n",
       "Admin                          9\n",
       "Education and Training         7\n",
       "Sales                          6\n",
       "Accounting                     6\n",
       "Human Resources                6\n",
       "Marketing                      5\n",
       "Professional Services          4\n",
       "General Management             3\n",
       "Risk Management                3\n",
       "Public                         2\n",
       "Healthcare                     2\n",
       "Customer Service               2\n",
       "Design                         2\n",
       "Insurance                      1\n",
       "Environment                    1\n",
       "Medical                        1\n",
       "Building and Construction      1\n",
       "Real Estate                    1\n",
       "Telecommunications             1\n",
       "Manufacturing                  1\n",
       "Events                         1\n",
       "Name: industrys, dtype: int64"
      ]
     },
     "execution_count": 46,
     "metadata": {},
     "output_type": "execute_result"
    }
   ],
   "source": [
    "df.industrys.value_counts()"
   ]
  },
  {
   "cell_type": "code",
   "execution_count": 47,
   "metadata": {},
   "outputs": [],
   "source": [
    "#removing the irrelevant industry \n",
    "\n",
    "df = df[df.industrys.isin(['Information Technology','Engineering', 'Banking and Finance'])]\n",
    "\n"
   ]
  },
  {
   "cell_type": "code",
   "execution_count": 48,
   "metadata": {},
   "outputs": [
    {
     "data": {
      "text/plain": [
       "Information Technology    393\n",
       "Engineering               101\n",
       "Banking and Finance        60\n",
       "Name: industrys, dtype: int64"
      ]
     },
     "execution_count": 48,
     "metadata": {},
     "output_type": "execute_result"
    }
   ],
   "source": [
    "df.industrys.value_counts()"
   ]
  },
  {
   "cell_type": "code",
   "execution_count": 49,
   "metadata": {},
   "outputs": [
    {
     "data": {
      "text/plain": [
       "(554, 16)"
      ]
     },
     "execution_count": 49,
     "metadata": {},
     "output_type": "execute_result"
    }
   ],
   "source": [
    "df.shape\n",
    "\n"
   ]
  },
  {
   "cell_type": "markdown",
   "metadata": {},
   "source": [
    "### 10. job_requirements"
   ]
  },
  {
   "cell_type": "code",
   "execution_count": 50,
   "metadata": {},
   "outputs": [
    {
     "data": {
      "text/plain": [
       "42"
      ]
     },
     "execution_count": 50,
     "metadata": {},
     "output_type": "execute_result"
    }
   ],
   "source": [
    "df.job_requirements.isnull().sum()"
   ]
  },
  {
   "cell_type": "code",
   "execution_count": 51,
   "metadata": {},
   "outputs": [],
   "source": [
    "#fill the null value by NA\n",
    "df.job_requirements=df.job_requirements.fillna(\"NA\")"
   ]
  },
  {
   "cell_type": "code",
   "execution_count": 52,
   "metadata": {
    "scrolled": true
   },
   "outputs": [
    {
     "data": {
      "text/html": [
       "<div>\n",
       "<style scoped>\n",
       "    .dataframe tbody tr th:only-of-type {\n",
       "        vertical-align: middle;\n",
       "    }\n",
       "\n",
       "    .dataframe tbody tr th {\n",
       "        vertical-align: top;\n",
       "    }\n",
       "\n",
       "    .dataframe thead th {\n",
       "        text-align: right;\n",
       "    }\n",
       "</style>\n",
       "<table border=\"1\" class=\"dataframe\">\n",
       "  <thead>\n",
       "    <tr style=\"text-align: right;\">\n",
       "      <th></th>\n",
       "      <th>job_titles</th>\n",
       "      <th>companys</th>\n",
       "      <th>employment_type</th>\n",
       "      <th>seniority</th>\n",
       "      <th>industrys</th>\n",
       "      <th>salary</th>\n",
       "      <th>salary_terms</th>\n",
       "      <th>job_descriptions</th>\n",
       "      <th>job_requirements</th>\n",
       "      <th>links</th>\n",
       "      <th>location</th>\n",
       "      <th>gov_support</th>\n",
       "      <th>min_salary</th>\n",
       "      <th>max_salary</th>\n",
       "      <th>avg_salary</th>\n",
       "      <th>salary_med</th>\n",
       "    </tr>\n",
       "  </thead>\n",
       "  <tbody>\n",
       "    <tr>\n",
       "      <th>0</th>\n",
       "      <td>Data Engineer</td>\n",
       "      <td>GRABTAXI HOLDINGS PTE. LTD.</td>\n",
       "      <td>Full Time</td>\n",
       "      <td>Professional</td>\n",
       "      <td>Engineering</td>\n",
       "      <td>6000to10000</td>\n",
       "      <td>Monthly</td>\n",
       "      <td>Build, deploy and manage big data solutions t...</td>\n",
       "      <td>A degree or higher in Computer Science, Elec...</td>\n",
       "      <td>https://www.mycareersfuture.sg/job/data-engine...</td>\n",
       "      <td>Central</td>\n",
       "      <td>yes</td>\n",
       "      <td>6000</td>\n",
       "      <td>10000</td>\n",
       "      <td>8000.0</td>\n",
       "      <td>1</td>\n",
       "    </tr>\n",
       "    <tr>\n",
       "      <th>1</th>\n",
       "      <td>Data Engineer</td>\n",
       "      <td>MOKA TECHNOLOGY SOLUTIONS PTE. LTD.</td>\n",
       "      <td>Permanent</td>\n",
       "      <td>Professional</td>\n",
       "      <td>Engineering</td>\n",
       "      <td>5000to7000</td>\n",
       "      <td>Monthly</td>\n",
       "      <td>Do you have a passion for data? Are you lookin...</td>\n",
       "      <td>You have:  BS (MS preferred) in Computer Scien...</td>\n",
       "      <td>https://www.mycareersfuture.sg/job/data-engine...</td>\n",
       "      <td>North</td>\n",
       "      <td>yes</td>\n",
       "      <td>5000</td>\n",
       "      <td>7000</td>\n",
       "      <td>6000.0</td>\n",
       "      <td>0</td>\n",
       "    </tr>\n",
       "    <tr>\n",
       "      <th>3</th>\n",
       "      <td>Senior ETL and DATA Engineer</td>\n",
       "      <td>SMARTSOFT PTE. LTD.</td>\n",
       "      <td>Full Time</td>\n",
       "      <td>Senior Executive</td>\n",
       "      <td>Information Technology</td>\n",
       "      <td>6000to11000</td>\n",
       "      <td>Monthly</td>\n",
       "      <td>Responsibilities include understanding ETL &amp;...</td>\n",
       "      <td>Experiences:  Must have 4 to 6 years of experi...</td>\n",
       "      <td>https://www.mycareersfuture.sg/job/senior-etl-...</td>\n",
       "      <td>Islandwide</td>\n",
       "      <td>no</td>\n",
       "      <td>6000</td>\n",
       "      <td>11000</td>\n",
       "      <td>8500.0</td>\n",
       "      <td>1</td>\n",
       "    </tr>\n",
       "    <tr>\n",
       "      <th>4</th>\n",
       "      <td>Senior ETL and Data Engineer</td>\n",
       "      <td>SCHELLDEN GLOBAL SERVICES</td>\n",
       "      <td>Full Time</td>\n",
       "      <td>Senior Executive</td>\n",
       "      <td>Information Technology</td>\n",
       "      <td>6000to11000</td>\n",
       "      <td>Monthly</td>\n",
       "      <td>Responsibilities include understanding ETL &amp; D...</td>\n",
       "      <td>Must have 4 to 6 years of experience using SQ...</td>\n",
       "      <td>https://www.mycareersfuture.sg/job/senior-etl-...</td>\n",
       "      <td>Islandwide</td>\n",
       "      <td>no</td>\n",
       "      <td>6000</td>\n",
       "      <td>11000</td>\n",
       "      <td>8500.0</td>\n",
       "      <td>1</td>\n",
       "    </tr>\n",
       "    <tr>\n",
       "      <th>5</th>\n",
       "      <td>Senior ETL and Data Engineer</td>\n",
       "      <td>SCHELLDEN GLOBAL PTE. LTD.</td>\n",
       "      <td>Full Time</td>\n",
       "      <td>Senior Executive</td>\n",
       "      <td>Information Technology</td>\n",
       "      <td>6000to11000</td>\n",
       "      <td>Monthly</td>\n",
       "      <td>Responsibilities include understanding ETL &amp; D...</td>\n",
       "      <td>Experiences:  Must have 4 to 6 years of experi...</td>\n",
       "      <td>https://www.mycareersfuture.sg/job/senior-etl-...</td>\n",
       "      <td>Islandwide</td>\n",
       "      <td>no</td>\n",
       "      <td>6000</td>\n",
       "      <td>11000</td>\n",
       "      <td>8500.0</td>\n",
       "      <td>1</td>\n",
       "    </tr>\n",
       "  </tbody>\n",
       "</table>\n",
       "</div>"
      ],
      "text/plain": [
       "                     job_titles                             companys  \\\n",
       "0                 Data Engineer          GRABTAXI HOLDINGS PTE. LTD.   \n",
       "1                 Data Engineer  MOKA TECHNOLOGY SOLUTIONS PTE. LTD.   \n",
       "3  Senior ETL and DATA Engineer                  SMARTSOFT PTE. LTD.   \n",
       "4  Senior ETL and Data Engineer            SCHELLDEN GLOBAL SERVICES   \n",
       "5  Senior ETL and Data Engineer           SCHELLDEN GLOBAL PTE. LTD.   \n",
       "\n",
       "  employment_type         seniority               industrys       salary  \\\n",
       "0       Full Time      Professional             Engineering  6000to10000   \n",
       "1       Permanent      Professional             Engineering   5000to7000   \n",
       "3       Full Time  Senior Executive  Information Technology  6000to11000   \n",
       "4       Full Time  Senior Executive  Information Technology  6000to11000   \n",
       "5       Full Time  Senior Executive  Information Technology  6000to11000   \n",
       "\n",
       "  salary_terms                                   job_descriptions  \\\n",
       "0      Monthly   Build, deploy and manage big data solutions t...   \n",
       "1      Monthly  Do you have a passion for data? Are you lookin...   \n",
       "3      Monthly    Responsibilities include understanding ETL &...   \n",
       "4      Monthly  Responsibilities include understanding ETL & D...   \n",
       "5      Monthly  Responsibilities include understanding ETL & D...   \n",
       "\n",
       "                                    job_requirements  \\\n",
       "0    A degree or higher in Computer Science, Elec...   \n",
       "1  You have:  BS (MS preferred) in Computer Scien...   \n",
       "3  Experiences:  Must have 4 to 6 years of experi...   \n",
       "4   Must have 4 to 6 years of experience using SQ...   \n",
       "5  Experiences:  Must have 4 to 6 years of experi...   \n",
       "\n",
       "                                               links    location gov_support  \\\n",
       "0  https://www.mycareersfuture.sg/job/data-engine...     Central         yes   \n",
       "1  https://www.mycareersfuture.sg/job/data-engine...       North         yes   \n",
       "3  https://www.mycareersfuture.sg/job/senior-etl-...  Islandwide          no   \n",
       "4  https://www.mycareersfuture.sg/job/senior-etl-...  Islandwide          no   \n",
       "5  https://www.mycareersfuture.sg/job/senior-etl-...  Islandwide          no   \n",
       "\n",
       "   min_salary  max_salary  avg_salary  salary_med  \n",
       "0        6000       10000      8000.0           1  \n",
       "1        5000        7000      6000.0           0  \n",
       "3        6000       11000      8500.0           1  \n",
       "4        6000       11000      8500.0           1  \n",
       "5        6000       11000      8500.0           1  "
      ]
     },
     "execution_count": 52,
     "metadata": {},
     "output_type": "execute_result"
    }
   ],
   "source": [
    "df.head()"
   ]
  },
  {
   "cell_type": "markdown",
   "metadata": {},
   "source": [
    "### 11. salary_terms"
   ]
  },
  {
   "cell_type": "code",
   "execution_count": 53,
   "metadata": {},
   "outputs": [
    {
     "data": {
      "text/plain": [
       "Monthly     542\n",
       "Annually     12\n",
       "Name: salary_terms, dtype: int64"
      ]
     },
     "execution_count": 53,
     "metadata": {},
     "output_type": "execute_result"
    }
   ],
   "source": [
    "df.salary_terms.value_counts()"
   ]
  },
  {
   "cell_type": "code",
   "execution_count": 54,
   "metadata": {},
   "outputs": [],
   "source": [
    "#As we are not sure whether the annual salary terms includes the bonus or 13 month salary,\n",
    "#it would affect our predictions thereby removing the entries with annual salary terms. \n",
    "\n",
    "df = df[df.salary_terms != 'Annually']"
   ]
  },
  {
   "cell_type": "code",
   "execution_count": 55,
   "metadata": {},
   "outputs": [
    {
     "data": {
      "text/plain": [
       "Monthly    542\n",
       "Name: salary_terms, dtype: int64"
      ]
     },
     "execution_count": 55,
     "metadata": {},
     "output_type": "execute_result"
    }
   ],
   "source": [
    "df.salary_terms.value_counts()"
   ]
  },
  {
   "cell_type": "code",
   "execution_count": 56,
   "metadata": {},
   "outputs": [
    {
     "data": {
      "text/plain": [
       "1    289\n",
       "0    253\n",
       "Name: salary_med, dtype: int64"
      ]
     },
     "execution_count": 56,
     "metadata": {},
     "output_type": "execute_result"
    }
   ],
   "source": [
    "\n",
    "df['salary_med'].value_counts()"
   ]
  },
  {
   "cell_type": "markdown",
   "metadata": {},
   "source": [
    "## NLP for extracting features for job description, requirements and titles"
   ]
  },
  {
   "cell_type": "markdown",
   "metadata": {},
   "source": [
    "### LDA - Job descriptions\n",
    "### Preprocessing"
   ]
  },
  {
   "cell_type": "code",
   "execution_count": 57,
   "metadata": {},
   "outputs": [],
   "source": [
    "from sklearn.feature_extraction.text import CountVectorizer"
   ]
  },
  {
   "cell_type": "code",
   "execution_count": 58,
   "metadata": {},
   "outputs": [],
   "source": [
    "cv = CountVectorizer(max_df=0.95, min_df=2, stop_words='english')"
   ]
  },
  {
   "cell_type": "code",
   "execution_count": 59,
   "metadata": {},
   "outputs": [],
   "source": [
    "job_des = cv.fit_transform(df['job_descriptions'])\n"
   ]
  },
  {
   "cell_type": "code",
   "execution_count": 60,
   "metadata": {},
   "outputs": [
    {
     "data": {
      "text/plain": [
       "<542x3928 sparse matrix of type '<class 'numpy.int64'>'\n",
       "\twith 53534 stored elements in Compressed Sparse Row format>"
      ]
     },
     "execution_count": 60,
     "metadata": {},
     "output_type": "execute_result"
    }
   ],
   "source": [
    "job_des"
   ]
  },
  {
   "cell_type": "markdown",
   "metadata": {},
   "source": [
    "### LDA"
   ]
  },
  {
   "cell_type": "code",
   "execution_count": 61,
   "metadata": {},
   "outputs": [],
   "source": [
    "from sklearn.decomposition import LatentDirichletAllocation"
   ]
  },
  {
   "cell_type": "code",
   "execution_count": 62,
   "metadata": {},
   "outputs": [],
   "source": [
    "LDA = LatentDirichletAllocation(n_components=10,random_state=42)"
   ]
  },
  {
   "cell_type": "code",
   "execution_count": 63,
   "metadata": {},
   "outputs": [
    {
     "data": {
      "text/plain": [
       "LatentDirichletAllocation(batch_size=128, doc_topic_prior=None,\n",
       "             evaluate_every=-1, learning_decay=0.7,\n",
       "             learning_method='batch', learning_offset=10.0,\n",
       "             max_doc_update_iter=100, max_iter=10, mean_change_tol=0.001,\n",
       "             n_components=10, n_jobs=None, n_topics=None, perp_tol=0.1,\n",
       "             random_state=42, topic_word_prior=None,\n",
       "             total_samples=1000000.0, verbose=0)"
      ]
     },
     "execution_count": 63,
     "metadata": {},
     "output_type": "execute_result"
    }
   ],
   "source": [
    "# This can take awhile, we're dealing with a large amount of documents!\n",
    "LDA.fit(job_des)"
   ]
  },
  {
   "cell_type": "code",
   "execution_count": 64,
   "metadata": {},
   "outputs": [
    {
     "data": {
      "text/plain": [
       "3928"
      ]
     },
     "execution_count": 64,
     "metadata": {},
     "output_type": "execute_result"
    }
   ],
   "source": [
    "len(cv.get_feature_names())"
   ]
  },
  {
   "cell_type": "code",
   "execution_count": 65,
   "metadata": {},
   "outputs": [],
   "source": [
    "import random"
   ]
  },
  {
   "cell_type": "code",
   "execution_count": 66,
   "metadata": {},
   "outputs": [
    {
     "name": "stdout",
     "output_type": "stream",
     "text": [
      "arise\n",
      "path\n",
      "family\n",
      "execute\n",
      "compromised\n",
      "maintains\n",
      "centralised\n",
      "application\n",
      "organizations\n",
      "proponents\n"
     ]
    }
   ],
   "source": [
    "for i in range(10):\n",
    "    random_word_id = random.randint(0,3271)\n",
    "    print(cv.get_feature_names()[random_word_id])"
   ]
  },
  {
   "cell_type": "code",
   "execution_count": 67,
   "metadata": {},
   "outputs": [
    {
     "data": {
      "text/plain": [
       "10"
      ]
     },
     "execution_count": 67,
     "metadata": {},
     "output_type": "execute_result"
    }
   ],
   "source": [
    "len(LDA.components_)"
   ]
  },
  {
   "cell_type": "code",
   "execution_count": 68,
   "metadata": {},
   "outputs": [
    {
     "data": {
      "text/plain": [
       "array([[0.10001953, 0.98145193, 0.10000634, ..., 0.10001599, 0.1       ,\n",
       "        0.1       ],\n",
       "       [0.10001342, 0.10000233, 2.51752218, ..., 0.1       , 0.1       ,\n",
       "        0.1       ],\n",
       "       [0.1       , 0.1000027 , 0.10000209, ..., 2.10000476, 0.10000204,\n",
       "        0.1       ],\n",
       "       ...,\n",
       "       [0.10000491, 0.1       , 0.1       , ..., 0.10000158, 5.09999508,\n",
       "        0.1       ],\n",
       "       [0.10001427, 0.10000763, 4.05169111, ..., 2.32724084, 0.10000033,\n",
       "        4.1       ],\n",
       "       [0.10000097, 0.1       , 0.10000193, ..., 0.1000212 , 0.10000017,\n",
       "        0.1       ]])"
      ]
     },
     "execution_count": 68,
     "metadata": {},
     "output_type": "execute_result"
    }
   ],
   "source": [
    "LDA.components_"
   ]
  },
  {
   "cell_type": "code",
   "execution_count": 69,
   "metadata": {},
   "outputs": [
    {
     "data": {
      "text/plain": [
       "3928"
      ]
     },
     "execution_count": 69,
     "metadata": {},
     "output_type": "execute_result"
    }
   ],
   "source": [
    "len(LDA.components_[0])"
   ]
  },
  {
   "cell_type": "code",
   "execution_count": 70,
   "metadata": {},
   "outputs": [],
   "source": [
    "single_topic = LDA.components_[0]"
   ]
  },
  {
   "cell_type": "code",
   "execution_count": 71,
   "metadata": {},
   "outputs": [
    {
     "data": {
      "text/plain": [
       "array([2331,  768, 1141, ..., 1326, 2030,  922])"
      ]
     },
     "execution_count": 71,
     "metadata": {},
     "output_type": "execute_result"
    }
   ],
   "source": [
    "# Returns the indices that would sort this array.\n",
    "single_topic.argsort()"
   ]
  },
  {
   "cell_type": "code",
   "execution_count": 72,
   "metadata": {},
   "outputs": [
    {
     "data": {
      "text/plain": [
       "0.10000000000108517"
      ]
     },
     "execution_count": 72,
     "metadata": {},
     "output_type": "execute_result"
    }
   ],
   "source": [
    "# Word least representative of this topic\n",
    "single_topic[768]"
   ]
  },
  {
   "cell_type": "code",
   "execution_count": 73,
   "metadata": {},
   "outputs": [
    {
     "data": {
      "text/plain": [
       "324.57452997439776"
      ]
     },
     "execution_count": 73,
     "metadata": {},
     "output_type": "execute_result"
    }
   ],
   "source": [
    "# Word most representative of this topic\n",
    "single_topic[922]"
   ]
  },
  {
   "cell_type": "code",
   "execution_count": 74,
   "metadata": {},
   "outputs": [
    {
     "data": {
      "text/plain": [
       "array([2996, 3892, 1031, 3280,  172, 3147, 2119, 1326, 2030,  922])"
      ]
     },
     "execution_count": 74,
     "metadata": {},
     "output_type": "execute_result"
    }
   ],
   "source": [
    "# Top 10 words for this topic:\n",
    "single_topic.argsort()[-10:]"
   ]
  },
  {
   "cell_type": "code",
   "execution_count": 75,
   "metadata": {},
   "outputs": [],
   "source": [
    "top_word_indices = single_topic.argsort()[-10:]"
   ]
  },
  {
   "cell_type": "code",
   "execution_count": 76,
   "metadata": {},
   "outputs": [
    {
     "name": "stdout",
     "output_type": "stream",
     "text": [
      "research\n",
      "work\n",
      "development\n",
      "skills\n",
      "ai\n",
      "science\n",
      "machine\n",
      "experience\n",
      "learning\n",
      "data\n"
     ]
    }
   ],
   "source": [
    "for index in top_word_indices:\n",
    "    print(cv.get_feature_names()[index])"
   ]
  },
  {
   "cell_type": "code",
   "execution_count": 77,
   "metadata": {},
   "outputs": [
    {
     "name": "stdout",
     "output_type": "stream",
     "text": [
      "THE TOP 15 WORDS FOR TOPIC #0\n",
      "['software', 'solutions', 'business', 'develop', 'analytics', 'research', 'work', 'development', 'skills', 'ai', 'science', 'machine', 'experience', 'learning', 'data']\n",
      "\n",
      "\n",
      "THE TOP 15 WORDS FOR TOPIC #1\n",
      "['techniques', 'responsibilities', 'algorithms', 'consumer', 'help', 'deep', 'analysis', 'work', 'business', 'science', 'team', 'models', 'machine', 'learning', 'data']\n",
      "\n",
      "\n",
      "THE TOP 15 WORDS FOR TOPIC #2\n",
      "['execute', 'existing', 'like', 'experience', 'systems', 'ability', 'issues', 'big', 'working', 'customers', 'technical', 'product', 'engineering', 'team', 'data']\n",
      "\n",
      "\n",
      "THE TOP 15 WORDS FOR TOPIC #3\n",
      "['ensure', 'provide', 'implementation', 'service', 'development', 'automation', 'systems', 'support', 'experience', 'software', 'cloud', 'services', 'management', 'infrastructure', 'security']\n",
      "\n",
      "\n",
      "THE TOP 15 WORDS FOR TOPIC #4\n",
      "['ai', 'financial', 'approach', 'reconciliation', 'fintech', 'based', 'development', 'companies', 'management', 'solutions', 'tookitaki', 'regulatory', 'team', 'compliance', 'singapore']\n",
      "\n",
      "\n",
      "THE TOP 15 WORDS FOR TOPIC #5\n",
      "['processes', 'automation', 'projects', 'bank', 'delivery', 'development', 'global', 'services', 'clients', 'applications', 'technology', 'team', 'project', 'management', 'business']\n",
      "\n",
      "\n",
      "THE TOP 15 WORDS FOR TOPIC #6\n",
      "['devops', 'tools', 'palo', 'skills', 'environment', 'knowledge', 'agile', 'aws', 'technologies', 'solutions', 'technical', 'design', 'experience', 'development', 'cloud']\n",
      "\n",
      "\n",
      "THE TOP 15 WORDS FOR TOPIC #7\n",
      "['team', 'design', 'product', 'experience', 'end', 'world', 'data', 'solutions', 'teams', 'customers', 'products', 'services', 'work', 'development', 'google']\n",
      "\n",
      "\n",
      "THE TOP 15 WORDS FOR TOPIC #8\n",
      "['support', 'new', 'requirements', 'technology', 'build', 'product', 'develop', 'solutions', 'design', 'management', 'analytics', 'work', 'team', 'business', 'data']\n",
      "\n",
      "\n",
      "THE TOP 15 WORDS FOR TOPIC #9\n",
      "['make', 'engineers', 'systems', 'goldman', 'sachs', 'world', 'software', 'development', 'business', 'technology', 'global', 'data', 'platform', 'engineering', 'solutions']\n",
      "\n",
      "\n"
     ]
    }
   ],
   "source": [
    "for index,topic in enumerate(LDA.components_):\n",
    "    print(f'THE TOP 15 WORDS FOR TOPIC #{index}')\n",
    "    print([cv.get_feature_names()[i] for i in topic.argsort()[-15:]])\n",
    "    print('\\n')"
   ]
  },
  {
   "cell_type": "code",
   "execution_count": 78,
   "metadata": {},
   "outputs": [],
   "source": [
    "topic_results = LDA.transform(job_des)"
   ]
  },
  {
   "cell_type": "code",
   "execution_count": 79,
   "metadata": {},
   "outputs": [
    {
     "data": {
      "text/plain": [
       "(542, 10)"
      ]
     },
     "execution_count": 79,
     "metadata": {},
     "output_type": "execute_result"
    }
   ],
   "source": [
    "topic_results.shape"
   ]
  },
  {
   "cell_type": "code",
   "execution_count": 80,
   "metadata": {},
   "outputs": [
    {
     "data": {
      "text/plain": [
       "array([0.00108711, 0.37124698, 0.00108718, 0.00108718, 0.00108703,\n",
       "       0.00108709, 0.00108712, 0.00108713, 0.62005597, 0.00108721])"
      ]
     },
     "execution_count": 80,
     "metadata": {},
     "output_type": "execute_result"
    }
   ],
   "source": [
    "topic_results[0]"
   ]
  },
  {
   "cell_type": "code",
   "execution_count": 81,
   "metadata": {},
   "outputs": [
    {
     "data": {
      "text/plain": [
       "array([0.  , 0.37, 0.  , 0.  , 0.  , 0.  , 0.  , 0.  , 0.62, 0.  ])"
      ]
     },
     "execution_count": 81,
     "metadata": {},
     "output_type": "execute_result"
    }
   ],
   "source": [
    "topic_results[0].round(2)"
   ]
  },
  {
   "cell_type": "code",
   "execution_count": 82,
   "metadata": {},
   "outputs": [
    {
     "data": {
      "text/plain": [
       "8"
      ]
     },
     "execution_count": 82,
     "metadata": {},
     "output_type": "execute_result"
    }
   ],
   "source": [
    "topic_results[0].argmax()"
   ]
  },
  {
   "cell_type": "code",
   "execution_count": 83,
   "metadata": {},
   "outputs": [
    {
     "data": {
      "text/plain": [
       "array([8, 8, 8, 8, 8, 8, 1, 8, 8, 0, 0, 0, 8, 8, 8, 8, 8, 5, 8, 0, 1, 3,\n",
       "       6, 6, 8, 0, 7, 5, 8, 3, 9, 3, 8, 3, 3, 3, 3, 3, 8, 3, 5, 2, 3, 0,\n",
       "       5, 3, 2, 5, 2, 3, 8, 8, 8, 8, 8, 8, 3, 3, 0, 8, 0, 0, 0, 8, 8, 8,\n",
       "       8, 8, 9, 2, 0, 8, 1, 1, 1, 1, 1, 1, 8, 8, 8, 0, 0, 3, 3, 8, 2, 2,\n",
       "       8, 8, 8, 8, 8, 0, 1, 0, 9, 8, 0, 0, 2, 2, 8, 1, 1, 1, 1, 3, 8, 2,\n",
       "       1, 1, 5, 5, 8, 8, 0, 5, 1, 5, 0, 8, 8, 0, 0, 8, 8, 8, 7, 8, 2, 0,\n",
       "       5, 5, 8, 8, 5, 8, 8, 8, 8, 8, 8, 8, 1, 8, 1, 1, 1, 1, 8, 1, 8, 8,\n",
       "       1, 8, 8, 8, 8, 0, 1, 8, 5, 5, 0, 0, 8, 0, 5, 8, 0, 1, 0, 1, 8, 0,\n",
       "       0, 0, 8, 5, 5, 8, 0, 8, 8, 0, 0, 8, 4, 4, 4, 5, 5, 8, 1, 0, 1, 1,\n",
       "       0, 0, 7, 0, 0, 8, 0, 0, 0, 1, 8, 8, 6, 6, 1, 1, 8, 5, 8, 4, 4, 1,\n",
       "       0, 0, 0, 9, 0, 1, 0, 0, 1, 5, 5, 5, 8, 9, 0, 3, 5, 8, 5, 8, 6, 6,\n",
       "       1, 1, 8, 8, 7, 8, 8, 0, 0, 0, 6, 6, 8, 8, 5, 8, 8, 8, 0, 8, 5, 5,\n",
       "       0, 0, 0, 0, 0, 1, 4, 4, 4, 4, 0, 5, 5, 8, 7, 1, 0, 0, 8, 5, 5, 0,\n",
       "       0, 0, 8, 8, 1, 8, 8, 8, 3, 8, 9, 9, 9, 9, 9, 9, 7, 7, 0, 3, 8, 8,\n",
       "       0, 0, 0, 5, 8, 8, 8, 2, 2, 8, 8, 8, 8, 8, 8, 5, 8, 8, 8, 8, 5, 8,\n",
       "       5, 8, 8, 0, 8, 8, 8, 3, 8, 0, 3, 8, 3, 8, 9, 5, 8, 2, 3, 0, 2, 2,\n",
       "       3, 8, 9, 5, 5, 9, 8, 8, 8, 8, 8, 8, 3, 8, 8, 8, 0, 3, 8, 8, 0, 8,\n",
       "       9, 3, 3, 6, 8, 8, 2, 8, 8, 2, 3, 5, 8, 8, 1, 3, 0, 5, 4, 3, 5, 5,\n",
       "       1, 7, 6, 6, 6, 8, 6, 6, 6, 6, 6, 6, 6, 6, 6, 6, 0, 6, 8, 8, 8, 8,\n",
       "       8, 0, 6, 6, 0, 0, 0, 6, 3, 4, 3, 4, 3, 7, 7, 7, 8, 8, 3, 0, 0, 0,\n",
       "       0, 5, 5, 3, 6, 3, 0, 3, 6, 3, 0, 0, 6, 0, 3, 0, 7, 7, 5, 0, 8, 8,\n",
       "       0, 6, 3, 4, 1, 1, 3, 7, 3, 7, 3, 6, 7, 5, 0, 3, 8, 6, 6, 8, 3, 3,\n",
       "       1, 3, 0, 7, 3, 7, 1, 3, 8, 0, 0, 8, 7, 1, 0, 1, 1, 7, 0, 0, 8, 8,\n",
       "       8, 8, 8, 8, 8, 5, 8, 8, 8, 8, 2, 8, 8, 8, 8, 2, 0, 5, 8, 0, 8, 8,\n",
       "       3, 5, 6, 6, 6, 6, 5, 8, 5, 3, 3, 0, 8, 8])"
      ]
     },
     "execution_count": 83,
     "metadata": {},
     "output_type": "execute_result"
    }
   ],
   "source": [
    "topic_results.argmax(axis=1)"
   ]
  },
  {
   "cell_type": "code",
   "execution_count": 84,
   "metadata": {},
   "outputs": [],
   "source": [
    "df['job_description_topic'] = topic_results.argmax(axis=1)"
   ]
  },
  {
   "cell_type": "code",
   "execution_count": 85,
   "metadata": {},
   "outputs": [
    {
     "data": {
      "text/html": [
       "<div>\n",
       "<style scoped>\n",
       "    .dataframe tbody tr th:only-of-type {\n",
       "        vertical-align: middle;\n",
       "    }\n",
       "\n",
       "    .dataframe tbody tr th {\n",
       "        vertical-align: top;\n",
       "    }\n",
       "\n",
       "    .dataframe thead th {\n",
       "        text-align: right;\n",
       "    }\n",
       "</style>\n",
       "<table border=\"1\" class=\"dataframe\">\n",
       "  <thead>\n",
       "    <tr style=\"text-align: right;\">\n",
       "      <th></th>\n",
       "      <th>job_titles</th>\n",
       "      <th>companys</th>\n",
       "      <th>employment_type</th>\n",
       "      <th>seniority</th>\n",
       "      <th>industrys</th>\n",
       "      <th>salary</th>\n",
       "      <th>salary_terms</th>\n",
       "      <th>job_descriptions</th>\n",
       "      <th>job_requirements</th>\n",
       "      <th>links</th>\n",
       "      <th>location</th>\n",
       "      <th>gov_support</th>\n",
       "      <th>min_salary</th>\n",
       "      <th>max_salary</th>\n",
       "      <th>avg_salary</th>\n",
       "      <th>salary_med</th>\n",
       "      <th>job_description_topic</th>\n",
       "    </tr>\n",
       "  </thead>\n",
       "  <tbody>\n",
       "    <tr>\n",
       "      <th>0</th>\n",
       "      <td>Data Engineer</td>\n",
       "      <td>GRABTAXI HOLDINGS PTE. LTD.</td>\n",
       "      <td>Full Time</td>\n",
       "      <td>Professional</td>\n",
       "      <td>Engineering</td>\n",
       "      <td>6000to10000</td>\n",
       "      <td>Monthly</td>\n",
       "      <td>Build, deploy and manage big data solutions t...</td>\n",
       "      <td>A degree or higher in Computer Science, Elec...</td>\n",
       "      <td>https://www.mycareersfuture.sg/job/data-engine...</td>\n",
       "      <td>Central</td>\n",
       "      <td>yes</td>\n",
       "      <td>6000</td>\n",
       "      <td>10000</td>\n",
       "      <td>8000.0</td>\n",
       "      <td>1</td>\n",
       "      <td>8</td>\n",
       "    </tr>\n",
       "    <tr>\n",
       "      <th>1</th>\n",
       "      <td>Data Engineer</td>\n",
       "      <td>MOKA TECHNOLOGY SOLUTIONS PTE. LTD.</td>\n",
       "      <td>Permanent</td>\n",
       "      <td>Professional</td>\n",
       "      <td>Engineering</td>\n",
       "      <td>5000to7000</td>\n",
       "      <td>Monthly</td>\n",
       "      <td>Do you have a passion for data? Are you lookin...</td>\n",
       "      <td>You have:  BS (MS preferred) in Computer Scien...</td>\n",
       "      <td>https://www.mycareersfuture.sg/job/data-engine...</td>\n",
       "      <td>North</td>\n",
       "      <td>yes</td>\n",
       "      <td>5000</td>\n",
       "      <td>7000</td>\n",
       "      <td>6000.0</td>\n",
       "      <td>0</td>\n",
       "      <td>8</td>\n",
       "    </tr>\n",
       "    <tr>\n",
       "      <th>3</th>\n",
       "      <td>Senior ETL and DATA Engineer</td>\n",
       "      <td>SMARTSOFT PTE. LTD.</td>\n",
       "      <td>Full Time</td>\n",
       "      <td>Senior Executive</td>\n",
       "      <td>Information Technology</td>\n",
       "      <td>6000to11000</td>\n",
       "      <td>Monthly</td>\n",
       "      <td>Responsibilities include understanding ETL &amp;...</td>\n",
       "      <td>Experiences:  Must have 4 to 6 years of experi...</td>\n",
       "      <td>https://www.mycareersfuture.sg/job/senior-etl-...</td>\n",
       "      <td>Islandwide</td>\n",
       "      <td>no</td>\n",
       "      <td>6000</td>\n",
       "      <td>11000</td>\n",
       "      <td>8500.0</td>\n",
       "      <td>1</td>\n",
       "      <td>8</td>\n",
       "    </tr>\n",
       "    <tr>\n",
       "      <th>4</th>\n",
       "      <td>Senior ETL and Data Engineer</td>\n",
       "      <td>SCHELLDEN GLOBAL SERVICES</td>\n",
       "      <td>Full Time</td>\n",
       "      <td>Senior Executive</td>\n",
       "      <td>Information Technology</td>\n",
       "      <td>6000to11000</td>\n",
       "      <td>Monthly</td>\n",
       "      <td>Responsibilities include understanding ETL &amp; D...</td>\n",
       "      <td>Must have 4 to 6 years of experience using SQ...</td>\n",
       "      <td>https://www.mycareersfuture.sg/job/senior-etl-...</td>\n",
       "      <td>Islandwide</td>\n",
       "      <td>no</td>\n",
       "      <td>6000</td>\n",
       "      <td>11000</td>\n",
       "      <td>8500.0</td>\n",
       "      <td>1</td>\n",
       "      <td>8</td>\n",
       "    </tr>\n",
       "    <tr>\n",
       "      <th>5</th>\n",
       "      <td>Senior ETL and Data Engineer</td>\n",
       "      <td>SCHELLDEN GLOBAL PTE. LTD.</td>\n",
       "      <td>Full Time</td>\n",
       "      <td>Senior Executive</td>\n",
       "      <td>Information Technology</td>\n",
       "      <td>6000to11000</td>\n",
       "      <td>Monthly</td>\n",
       "      <td>Responsibilities include understanding ETL &amp; D...</td>\n",
       "      <td>Experiences:  Must have 4 to 6 years of experi...</td>\n",
       "      <td>https://www.mycareersfuture.sg/job/senior-etl-...</td>\n",
       "      <td>Islandwide</td>\n",
       "      <td>no</td>\n",
       "      <td>6000</td>\n",
       "      <td>11000</td>\n",
       "      <td>8500.0</td>\n",
       "      <td>1</td>\n",
       "      <td>8</td>\n",
       "    </tr>\n",
       "  </tbody>\n",
       "</table>\n",
       "</div>"
      ],
      "text/plain": [
       "                     job_titles                             companys  \\\n",
       "0                 Data Engineer          GRABTAXI HOLDINGS PTE. LTD.   \n",
       "1                 Data Engineer  MOKA TECHNOLOGY SOLUTIONS PTE. LTD.   \n",
       "3  Senior ETL and DATA Engineer                  SMARTSOFT PTE. LTD.   \n",
       "4  Senior ETL and Data Engineer            SCHELLDEN GLOBAL SERVICES   \n",
       "5  Senior ETL and Data Engineer           SCHELLDEN GLOBAL PTE. LTD.   \n",
       "\n",
       "  employment_type         seniority               industrys       salary  \\\n",
       "0       Full Time      Professional             Engineering  6000to10000   \n",
       "1       Permanent      Professional             Engineering   5000to7000   \n",
       "3       Full Time  Senior Executive  Information Technology  6000to11000   \n",
       "4       Full Time  Senior Executive  Information Technology  6000to11000   \n",
       "5       Full Time  Senior Executive  Information Technology  6000to11000   \n",
       "\n",
       "  salary_terms                                   job_descriptions  \\\n",
       "0      Monthly   Build, deploy and manage big data solutions t...   \n",
       "1      Monthly  Do you have a passion for data? Are you lookin...   \n",
       "3      Monthly    Responsibilities include understanding ETL &...   \n",
       "4      Monthly  Responsibilities include understanding ETL & D...   \n",
       "5      Monthly  Responsibilities include understanding ETL & D...   \n",
       "\n",
       "                                    job_requirements  \\\n",
       "0    A degree or higher in Computer Science, Elec...   \n",
       "1  You have:  BS (MS preferred) in Computer Scien...   \n",
       "3  Experiences:  Must have 4 to 6 years of experi...   \n",
       "4   Must have 4 to 6 years of experience using SQ...   \n",
       "5  Experiences:  Must have 4 to 6 years of experi...   \n",
       "\n",
       "                                               links    location gov_support  \\\n",
       "0  https://www.mycareersfuture.sg/job/data-engine...     Central         yes   \n",
       "1  https://www.mycareersfuture.sg/job/data-engine...       North         yes   \n",
       "3  https://www.mycareersfuture.sg/job/senior-etl-...  Islandwide          no   \n",
       "4  https://www.mycareersfuture.sg/job/senior-etl-...  Islandwide          no   \n",
       "5  https://www.mycareersfuture.sg/job/senior-etl-...  Islandwide          no   \n",
       "\n",
       "   min_salary  max_salary  avg_salary  salary_med  job_description_topic  \n",
       "0        6000       10000      8000.0           1                      8  \n",
       "1        5000        7000      6000.0           0                      8  \n",
       "3        6000       11000      8500.0           1                      8  \n",
       "4        6000       11000      8500.0           1                      8  \n",
       "5        6000       11000      8500.0           1                      8  "
      ]
     },
     "execution_count": 85,
     "metadata": {},
     "output_type": "execute_result"
    }
   ],
   "source": [
    "df.head()"
   ]
  },
  {
   "cell_type": "code",
   "execution_count": 86,
   "metadata": {},
   "outputs": [
    {
     "data": {
      "text/plain": [
       "8    183\n",
       "0    100\n",
       "3     54\n",
       "5     52\n",
       "1     49\n",
       "6     37\n",
       "7     20\n",
       "2     19\n",
       "9     15\n",
       "4     13\n",
       "Name: job_description_topic, dtype: int64"
      ]
     },
     "execution_count": 86,
     "metadata": {},
     "output_type": "execute_result"
    }
   ],
   "source": [
    "df.job_description_topic.value_counts()"
   ]
  },
  {
   "cell_type": "markdown",
   "metadata": {},
   "source": [
    "##  Non-Negative Matrix Factorization(NMF) -Job requirements \n",
    "### Preprocessing"
   ]
  },
  {
   "cell_type": "code",
   "execution_count": 87,
   "metadata": {},
   "outputs": [],
   "source": [
    "#Use TF-IDF Vectorization to create a vectorized document term matrix. \n",
    "\n",
    "from sklearn.feature_extraction.text import TfidfVectorizer"
   ]
  },
  {
   "cell_type": "code",
   "execution_count": 88,
   "metadata": {},
   "outputs": [],
   "source": [
    "tfidf = TfidfVectorizer(max_df=0.95, min_df=2, stop_words='english')"
   ]
  },
  {
   "cell_type": "code",
   "execution_count": 89,
   "metadata": {},
   "outputs": [],
   "source": [
    "req= tfidf.fit_transform(df['job_requirements'])"
   ]
  },
  {
   "cell_type": "code",
   "execution_count": 90,
   "metadata": {},
   "outputs": [
    {
     "data": {
      "text/plain": [
       "<542x2805 sparse matrix of type '<class 'numpy.float64'>'\n",
       "\twith 34309 stored elements in Compressed Sparse Row format>"
      ]
     },
     "execution_count": 90,
     "metadata": {},
     "output_type": "execute_result"
    }
   ],
   "source": [
    "req"
   ]
  },
  {
   "cell_type": "code",
   "execution_count": 91,
   "metadata": {},
   "outputs": [],
   "source": [
    "from sklearn.decomposition import NMF"
   ]
  },
  {
   "cell_type": "code",
   "execution_count": 92,
   "metadata": {},
   "outputs": [],
   "source": [
    "#Using Scikit-Learn an instance of NMF with 5 expected components and random_state=42 was used \n",
    "\n",
    "nmf_model = NMF(n_components=10,random_state=42)"
   ]
  },
  {
   "cell_type": "code",
   "execution_count": 93,
   "metadata": {},
   "outputs": [
    {
     "data": {
      "text/plain": [
       "NMF(alpha=0.0, beta_loss='frobenius', init=None, l1_ratio=0.0, max_iter=200,\n",
       "  n_components=10, random_state=42, shuffle=False, solver='cd', tol=0.0001,\n",
       "  verbose=0)"
      ]
     },
     "execution_count": 93,
     "metadata": {},
     "output_type": "execute_result"
    }
   ],
   "source": [
    "nmf_model.fit(req)"
   ]
  },
  {
   "cell_type": "code",
   "execution_count": 94,
   "metadata": {},
   "outputs": [
    {
     "name": "stdout",
     "output_type": "stream",
     "text": [
      "THE TOP 15 WORDS FOR TOPIC #0\n",
      "['skills', 'visualization', 'etl', 'statistics', 'large', 'sql', 'tools', 'analysis', 'strong', 'analytics', 'modeling', 'business', 'big', 'experience', 'data']\n",
      "\n",
      "\n",
      "THE TOP 15 WORDS FOR TOPIC #1\n",
      "['excelling', 'exceptional', 'exhaustive', 'exceptionally', 'excited', 'exciting', 'execute', 'executes', 'executing', 'execution', 'executive', 'executives', 'exchange', 'zos', 'na']\n",
      "\n",
      "\n",
      "THE TOP 15 WORDS FOR TOPIC #2\n",
      "['knowledge', 'plus', 'analytical', 'able', 'possess', 'written', 'communication', 'excellent', 'problem', 'solving', 'good', 'strong', 'ability', 'work', 'skills']\n",
      "\n",
      "\n",
      "THE TOP 15 WORDS FOR TOPIC #3\n",
      "['frameworks', 'phd', 'text', 'techniques', 'plus', 'vision', 'python', 'tensorflow', 'programming', 'analytics', 'experience', 'algorithms', 'machine', 'deep', 'learning']\n",
      "\n",
      "\n",
      "THE TOP 15 WORDS FOR TOPIC #4\n",
      "['spark', 'cloud', 'hands', 'python', 'web', 'good', 'hadoop', 'years', 'spring', 'aws', 'working', 'knowledge', 'development', 'java', 'experience']\n",
      "\n",
      "\n",
      "THE TOP 15 WORDS FOR TOPIC #5\n",
      "['illustrator', 'instructional', 'dreamweaver', 'wild', 'axure', 'fireworks', 'silverback', 'wire', 'framing', 'graphic', 'guru', 'field', 'platforms', 'digital', 'design']\n",
      "\n",
      "\n",
      "THE TOP 15 WORDS FOR TOPIC #6\n",
      "['products', 'user', 'company', 'business', 'ability', 'software', 'high', 'customer', 'development', 'management', 'team', 'project', 'experience', 'technical', 'product']\n",
      "\n",
      "\n",
      "THE TOP 15 WORDS FOR TOPIC #7\n",
      "['adwords', 'adobe', 'retail', 'consumer', 'data', 'tools', 'equivalent', 'research', 'like', 'statistics', 'models', 'familiarity', 'analytics', 'marketing', 'statistical']\n",
      "\n",
      "\n",
      "THE TOP 15 WORDS FOR TOPIC #8\n",
      "['languages', 'electrical', 'research', 'master', 'relevant', 'working', 'field', 'software', 'bachelor', 'related', 'degree', 'engineering', 'experience', 'science', 'computer']\n",
      "\n",
      "\n",
      "THE TOP 15 WORDS FOR TOPIC #9\n",
      "['knowledgeable', 'opportunity', 'highly', 'group', 'preferred', 'equal', 'employer', 'qualifications', '2018', 'reserved', 'rights', 'systems', 'experience', 'sachs', 'goldman']\n",
      "\n",
      "\n"
     ]
    }
   ],
   "source": [
    "#printing top 15 words per topic\n",
    "\n",
    "for index,topic in enumerate(nmf_model.components_):\n",
    "    print(f'THE TOP 15 WORDS FOR TOPIC #{index}')\n",
    "    print([tfidf.get_feature_names()[i] for i in topic.argsort()[-15:]])\n",
    "    print('\\n')"
   ]
  },
  {
   "cell_type": "code",
   "execution_count": 95,
   "metadata": {},
   "outputs": [],
   "source": [
    "#Add a new column to the dataframe that labels the job requirements"
   ]
  },
  {
   "cell_type": "code",
   "execution_count": 96,
   "metadata": {},
   "outputs": [],
   "source": [
    "topic_results = nmf_model.transform(req)"
   ]
  },
  {
   "cell_type": "code",
   "execution_count": 97,
   "metadata": {},
   "outputs": [
    {
     "data": {
      "text/html": [
       "<div>\n",
       "<style scoped>\n",
       "    .dataframe tbody tr th:only-of-type {\n",
       "        vertical-align: middle;\n",
       "    }\n",
       "\n",
       "    .dataframe tbody tr th {\n",
       "        vertical-align: top;\n",
       "    }\n",
       "\n",
       "    .dataframe thead th {\n",
       "        text-align: right;\n",
       "    }\n",
       "</style>\n",
       "<table border=\"1\" class=\"dataframe\">\n",
       "  <thead>\n",
       "    <tr style=\"text-align: right;\">\n",
       "      <th></th>\n",
       "      <th>job_titles</th>\n",
       "      <th>companys</th>\n",
       "      <th>employment_type</th>\n",
       "      <th>seniority</th>\n",
       "      <th>industrys</th>\n",
       "      <th>salary</th>\n",
       "      <th>salary_terms</th>\n",
       "      <th>job_descriptions</th>\n",
       "      <th>job_requirements</th>\n",
       "      <th>links</th>\n",
       "      <th>location</th>\n",
       "      <th>gov_support</th>\n",
       "      <th>min_salary</th>\n",
       "      <th>max_salary</th>\n",
       "      <th>avg_salary</th>\n",
       "      <th>salary_med</th>\n",
       "      <th>job_description_topic</th>\n",
       "      <th>job_req_topics</th>\n",
       "    </tr>\n",
       "  </thead>\n",
       "  <tbody>\n",
       "    <tr>\n",
       "      <th>0</th>\n",
       "      <td>Data Engineer</td>\n",
       "      <td>GRABTAXI HOLDINGS PTE. LTD.</td>\n",
       "      <td>Full Time</td>\n",
       "      <td>Professional</td>\n",
       "      <td>Engineering</td>\n",
       "      <td>6000to10000</td>\n",
       "      <td>Monthly</td>\n",
       "      <td>Build, deploy and manage big data solutions t...</td>\n",
       "      <td>A degree or higher in Computer Science, Elec...</td>\n",
       "      <td>https://www.mycareersfuture.sg/job/data-engine...</td>\n",
       "      <td>Central</td>\n",
       "      <td>yes</td>\n",
       "      <td>6000</td>\n",
       "      <td>10000</td>\n",
       "      <td>8000.0</td>\n",
       "      <td>1</td>\n",
       "      <td>8</td>\n",
       "      <td>0</td>\n",
       "    </tr>\n",
       "    <tr>\n",
       "      <th>1</th>\n",
       "      <td>Data Engineer</td>\n",
       "      <td>MOKA TECHNOLOGY SOLUTIONS PTE. LTD.</td>\n",
       "      <td>Permanent</td>\n",
       "      <td>Professional</td>\n",
       "      <td>Engineering</td>\n",
       "      <td>5000to7000</td>\n",
       "      <td>Monthly</td>\n",
       "      <td>Do you have a passion for data? Are you lookin...</td>\n",
       "      <td>You have:  BS (MS preferred) in Computer Scien...</td>\n",
       "      <td>https://www.mycareersfuture.sg/job/data-engine...</td>\n",
       "      <td>North</td>\n",
       "      <td>yes</td>\n",
       "      <td>5000</td>\n",
       "      <td>7000</td>\n",
       "      <td>6000.0</td>\n",
       "      <td>0</td>\n",
       "      <td>8</td>\n",
       "      <td>0</td>\n",
       "    </tr>\n",
       "    <tr>\n",
       "      <th>3</th>\n",
       "      <td>Senior ETL and DATA Engineer</td>\n",
       "      <td>SMARTSOFT PTE. LTD.</td>\n",
       "      <td>Full Time</td>\n",
       "      <td>Senior Executive</td>\n",
       "      <td>Information Technology</td>\n",
       "      <td>6000to11000</td>\n",
       "      <td>Monthly</td>\n",
       "      <td>Responsibilities include understanding ETL &amp;...</td>\n",
       "      <td>Experiences:  Must have 4 to 6 years of experi...</td>\n",
       "      <td>https://www.mycareersfuture.sg/job/senior-etl-...</td>\n",
       "      <td>Islandwide</td>\n",
       "      <td>no</td>\n",
       "      <td>6000</td>\n",
       "      <td>11000</td>\n",
       "      <td>8500.0</td>\n",
       "      <td>1</td>\n",
       "      <td>8</td>\n",
       "      <td>4</td>\n",
       "    </tr>\n",
       "  </tbody>\n",
       "</table>\n",
       "</div>"
      ],
      "text/plain": [
       "                     job_titles                             companys  \\\n",
       "0                 Data Engineer          GRABTAXI HOLDINGS PTE. LTD.   \n",
       "1                 Data Engineer  MOKA TECHNOLOGY SOLUTIONS PTE. LTD.   \n",
       "3  Senior ETL and DATA Engineer                  SMARTSOFT PTE. LTD.   \n",
       "\n",
       "  employment_type         seniority               industrys       salary  \\\n",
       "0       Full Time      Professional             Engineering  6000to10000   \n",
       "1       Permanent      Professional             Engineering   5000to7000   \n",
       "3       Full Time  Senior Executive  Information Technology  6000to11000   \n",
       "\n",
       "  salary_terms                                   job_descriptions  \\\n",
       "0      Monthly   Build, deploy and manage big data solutions t...   \n",
       "1      Monthly  Do you have a passion for data? Are you lookin...   \n",
       "3      Monthly    Responsibilities include understanding ETL &...   \n",
       "\n",
       "                                    job_requirements  \\\n",
       "0    A degree or higher in Computer Science, Elec...   \n",
       "1  You have:  BS (MS preferred) in Computer Scien...   \n",
       "3  Experiences:  Must have 4 to 6 years of experi...   \n",
       "\n",
       "                                               links    location gov_support  \\\n",
       "0  https://www.mycareersfuture.sg/job/data-engine...     Central         yes   \n",
       "1  https://www.mycareersfuture.sg/job/data-engine...       North         yes   \n",
       "3  https://www.mycareersfuture.sg/job/senior-etl-...  Islandwide          no   \n",
       "\n",
       "   min_salary  max_salary  avg_salary  salary_med  job_description_topic  \\\n",
       "0        6000       10000      8000.0           1                      8   \n",
       "1        5000        7000      6000.0           0                      8   \n",
       "3        6000       11000      8500.0           1                      8   \n",
       "\n",
       "   job_req_topics  \n",
       "0               0  \n",
       "1               0  \n",
       "3               4  "
      ]
     },
     "execution_count": 97,
     "metadata": {},
     "output_type": "execute_result"
    }
   ],
   "source": [
    "topic_results.argmax(axis=1)\n",
    "\n",
    "df['job_req_topics'] = topic_results.argmax(axis=1)\n",
    "\n",
    "df.head(3)"
   ]
  },
  {
   "cell_type": "code",
   "execution_count": 98,
   "metadata": {},
   "outputs": [
    {
     "data": {
      "text/plain": [
       "4    96\n",
       "8    80\n",
       "0    78\n",
       "2    76\n",
       "6    73\n",
       "3    65\n",
       "1    42\n",
       "9    13\n",
       "7    12\n",
       "5     7\n",
       "Name: job_req_topics, dtype: int64"
      ]
     },
     "execution_count": 98,
     "metadata": {},
     "output_type": "execute_result"
    }
   ],
   "source": [
    "df['job_req_topics'].value_counts()"
   ]
  },
  {
   "cell_type": "markdown",
   "metadata": {},
   "source": [
    "##  Non-Negative Matrix Factorization(NMF) -Job titles\n",
    "### Preprocessing"
   ]
  },
  {
   "cell_type": "code",
   "execution_count": 99,
   "metadata": {},
   "outputs": [],
   "source": [
    "#Use TF-IDF Vectorization to create a vectorized document term matrix. \n",
    "\n",
    "from sklearn.feature_extraction.text import TfidfVectorizer"
   ]
  },
  {
   "cell_type": "code",
   "execution_count": 100,
   "metadata": {},
   "outputs": [],
   "source": [
    "tfidf = TfidfVectorizer(max_df=0.95, min_df=2, stop_words='english')"
   ]
  },
  {
   "cell_type": "code",
   "execution_count": 101,
   "metadata": {},
   "outputs": [],
   "source": [
    "titles= tfidf.fit_transform(df['job_titles'])"
   ]
  },
  {
   "cell_type": "code",
   "execution_count": 102,
   "metadata": {},
   "outputs": [
    {
     "data": {
      "text/plain": [
       "<542x156 sparse matrix of type '<class 'numpy.float64'>'\n",
       "\twith 1538 stored elements in Compressed Sparse Row format>"
      ]
     },
     "execution_count": 102,
     "metadata": {},
     "output_type": "execute_result"
    }
   ],
   "source": [
    "titles"
   ]
  },
  {
   "cell_type": "code",
   "execution_count": 103,
   "metadata": {},
   "outputs": [],
   "source": [
    "from sklearn.decomposition import NMF"
   ]
  },
  {
   "cell_type": "code",
   "execution_count": 104,
   "metadata": {},
   "outputs": [],
   "source": [
    "#Using Scikit-Learn an instance of NMF with 5 expected components and random_state=42 was used \n",
    "\n",
    "nmf_model = NMF(n_components=10,random_state=42)"
   ]
  },
  {
   "cell_type": "code",
   "execution_count": 105,
   "metadata": {},
   "outputs": [
    {
     "data": {
      "text/plain": [
       "NMF(alpha=0.0, beta_loss='frobenius', init=None, l1_ratio=0.0, max_iter=200,\n",
       "  n_components=10, random_state=42, shuffle=False, solver='cd', tol=0.0001,\n",
       "  verbose=0)"
      ]
     },
     "execution_count": 105,
     "metadata": {},
     "output_type": "execute_result"
    }
   ],
   "source": [
    "nmf_model.fit(titles)"
   ]
  },
  {
   "cell_type": "code",
   "execution_count": 106,
   "metadata": {},
   "outputs": [
    {
     "name": "stdout",
     "output_type": "stream",
     "text": [
      "THE TOP 7 WORDS FOR TOPIC #0\n",
      "['banking', 'consumer', 'analytics', 'big', 'lead', 'data', 'scientist']\n",
      "\n",
      "\n",
      "THE TOP 7 WORDS FOR TOPIC #1\n",
      "['support', 'infrastructure', 'centre', 'center', 'devops', 'data', 'engineer']\n",
      "\n",
      "\n",
      "THE TOP 7 WORDS FOR TOPIC #2\n",
      "['bi', 'junior', 'science', 'risk', 'business', 'data', 'analyst']\n",
      "\n",
      "\n",
      "THE TOP 7 WORDS FOR TOPIC #3\n",
      "['architect', 'engineer', 'algorithm', 'backend', 'etl', 'associate', 'senior']\n",
      "\n",
      "\n",
      "THE TOP 7 WORDS FOR TOPIC #4\n",
      "['quantitative', 'backend', 'etl', 'stack', 'big', 'java', 'developer']\n",
      "\n",
      "\n",
      "THE TOP 7 WORDS FOR TOPIC #5\n",
      "['business', 'vp', 'analytics', 'assistant', 'product', 'project', 'manager']\n",
      "\n",
      "\n",
      "THE TOP 7 WORDS FOR TOPIC #6\n",
      "['architect', 'learning', 'machine', 'development', 'ref', 'engineer', 'software']\n",
      "\n",
      "\n",
      "THE TOP 7 WORDS FOR TOPIC #7\n",
      "['advanced', 'applied', 'scientist', 'engineer', 'associate', 'fellow', 'research']\n",
      "\n",
      "\n",
      "THE TOP 7 WORDS FOR TOPIC #8\n",
      "['management', 'database', 'datawarehouse', 'data', 'lead', 'science', 'consultant']\n",
      "\n",
      "\n",
      "THE TOP 7 WORDS FOR TOPIC #9\n",
      "['solution', 'monitoring', 'support', 'specialist', 'infrastructure', 'designer', 'application']\n",
      "\n",
      "\n"
     ]
    }
   ],
   "source": [
    "#printing top 15 words per topic\n",
    "\n",
    "for index,topic in enumerate(nmf_model.components_):\n",
    "    print(f'THE TOP 7 WORDS FOR TOPIC #{index}')\n",
    "    print([tfidf.get_feature_names()[i] for i in topic.argsort()[-7:]])\n",
    "    print('\\n')"
   ]
  },
  {
   "cell_type": "code",
   "execution_count": 107,
   "metadata": {},
   "outputs": [],
   "source": [
    "#Add a new column to the dataframe that labels the job_titles"
   ]
  },
  {
   "cell_type": "code",
   "execution_count": 108,
   "metadata": {},
   "outputs": [],
   "source": [
    "topic_results = nmf_model.transform(titles)"
   ]
  },
  {
   "cell_type": "code",
   "execution_count": 109,
   "metadata": {},
   "outputs": [
    {
     "data": {
      "text/html": [
       "<div>\n",
       "<style scoped>\n",
       "    .dataframe tbody tr th:only-of-type {\n",
       "        vertical-align: middle;\n",
       "    }\n",
       "\n",
       "    .dataframe tbody tr th {\n",
       "        vertical-align: top;\n",
       "    }\n",
       "\n",
       "    .dataframe thead th {\n",
       "        text-align: right;\n",
       "    }\n",
       "</style>\n",
       "<table border=\"1\" class=\"dataframe\">\n",
       "  <thead>\n",
       "    <tr style=\"text-align: right;\">\n",
       "      <th></th>\n",
       "      <th>job_titles</th>\n",
       "      <th>companys</th>\n",
       "      <th>employment_type</th>\n",
       "      <th>seniority</th>\n",
       "      <th>industrys</th>\n",
       "      <th>salary</th>\n",
       "      <th>salary_terms</th>\n",
       "      <th>job_descriptions</th>\n",
       "      <th>job_requirements</th>\n",
       "      <th>links</th>\n",
       "      <th>location</th>\n",
       "      <th>gov_support</th>\n",
       "      <th>min_salary</th>\n",
       "      <th>max_salary</th>\n",
       "      <th>avg_salary</th>\n",
       "      <th>salary_med</th>\n",
       "      <th>job_description_topic</th>\n",
       "      <th>job_req_topics</th>\n",
       "      <th>job_titles_topics</th>\n",
       "    </tr>\n",
       "  </thead>\n",
       "  <tbody>\n",
       "    <tr>\n",
       "      <th>0</th>\n",
       "      <td>Data Engineer</td>\n",
       "      <td>GRABTAXI HOLDINGS PTE. LTD.</td>\n",
       "      <td>Full Time</td>\n",
       "      <td>Professional</td>\n",
       "      <td>Engineering</td>\n",
       "      <td>6000to10000</td>\n",
       "      <td>Monthly</td>\n",
       "      <td>Build, deploy and manage big data solutions t...</td>\n",
       "      <td>A degree or higher in Computer Science, Elec...</td>\n",
       "      <td>https://www.mycareersfuture.sg/job/data-engine...</td>\n",
       "      <td>Central</td>\n",
       "      <td>yes</td>\n",
       "      <td>6000</td>\n",
       "      <td>10000</td>\n",
       "      <td>8000.0</td>\n",
       "      <td>1</td>\n",
       "      <td>8</td>\n",
       "      <td>0</td>\n",
       "      <td>1</td>\n",
       "    </tr>\n",
       "    <tr>\n",
       "      <th>1</th>\n",
       "      <td>Data Engineer</td>\n",
       "      <td>MOKA TECHNOLOGY SOLUTIONS PTE. LTD.</td>\n",
       "      <td>Permanent</td>\n",
       "      <td>Professional</td>\n",
       "      <td>Engineering</td>\n",
       "      <td>5000to7000</td>\n",
       "      <td>Monthly</td>\n",
       "      <td>Do you have a passion for data? Are you lookin...</td>\n",
       "      <td>You have:  BS (MS preferred) in Computer Scien...</td>\n",
       "      <td>https://www.mycareersfuture.sg/job/data-engine...</td>\n",
       "      <td>North</td>\n",
       "      <td>yes</td>\n",
       "      <td>5000</td>\n",
       "      <td>7000</td>\n",
       "      <td>6000.0</td>\n",
       "      <td>0</td>\n",
       "      <td>8</td>\n",
       "      <td>0</td>\n",
       "      <td>1</td>\n",
       "    </tr>\n",
       "    <tr>\n",
       "      <th>3</th>\n",
       "      <td>Senior ETL and DATA Engineer</td>\n",
       "      <td>SMARTSOFT PTE. LTD.</td>\n",
       "      <td>Full Time</td>\n",
       "      <td>Senior Executive</td>\n",
       "      <td>Information Technology</td>\n",
       "      <td>6000to11000</td>\n",
       "      <td>Monthly</td>\n",
       "      <td>Responsibilities include understanding ETL &amp;...</td>\n",
       "      <td>Experiences:  Must have 4 to 6 years of experi...</td>\n",
       "      <td>https://www.mycareersfuture.sg/job/senior-etl-...</td>\n",
       "      <td>Islandwide</td>\n",
       "      <td>no</td>\n",
       "      <td>6000</td>\n",
       "      <td>11000</td>\n",
       "      <td>8500.0</td>\n",
       "      <td>1</td>\n",
       "      <td>8</td>\n",
       "      <td>4</td>\n",
       "      <td>3</td>\n",
       "    </tr>\n",
       "  </tbody>\n",
       "</table>\n",
       "</div>"
      ],
      "text/plain": [
       "                     job_titles                             companys  \\\n",
       "0                 Data Engineer          GRABTAXI HOLDINGS PTE. LTD.   \n",
       "1                 Data Engineer  MOKA TECHNOLOGY SOLUTIONS PTE. LTD.   \n",
       "3  Senior ETL and DATA Engineer                  SMARTSOFT PTE. LTD.   \n",
       "\n",
       "  employment_type         seniority               industrys       salary  \\\n",
       "0       Full Time      Professional             Engineering  6000to10000   \n",
       "1       Permanent      Professional             Engineering   5000to7000   \n",
       "3       Full Time  Senior Executive  Information Technology  6000to11000   \n",
       "\n",
       "  salary_terms                                   job_descriptions  \\\n",
       "0      Monthly   Build, deploy and manage big data solutions t...   \n",
       "1      Monthly  Do you have a passion for data? Are you lookin...   \n",
       "3      Monthly    Responsibilities include understanding ETL &...   \n",
       "\n",
       "                                    job_requirements  \\\n",
       "0    A degree or higher in Computer Science, Elec...   \n",
       "1  You have:  BS (MS preferred) in Computer Scien...   \n",
       "3  Experiences:  Must have 4 to 6 years of experi...   \n",
       "\n",
       "                                               links    location gov_support  \\\n",
       "0  https://www.mycareersfuture.sg/job/data-engine...     Central         yes   \n",
       "1  https://www.mycareersfuture.sg/job/data-engine...       North         yes   \n",
       "3  https://www.mycareersfuture.sg/job/senior-etl-...  Islandwide          no   \n",
       "\n",
       "   min_salary  max_salary  avg_salary  salary_med  job_description_topic  \\\n",
       "0        6000       10000      8000.0           1                      8   \n",
       "1        5000        7000      6000.0           0                      8   \n",
       "3        6000       11000      8500.0           1                      8   \n",
       "\n",
       "   job_req_topics  job_titles_topics  \n",
       "0               0                  1  \n",
       "1               0                  1  \n",
       "3               4                  3  "
      ]
     },
     "execution_count": 109,
     "metadata": {},
     "output_type": "execute_result"
    }
   ],
   "source": [
    "topic_results.argmax(axis=1)\n",
    "\n",
    "df['job_titles_topics'] = topic_results.argmax(axis=1)\n",
    "\n",
    "df.head(3)"
   ]
  },
  {
   "cell_type": "code",
   "execution_count": 110,
   "metadata": {},
   "outputs": [
    {
     "data": {
      "text/plain": [
       "1    97\n",
       "0    87\n",
       "5    60\n",
       "2    54\n",
       "8    47\n",
       "4    46\n",
       "9    42\n",
       "6    39\n",
       "7    36\n",
       "3    34\n",
       "Name: job_titles_topics, dtype: int64"
      ]
     },
     "execution_count": 110,
     "metadata": {},
     "output_type": "execute_result"
    }
   ],
   "source": [
    "df['job_titles_topics'].value_counts()"
   ]
  },
  {
   "cell_type": "code",
   "execution_count": 111,
   "metadata": {},
   "outputs": [],
   "source": [
    "to_drop=['job_titles','companys','salary','salary_terms','job_descriptions', 'job_requirements', 'links', \n",
    "         'min_salary', 'max_salary', 'avg_salary']\n",
    "\n",
    "df1=df.drop(columns=to_drop, axis=1)\n",
    "\n",
    "\n"
   ]
  },
  {
   "cell_type": "code",
   "execution_count": 112,
   "metadata": {},
   "outputs": [
    {
     "data": {
      "text/html": [
       "<div>\n",
       "<style scoped>\n",
       "    .dataframe tbody tr th:only-of-type {\n",
       "        vertical-align: middle;\n",
       "    }\n",
       "\n",
       "    .dataframe tbody tr th {\n",
       "        vertical-align: top;\n",
       "    }\n",
       "\n",
       "    .dataframe thead th {\n",
       "        text-align: right;\n",
       "    }\n",
       "</style>\n",
       "<table border=\"1\" class=\"dataframe\">\n",
       "  <thead>\n",
       "    <tr style=\"text-align: right;\">\n",
       "      <th></th>\n",
       "      <th>employment_type</th>\n",
       "      <th>seniority</th>\n",
       "      <th>industrys</th>\n",
       "      <th>location</th>\n",
       "      <th>gov_support</th>\n",
       "      <th>salary_med</th>\n",
       "      <th>job_description_topic</th>\n",
       "      <th>job_req_topics</th>\n",
       "      <th>job_titles_topics</th>\n",
       "    </tr>\n",
       "  </thead>\n",
       "  <tbody>\n",
       "    <tr>\n",
       "      <th>0</th>\n",
       "      <td>Full Time</td>\n",
       "      <td>Professional</td>\n",
       "      <td>Engineering</td>\n",
       "      <td>Central</td>\n",
       "      <td>yes</td>\n",
       "      <td>1</td>\n",
       "      <td>8</td>\n",
       "      <td>0</td>\n",
       "      <td>1</td>\n",
       "    </tr>\n",
       "    <tr>\n",
       "      <th>1</th>\n",
       "      <td>Permanent</td>\n",
       "      <td>Professional</td>\n",
       "      <td>Engineering</td>\n",
       "      <td>North</td>\n",
       "      <td>yes</td>\n",
       "      <td>0</td>\n",
       "      <td>8</td>\n",
       "      <td>0</td>\n",
       "      <td>1</td>\n",
       "    </tr>\n",
       "    <tr>\n",
       "      <th>3</th>\n",
       "      <td>Full Time</td>\n",
       "      <td>Senior Executive</td>\n",
       "      <td>Information Technology</td>\n",
       "      <td>Islandwide</td>\n",
       "      <td>no</td>\n",
       "      <td>1</td>\n",
       "      <td>8</td>\n",
       "      <td>4</td>\n",
       "      <td>3</td>\n",
       "    </tr>\n",
       "    <tr>\n",
       "      <th>4</th>\n",
       "      <td>Full Time</td>\n",
       "      <td>Senior Executive</td>\n",
       "      <td>Information Technology</td>\n",
       "      <td>Islandwide</td>\n",
       "      <td>no</td>\n",
       "      <td>1</td>\n",
       "      <td>8</td>\n",
       "      <td>4</td>\n",
       "      <td>3</td>\n",
       "    </tr>\n",
       "    <tr>\n",
       "      <th>5</th>\n",
       "      <td>Full Time</td>\n",
       "      <td>Senior Executive</td>\n",
       "      <td>Information Technology</td>\n",
       "      <td>Islandwide</td>\n",
       "      <td>no</td>\n",
       "      <td>1</td>\n",
       "      <td>8</td>\n",
       "      <td>4</td>\n",
       "      <td>3</td>\n",
       "    </tr>\n",
       "  </tbody>\n",
       "</table>\n",
       "</div>"
      ],
      "text/plain": [
       "  employment_type         seniority               industrys    location  \\\n",
       "0       Full Time      Professional             Engineering     Central   \n",
       "1       Permanent      Professional             Engineering       North   \n",
       "3       Full Time  Senior Executive  Information Technology  Islandwide   \n",
       "4       Full Time  Senior Executive  Information Technology  Islandwide   \n",
       "5       Full Time  Senior Executive  Information Technology  Islandwide   \n",
       "\n",
       "  gov_support  salary_med  job_description_topic  job_req_topics  \\\n",
       "0         yes           1                      8               0   \n",
       "1         yes           0                      8               0   \n",
       "3          no           1                      8               4   \n",
       "4          no           1                      8               4   \n",
       "5          no           1                      8               4   \n",
       "\n",
       "   job_titles_topics  \n",
       "0                  1  \n",
       "1                  1  \n",
       "3                  3  \n",
       "4                  3  \n",
       "5                  3  "
      ]
     },
     "execution_count": 112,
     "metadata": {},
     "output_type": "execute_result"
    }
   ],
   "source": [
    "df1.head()"
   ]
  },
  {
   "cell_type": "code",
   "execution_count": 113,
   "metadata": {},
   "outputs": [],
   "source": [
    "dummy_cols=['employment_type','seniority','industrys','location','gov_support', \n",
    "            'job_description_topic', 'job_req_topics', 'job_titles_topics']"
   ]
  },
  {
   "cell_type": "code",
   "execution_count": 114,
   "metadata": {},
   "outputs": [
    {
     "name": "stdout",
     "output_type": "stream",
     "text": [
      "(542, 48)\n"
     ]
    }
   ],
   "source": [
    "df1_dummy= pd.get_dummies(df1,columns=dummy_cols,drop_first=True)\n",
    "print(df1_dummy.shape)"
   ]
  },
  {
   "cell_type": "code",
   "execution_count": 115,
   "metadata": {},
   "outputs": [],
   "source": [
    "X=df1_dummy.drop('salary_med', axis=1)"
   ]
  },
  {
   "cell_type": "code",
   "execution_count": 116,
   "metadata": {},
   "outputs": [],
   "source": [
    "y=df1.salary_med"
   ]
  },
  {
   "cell_type": "markdown",
   "metadata": {},
   "source": [
    "## Modelling"
   ]
  },
  {
   "cell_type": "markdown",
   "metadata": {},
   "source": [
    "### 1. LogisticRegression"
   ]
  },
  {
   "cell_type": "code",
   "execution_count": 117,
   "metadata": {},
   "outputs": [
    {
     "name": "stdout",
     "output_type": "stream",
     "text": [
      "[0.78606592 0.78483245 0.767306   0.6340388 ] 0.7430607933336958\n"
     ]
    },
    {
     "name": "stderr",
     "output_type": "stream",
     "text": [
      "/anaconda3/lib/python3.7/site-packages/sklearn/linear_model/logistic.py:433: FutureWarning: Default solver will be changed to 'lbfgs' in 0.22. Specify a solver to silence this warning.\n",
      "  FutureWarning)\n",
      "/anaconda3/lib/python3.7/site-packages/sklearn/linear_model/logistic.py:433: FutureWarning: Default solver will be changed to 'lbfgs' in 0.22. Specify a solver to silence this warning.\n",
      "  FutureWarning)\n",
      "/anaconda3/lib/python3.7/site-packages/sklearn/linear_model/logistic.py:433: FutureWarning: Default solver will be changed to 'lbfgs' in 0.22. Specify a solver to silence this warning.\n",
      "  FutureWarning)\n",
      "/anaconda3/lib/python3.7/site-packages/sklearn/linear_model/logistic.py:433: FutureWarning: Default solver will be changed to 'lbfgs' in 0.22. Specify a solver to silence this warning.\n",
      "  FutureWarning)\n",
      "/anaconda3/lib/python3.7/site-packages/sklearn/linear_model/logistic.py:433: FutureWarning: Default solver will be changed to 'lbfgs' in 0.22. Specify a solver to silence this warning.\n",
      "  FutureWarning)\n"
     ]
    }
   ],
   "source": [
    "from sklearn.model_selection import cross_val_score\n",
    "from sklearn.linear_model import LogisticRegression\n",
    "\n",
    "# cross val Log Reg with 4 folds\n",
    "cls_scores = cross_val_score(LogisticRegression(), X, y, cv=4, scoring='roc_auc')\n",
    "\n",
    "#get scores\n",
    "print(cls_scores, np.mean(cls_scores))\n",
    "\n",
    "# fit models\n",
    "logreg = LogisticRegression().fit(X, y) #AUC"
   ]
  },
  {
   "cell_type": "code",
   "execution_count": 118,
   "metadata": {},
   "outputs": [],
   "source": [
    "# the score looks ok. now lets check the score of the other models"
   ]
  },
  {
   "cell_type": "markdown",
   "metadata": {},
   "source": [
    "### 2. Decision Tree Classifier\n",
    "\n",
    "#### Using GridSearchCV to find the best decision tree classifier"
   ]
  },
  {
   "cell_type": "code",
   "execution_count": 119,
   "metadata": {},
   "outputs": [],
   "source": [
    "from sklearn.tree import DecisionTreeClassifier\n",
    "\n",
    "# gridsearch params\n",
    "dtc_params = {\n",
    "    'max_depth':[None,1,2,3,4],\n",
    "    'max_features':[None,'log2','sqrt',2,3,4,5],\n",
    "    'min_samples_split':[2,3,4,5,10,15,20,25,30,40,50]\n",
    "}\n",
    "\n",
    "from sklearn.model_selection import GridSearchCV\n",
    "# set the gridsearch\n",
    "dtc_gs = GridSearchCV(DecisionTreeClassifier(), \n",
    "                      dtc_params, \n",
    "                      cv=5, \n",
    "                      verbose=1, \n",
    "                      scoring='roc_auc', \n",
    "                      n_jobs=-1)"
   ]
  },
  {
   "cell_type": "code",
   "execution_count": 120,
   "metadata": {},
   "outputs": [
    {
     "name": "stdout",
     "output_type": "stream",
     "text": [
      "Fitting 5 folds for each of 385 candidates, totalling 1925 fits\n"
     ]
    },
    {
     "name": "stderr",
     "output_type": "stream",
     "text": [
      "[Parallel(n_jobs=-1)]: Using backend LokyBackend with 8 concurrent workers.\n",
      "[Parallel(n_jobs=-1)]: Done  34 tasks      | elapsed:    1.6s\n",
      "[Parallel(n_jobs=-1)]: Done 1925 out of 1925 | elapsed:    3.3s finished\n",
      "/anaconda3/lib/python3.7/site-packages/sklearn/model_selection/_search.py:841: DeprecationWarning: The default of the `iid` parameter will change from True to False in version 0.22 and will be removed in 0.24. This will change numeric results when test-set sizes are unequal.\n",
      "  DeprecationWarning)\n"
     ]
    },
    {
     "data": {
      "text/plain": [
       "GridSearchCV(cv=5, error_score='raise-deprecating',\n",
       "       estimator=DecisionTreeClassifier(class_weight=None, criterion='gini', max_depth=None,\n",
       "            max_features=None, max_leaf_nodes=None,\n",
       "            min_impurity_decrease=0.0, min_impurity_split=None,\n",
       "            min_samples_leaf=1, min_samples_split=2,\n",
       "            min_weight_fraction_leaf=0.0, presort=False, random_state=None,\n",
       "            splitter='best'),\n",
       "       fit_params=None, iid='warn', n_jobs=-1,\n",
       "       param_grid={'max_depth': [None, 1, 2, 3, 4], 'max_features': [None, 'log2', 'sqrt', 2, 3, 4, 5], 'min_samples_split': [2, 3, 4, 5, 10, 15, 20, 25, 30, 40, 50]},\n",
       "       pre_dispatch='2*n_jobs', refit=True, return_train_score='warn',\n",
       "       scoring='roc_auc', verbose=1)"
      ]
     },
     "execution_count": 120,
     "metadata": {},
     "output_type": "execute_result"
    }
   ],
   "source": [
    "# use the gridearc C model to fit the data\n",
    "dtc_gs.fit(X, y)"
   ]
  },
  {
   "cell_type": "code",
   "execution_count": 121,
   "metadata": {},
   "outputs": [
    {
     "name": "stdout",
     "output_type": "stream",
     "text": [
      "{'max_depth': None, 'max_features': 'log2', 'min_samples_split': 30}\n",
      "0.6966041155447319\n"
     ]
    }
   ],
   "source": [
    "dtc_best = dtc_gs.best_estimator_\n",
    "print(dtc_gs.best_params_)\n",
    "print(dtc_gs.best_score_)"
   ]
  },
  {
   "cell_type": "code",
   "execution_count": 122,
   "metadata": {},
   "outputs": [
    {
     "data": {
      "text/html": [
       "<div>\n",
       "<style scoped>\n",
       "    .dataframe tbody tr th:only-of-type {\n",
       "        vertical-align: middle;\n",
       "    }\n",
       "\n",
       "    .dataframe tbody tr th {\n",
       "        vertical-align: top;\n",
       "    }\n",
       "\n",
       "    .dataframe thead th {\n",
       "        text-align: right;\n",
       "    }\n",
       "</style>\n",
       "<table border=\"1\" class=\"dataframe\">\n",
       "  <thead>\n",
       "    <tr style=\"text-align: right;\">\n",
       "      <th></th>\n",
       "      <th>feature</th>\n",
       "      <th>importance</th>\n",
       "    </tr>\n",
       "  </thead>\n",
       "  <tbody>\n",
       "    <tr>\n",
       "      <th>11</th>\n",
       "      <td>industrys_Engineering</td>\n",
       "      <td>0.108834</td>\n",
       "    </tr>\n",
       "    <tr>\n",
       "      <th>4</th>\n",
       "      <td>seniority_Manager</td>\n",
       "      <td>0.075552</td>\n",
       "    </tr>\n",
       "    <tr>\n",
       "      <th>0</th>\n",
       "      <td>employment_type_Full Time</td>\n",
       "      <td>0.067615</td>\n",
       "    </tr>\n",
       "    <tr>\n",
       "      <th>38</th>\n",
       "      <td>job_titles_topics_1</td>\n",
       "      <td>0.059928</td>\n",
       "    </tr>\n",
       "    <tr>\n",
       "      <th>8</th>\n",
       "      <td>seniority_Professional</td>\n",
       "      <td>0.054289</td>\n",
       "    </tr>\n",
       "    <tr>\n",
       "      <th>18</th>\n",
       "      <td>location_West</td>\n",
       "      <td>0.051977</td>\n",
       "    </tr>\n",
       "    <tr>\n",
       "      <th>34</th>\n",
       "      <td>job_req_topics_6</td>\n",
       "      <td>0.049474</td>\n",
       "    </tr>\n",
       "    <tr>\n",
       "      <th>28</th>\n",
       "      <td>job_description_topic_9</td>\n",
       "      <td>0.042684</td>\n",
       "    </tr>\n",
       "    <tr>\n",
       "      <th>35</th>\n",
       "      <td>job_req_topics_7</td>\n",
       "      <td>0.038718</td>\n",
       "    </tr>\n",
       "    <tr>\n",
       "      <th>9</th>\n",
       "      <td>seniority_Senior Executive</td>\n",
       "      <td>0.033332</td>\n",
       "    </tr>\n",
       "    <tr>\n",
       "      <th>31</th>\n",
       "      <td>job_req_topics_3</td>\n",
       "      <td>0.032152</td>\n",
       "    </tr>\n",
       "    <tr>\n",
       "      <th>3</th>\n",
       "      <td>seniority_Junior Executive</td>\n",
       "      <td>0.031089</td>\n",
       "    </tr>\n",
       "    <tr>\n",
       "      <th>21</th>\n",
       "      <td>job_description_topic_2</td>\n",
       "      <td>0.030626</td>\n",
       "    </tr>\n",
       "    <tr>\n",
       "      <th>43</th>\n",
       "      <td>job_titles_topics_6</td>\n",
       "      <td>0.029937</td>\n",
       "    </tr>\n",
       "    <tr>\n",
       "      <th>10</th>\n",
       "      <td>seniority_Senior Management</td>\n",
       "      <td>0.029082</td>\n",
       "    </tr>\n",
       "    <tr>\n",
       "      <th>12</th>\n",
       "      <td>industrys_Information Technology</td>\n",
       "      <td>0.024659</td>\n",
       "    </tr>\n",
       "    <tr>\n",
       "      <th>41</th>\n",
       "      <td>job_titles_topics_4</td>\n",
       "      <td>0.023926</td>\n",
       "    </tr>\n",
       "    <tr>\n",
       "      <th>39</th>\n",
       "      <td>job_titles_topics_2</td>\n",
       "      <td>0.023466</td>\n",
       "    </tr>\n",
       "    <tr>\n",
       "      <th>20</th>\n",
       "      <td>job_description_topic_1</td>\n",
       "      <td>0.022501</td>\n",
       "    </tr>\n",
       "    <tr>\n",
       "      <th>2</th>\n",
       "      <td>seniority_Fresh/entry level</td>\n",
       "      <td>0.020808</td>\n",
       "    </tr>\n",
       "    <tr>\n",
       "      <th>26</th>\n",
       "      <td>job_description_topic_7</td>\n",
       "      <td>0.017510</td>\n",
       "    </tr>\n",
       "    <tr>\n",
       "      <th>36</th>\n",
       "      <td>job_req_topics_8</td>\n",
       "      <td>0.015539</td>\n",
       "    </tr>\n",
       "    <tr>\n",
       "      <th>44</th>\n",
       "      <td>job_titles_topics_7</td>\n",
       "      <td>0.015030</td>\n",
       "    </tr>\n",
       "    <tr>\n",
       "      <th>46</th>\n",
       "      <td>job_titles_topics_9</td>\n",
       "      <td>0.014108</td>\n",
       "    </tr>\n",
       "    <tr>\n",
       "      <th>25</th>\n",
       "      <td>job_description_topic_6</td>\n",
       "      <td>0.012913</td>\n",
       "    </tr>\n",
       "    <tr>\n",
       "      <th>14</th>\n",
       "      <td>location_Islandwide</td>\n",
       "      <td>0.012741</td>\n",
       "    </tr>\n",
       "    <tr>\n",
       "      <th>7</th>\n",
       "      <td>seniority_Non-executive</td>\n",
       "      <td>0.011255</td>\n",
       "    </tr>\n",
       "    <tr>\n",
       "      <th>23</th>\n",
       "      <td>job_description_topic_4</td>\n",
       "      <td>0.011147</td>\n",
       "    </tr>\n",
       "    <tr>\n",
       "      <th>24</th>\n",
       "      <td>job_description_topic_5</td>\n",
       "      <td>0.010282</td>\n",
       "    </tr>\n",
       "    <tr>\n",
       "      <th>42</th>\n",
       "      <td>job_titles_topics_5</td>\n",
       "      <td>0.009161</td>\n",
       "    </tr>\n",
       "    <tr>\n",
       "      <th>37</th>\n",
       "      <td>job_req_topics_9</td>\n",
       "      <td>0.005742</td>\n",
       "    </tr>\n",
       "    <tr>\n",
       "      <th>32</th>\n",
       "      <td>job_req_topics_4</td>\n",
       "      <td>0.003669</td>\n",
       "    </tr>\n",
       "    <tr>\n",
       "      <th>16</th>\n",
       "      <td>location_North</td>\n",
       "      <td>0.003277</td>\n",
       "    </tr>\n",
       "    <tr>\n",
       "      <th>45</th>\n",
       "      <td>job_titles_topics_8</td>\n",
       "      <td>0.001804</td>\n",
       "    </tr>\n",
       "    <tr>\n",
       "      <th>5</th>\n",
       "      <td>seniority_Middle Management</td>\n",
       "      <td>0.001701</td>\n",
       "    </tr>\n",
       "    <tr>\n",
       "      <th>27</th>\n",
       "      <td>job_description_topic_8</td>\n",
       "      <td>0.001640</td>\n",
       "    </tr>\n",
       "    <tr>\n",
       "      <th>40</th>\n",
       "      <td>job_titles_topics_3</td>\n",
       "      <td>0.001008</td>\n",
       "    </tr>\n",
       "    <tr>\n",
       "      <th>30</th>\n",
       "      <td>job_req_topics_2</td>\n",
       "      <td>0.000825</td>\n",
       "    </tr>\n",
       "    <tr>\n",
       "      <th>15</th>\n",
       "      <td>location_NA</td>\n",
       "      <td>0.000000</td>\n",
       "    </tr>\n",
       "    <tr>\n",
       "      <th>22</th>\n",
       "      <td>job_description_topic_3</td>\n",
       "      <td>0.000000</td>\n",
       "    </tr>\n",
       "    <tr>\n",
       "      <th>13</th>\n",
       "      <td>location_East</td>\n",
       "      <td>0.000000</td>\n",
       "    </tr>\n",
       "    <tr>\n",
       "      <th>1</th>\n",
       "      <td>employment_type_Permanent</td>\n",
       "      <td>0.000000</td>\n",
       "    </tr>\n",
       "    <tr>\n",
       "      <th>17</th>\n",
       "      <td>location_South</td>\n",
       "      <td>0.000000</td>\n",
       "    </tr>\n",
       "    <tr>\n",
       "      <th>6</th>\n",
       "      <td>seniority_NA</td>\n",
       "      <td>0.000000</td>\n",
       "    </tr>\n",
       "    <tr>\n",
       "      <th>33</th>\n",
       "      <td>job_req_topics_5</td>\n",
       "      <td>0.000000</td>\n",
       "    </tr>\n",
       "    <tr>\n",
       "      <th>19</th>\n",
       "      <td>gov_support_yes</td>\n",
       "      <td>0.000000</td>\n",
       "    </tr>\n",
       "    <tr>\n",
       "      <th>29</th>\n",
       "      <td>job_req_topics_1</td>\n",
       "      <td>0.000000</td>\n",
       "    </tr>\n",
       "  </tbody>\n",
       "</table>\n",
       "</div>"
      ],
      "text/plain": [
       "                             feature  importance\n",
       "11             industrys_Engineering    0.108834\n",
       "4                  seniority_Manager    0.075552\n",
       "0          employment_type_Full Time    0.067615\n",
       "38               job_titles_topics_1    0.059928\n",
       "8             seniority_Professional    0.054289\n",
       "18                     location_West    0.051977\n",
       "34                  job_req_topics_6    0.049474\n",
       "28           job_description_topic_9    0.042684\n",
       "35                  job_req_topics_7    0.038718\n",
       "9         seniority_Senior Executive    0.033332\n",
       "31                  job_req_topics_3    0.032152\n",
       "3         seniority_Junior Executive    0.031089\n",
       "21           job_description_topic_2    0.030626\n",
       "43               job_titles_topics_6    0.029937\n",
       "10       seniority_Senior Management    0.029082\n",
       "12  industrys_Information Technology    0.024659\n",
       "41               job_titles_topics_4    0.023926\n",
       "39               job_titles_topics_2    0.023466\n",
       "20           job_description_topic_1    0.022501\n",
       "2        seniority_Fresh/entry level    0.020808\n",
       "26           job_description_topic_7    0.017510\n",
       "36                  job_req_topics_8    0.015539\n",
       "44               job_titles_topics_7    0.015030\n",
       "46               job_titles_topics_9    0.014108\n",
       "25           job_description_topic_6    0.012913\n",
       "14               location_Islandwide    0.012741\n",
       "7            seniority_Non-executive    0.011255\n",
       "23           job_description_topic_4    0.011147\n",
       "24           job_description_topic_5    0.010282\n",
       "42               job_titles_topics_5    0.009161\n",
       "37                  job_req_topics_9    0.005742\n",
       "32                  job_req_topics_4    0.003669\n",
       "16                    location_North    0.003277\n",
       "45               job_titles_topics_8    0.001804\n",
       "5        seniority_Middle Management    0.001701\n",
       "27           job_description_topic_8    0.001640\n",
       "40               job_titles_topics_3    0.001008\n",
       "30                  job_req_topics_2    0.000825\n",
       "15                       location_NA    0.000000\n",
       "22           job_description_topic_3    0.000000\n",
       "13                     location_East    0.000000\n",
       "1          employment_type_Permanent    0.000000\n",
       "17                    location_South    0.000000\n",
       "6                       seniority_NA    0.000000\n",
       "33                  job_req_topics_5    0.000000\n",
       "19                   gov_support_yes    0.000000\n",
       "29                  job_req_topics_1    0.000000"
      ]
     },
     "execution_count": 122,
     "metadata": {},
     "output_type": "execute_result"
    }
   ],
   "source": [
    "# printing out important features\n",
    "\n",
    "fi = pd.DataFrame({\n",
    "        'feature':X.columns,\n",
    "        'importance':dtc_best.feature_importances_\n",
    "    })\n",
    "\n",
    "fi.sort_values('importance', ascending=False, inplace=True)\n",
    "fi"
   ]
  },
  {
   "cell_type": "code",
   "execution_count": 123,
   "metadata": {},
   "outputs": [],
   "source": [
    "# Decision tree model performs slightly lower than the logistic regression model.\n",
    "\n",
    "# Some of the important features were noted which will be summarised at the end."
   ]
  },
  {
   "cell_type": "markdown",
   "metadata": {},
   "source": [
    "### 3. RandomForest Classifier (RFC)"
   ]
  },
  {
   "cell_type": "code",
   "execution_count": 124,
   "metadata": {},
   "outputs": [],
   "source": [
    "#train test split\n",
    "from sklearn.model_selection import train_test_split\n",
    "X_train, X_test, y_train, y_test = train_test_split(X, y, test_size=0.30)"
   ]
  },
  {
   "cell_type": "code",
   "execution_count": 125,
   "metadata": {},
   "outputs": [
    {
     "data": {
      "text/plain": [
       "RandomForestClassifier(bootstrap=True, class_weight=None, criterion='gini',\n",
       "            max_depth=None, max_features='auto', max_leaf_nodes=None,\n",
       "            min_impurity_decrease=0.0, min_impurity_split=None,\n",
       "            min_samples_leaf=1, min_samples_split=2,\n",
       "            min_weight_fraction_leaf=0.0, n_estimators=200, n_jobs=None,\n",
       "            oob_score=False, random_state=None, verbose=0,\n",
       "            warm_start=False)"
      ]
     },
     "execution_count": 125,
     "metadata": {},
     "output_type": "execute_result"
    }
   ],
   "source": [
    "from sklearn.ensemble import RandomForestClassifier\n",
    "from sklearn.metrics import classification_report,confusion_matrix\n",
    "rfc = RandomForestClassifier(n_estimators=200)\n",
    "rfc.fit(X_train, y_train)"
   ]
  },
  {
   "cell_type": "code",
   "execution_count": 126,
   "metadata": {},
   "outputs": [],
   "source": [
    "rfc_pred = rfc.predict(X_test)"
   ]
  },
  {
   "cell_type": "code",
   "execution_count": 127,
   "metadata": {},
   "outputs": [
    {
     "name": "stdout",
     "output_type": "stream",
     "text": [
      "[[50 26]\n",
      " [19 68]]\n"
     ]
    }
   ],
   "source": [
    "print(confusion_matrix(y_test,rfc_pred))"
   ]
  },
  {
   "cell_type": "code",
   "execution_count": 128,
   "metadata": {},
   "outputs": [
    {
     "name": "stdout",
     "output_type": "stream",
     "text": [
      "              precision    recall  f1-score   support\n",
      "\n",
      "           0       0.72      0.66      0.69        76\n",
      "           1       0.72      0.78      0.75        87\n",
      "\n",
      "   micro avg       0.72      0.72      0.72       163\n",
      "   macro avg       0.72      0.72      0.72       163\n",
      "weighted avg       0.72      0.72      0.72       163\n",
      "\n"
     ]
    }
   ],
   "source": [
    "print(classification_report(y_test,rfc_pred))"
   ]
  },
  {
   "cell_type": "code",
   "execution_count": 129,
   "metadata": {},
   "outputs": [],
   "source": [
    "# RFC works better for both category when compared to decision tree and logistic classification\n",
    "\n",
    "# The precision of lower salary category is 77% and recall of the higher salary category is 79%, \n",
    "#this shows that this classifier works better for both classes"
   ]
  },
  {
   "cell_type": "markdown",
   "metadata": {},
   "source": [
    "### 4. SVM"
   ]
  },
  {
   "cell_type": "code",
   "execution_count": 130,
   "metadata": {},
   "outputs": [
    {
     "name": "stderr",
     "output_type": "stream",
     "text": [
      "/anaconda3/lib/python3.7/site-packages/sklearn/preprocessing/data.py:625: DataConversionWarning: Data with input dtype uint8 were all converted to float64 by StandardScaler.\n",
      "  return self.partial_fit(X, y)\n",
      "/anaconda3/lib/python3.7/site-packages/sklearn/base.py:462: DataConversionWarning: Data with input dtype uint8 were all converted to float64 by StandardScaler.\n",
      "  return self.fit(X, **fit_params).transform(X)\n"
     ]
    }
   ],
   "source": [
    "from sklearn.preprocessing import StandardScaler\n",
    "\n",
    "ss = StandardScaler()\n",
    "Xn = ss.fit_transform(X)"
   ]
  },
  {
   "cell_type": "code",
   "execution_count": 131,
   "metadata": {},
   "outputs": [
    {
     "name": "stdout",
     "output_type": "stream",
     "text": [
      "linear - Average score: 0.746 +/- 0.0676\n"
     ]
    },
    {
     "name": "stderr",
     "output_type": "stream",
     "text": [
      "/anaconda3/lib/python3.7/site-packages/sklearn/svm/base.py:196: FutureWarning: The default value of gamma will change from 'auto' to 'scale' in version 0.22 to account better for unscaled features. Set gamma explicitly to 'auto' or 'scale' to avoid this warning.\n",
      "  \"avoid this warning.\", FutureWarning)\n",
      "/anaconda3/lib/python3.7/site-packages/sklearn/svm/base.py:196: FutureWarning: The default value of gamma will change from 'auto' to 'scale' in version 0.22 to account better for unscaled features. Set gamma explicitly to 'auto' or 'scale' to avoid this warning.\n",
      "  \"avoid this warning.\", FutureWarning)\n",
      "/anaconda3/lib/python3.7/site-packages/sklearn/svm/base.py:196: FutureWarning: The default value of gamma will change from 'auto' to 'scale' in version 0.22 to account better for unscaled features. Set gamma explicitly to 'auto' or 'scale' to avoid this warning.\n",
      "  \"avoid this warning.\", FutureWarning)\n",
      "/anaconda3/lib/python3.7/site-packages/sklearn/svm/base.py:196: FutureWarning: The default value of gamma will change from 'auto' to 'scale' in version 0.22 to account better for unscaled features. Set gamma explicitly to 'auto' or 'scale' to avoid this warning.\n",
      "  \"avoid this warning.\", FutureWarning)\n",
      "/anaconda3/lib/python3.7/site-packages/sklearn/svm/base.py:196: FutureWarning: The default value of gamma will change from 'auto' to 'scale' in version 0.22 to account better for unscaled features. Set gamma explicitly to 'auto' or 'scale' to avoid this warning.\n",
      "  \"avoid this warning.\", FutureWarning)\n"
     ]
    },
    {
     "name": "stdout",
     "output_type": "stream",
     "text": [
      "poly - Average score: 0.74 +/- 0.0819\n",
      "rbf - Average score: 0.76 +/- 0.0832\n",
      "sigmoid - Average score: 0.734 +/- 0.0871\n"
     ]
    },
    {
     "name": "stderr",
     "output_type": "stream",
     "text": [
      "/anaconda3/lib/python3.7/site-packages/sklearn/svm/base.py:196: FutureWarning: The default value of gamma will change from 'auto' to 'scale' in version 0.22 to account better for unscaled features. Set gamma explicitly to 'auto' or 'scale' to avoid this warning.\n",
      "  \"avoid this warning.\", FutureWarning)\n",
      "/anaconda3/lib/python3.7/site-packages/sklearn/svm/base.py:196: FutureWarning: The default value of gamma will change from 'auto' to 'scale' in version 0.22 to account better for unscaled features. Set gamma explicitly to 'auto' or 'scale' to avoid this warning.\n",
      "  \"avoid this warning.\", FutureWarning)\n",
      "/anaconda3/lib/python3.7/site-packages/sklearn/svm/base.py:196: FutureWarning: The default value of gamma will change from 'auto' to 'scale' in version 0.22 to account better for unscaled features. Set gamma explicitly to 'auto' or 'scale' to avoid this warning.\n",
      "  \"avoid this warning.\", FutureWarning)\n",
      "/anaconda3/lib/python3.7/site-packages/sklearn/svm/base.py:196: FutureWarning: The default value of gamma will change from 'auto' to 'scale' in version 0.22 to account better for unscaled features. Set gamma explicitly to 'auto' or 'scale' to avoid this warning.\n",
      "  \"avoid this warning.\", FutureWarning)\n",
      "/anaconda3/lib/python3.7/site-packages/sklearn/svm/base.py:196: FutureWarning: The default value of gamma will change from 'auto' to 'scale' in version 0.22 to account better for unscaled features. Set gamma explicitly to 'auto' or 'scale' to avoid this warning.\n",
      "  \"avoid this warning.\", FutureWarning)\n",
      "/anaconda3/lib/python3.7/site-packages/sklearn/svm/base.py:196: FutureWarning: The default value of gamma will change from 'auto' to 'scale' in version 0.22 to account better for unscaled features. Set gamma explicitly to 'auto' or 'scale' to avoid this warning.\n",
      "  \"avoid this warning.\", FutureWarning)\n",
      "/anaconda3/lib/python3.7/site-packages/sklearn/svm/base.py:196: FutureWarning: The default value of gamma will change from 'auto' to 'scale' in version 0.22 to account better for unscaled features. Set gamma explicitly to 'auto' or 'scale' to avoid this warning.\n",
      "  \"avoid this warning.\", FutureWarning)\n",
      "/anaconda3/lib/python3.7/site-packages/sklearn/svm/base.py:196: FutureWarning: The default value of gamma will change from 'auto' to 'scale' in version 0.22 to account better for unscaled features. Set gamma explicitly to 'auto' or 'scale' to avoid this warning.\n",
      "  \"avoid this warning.\", FutureWarning)\n",
      "/anaconda3/lib/python3.7/site-packages/sklearn/svm/base.py:196: FutureWarning: The default value of gamma will change from 'auto' to 'scale' in version 0.22 to account better for unscaled features. Set gamma explicitly to 'auto' or 'scale' to avoid this warning.\n",
      "  \"avoid this warning.\", FutureWarning)\n",
      "/anaconda3/lib/python3.7/site-packages/sklearn/svm/base.py:196: FutureWarning: The default value of gamma will change from 'auto' to 'scale' in version 0.22 to account better for unscaled features. Set gamma explicitly to 'auto' or 'scale' to avoid this warning.\n",
      "  \"avoid this warning.\", FutureWarning)\n"
     ]
    }
   ],
   "source": [
    "from sklearn.svm import SVC\n",
    "from sklearn.model_selection import cross_val_score\n",
    "\n",
    "for kernel in ['linear', 'poly', 'rbf', 'sigmoid']:\n",
    "    svm = SVC(kernel=kernel, degree=3)\n",
    "    scores = cross_val_score(svm, Xn, y, cv=5, scoring='roc_auc')\n",
    "    sm = scores.mean()\n",
    "    ss = scores.std()\n",
    "    print(\"{} - Average score: {:0.3} +/- {:0.3}\".format(kernel,sm, ss))"
   ]
  },
  {
   "cell_type": "code",
   "execution_count": 132,
   "metadata": {},
   "outputs": [],
   "source": [
    "# cross val on linear kernel resulted in better scores so \n",
    "#used the linear kernal to build/test our final model below."
   ]
  },
  {
   "cell_type": "code",
   "execution_count": 133,
   "metadata": {},
   "outputs": [],
   "source": [
    "from sklearn.metrics import classification_report\n",
    "\n",
    "def print_cm_cr(y_true, y_pred):\n",
    "    \"\"\"prints the confusion matrix and the classification report\"\"\"\n",
    "    confusion = pd.crosstab(y_true, \n",
    "                            y_pred, \n",
    "                            rownames=['Actual'], \n",
    "                            colnames=['Predicted'], \n",
    "                            margins=True)\n",
    "    print(confusion)\n",
    "    print('')\n",
    "    print(classification_report(y_true, y_pred))"
   ]
  },
  {
   "cell_type": "code",
   "execution_count": 134,
   "metadata": {},
   "outputs": [
    {
     "name": "stdout",
     "output_type": "stream",
     "text": [
      "Predicted   0   1  All\n",
      "Actual                \n",
      "0          59  25   84\n",
      "1          28  67   95\n",
      "All        87  92  179\n",
      "\n",
      "              precision    recall  f1-score   support\n",
      "\n",
      "           0       0.68      0.70      0.69        84\n",
      "           1       0.73      0.71      0.72        95\n",
      "\n",
      "   micro avg       0.70      0.70      0.70       179\n",
      "   macro avg       0.70      0.70      0.70       179\n",
      "weighted avg       0.70      0.70      0.70       179\n",
      "\n"
     ]
    }
   ],
   "source": [
    "from sklearn.model_selection import train_test_split\n",
    "\n",
    "lin_model = SVC(kernel='linear')\n",
    "X_train, X_test, y_train, y_test = train_test_split(Xn, y, stratify=y, test_size=0.33)\n",
    "lin_model.fit(X_train, y_train)\n",
    "y_pred = lin_model.predict(X_test)\n",
    "print_cm_cr(y_test, y_pred)"
   ]
  },
  {
   "cell_type": "code",
   "execution_count": 135,
   "metadata": {},
   "outputs": [],
   "source": [
    "# SVM performance is lower than RFC"
   ]
  },
  {
   "cell_type": "markdown",
   "metadata": {},
   "source": [
    "## 5. Applying Regression models to compare the results with the classification models"
   ]
  },
  {
   "cell_type": "code",
   "execution_count": 136,
   "metadata": {},
   "outputs": [
    {
     "data": {
      "text/html": [
       "<div>\n",
       "<style scoped>\n",
       "    .dataframe tbody tr th:only-of-type {\n",
       "        vertical-align: middle;\n",
       "    }\n",
       "\n",
       "    .dataframe tbody tr th {\n",
       "        vertical-align: top;\n",
       "    }\n",
       "\n",
       "    .dataframe thead th {\n",
       "        text-align: right;\n",
       "    }\n",
       "</style>\n",
       "<table border=\"1\" class=\"dataframe\">\n",
       "  <thead>\n",
       "    <tr style=\"text-align: right;\">\n",
       "      <th></th>\n",
       "      <th>job_titles</th>\n",
       "      <th>companys</th>\n",
       "      <th>employment_type</th>\n",
       "      <th>seniority</th>\n",
       "      <th>industrys</th>\n",
       "      <th>salary</th>\n",
       "      <th>salary_terms</th>\n",
       "      <th>job_descriptions</th>\n",
       "      <th>job_requirements</th>\n",
       "      <th>links</th>\n",
       "      <th>location</th>\n",
       "      <th>gov_support</th>\n",
       "      <th>min_salary</th>\n",
       "      <th>max_salary</th>\n",
       "      <th>avg_salary</th>\n",
       "      <th>salary_med</th>\n",
       "      <th>job_description_topic</th>\n",
       "      <th>job_req_topics</th>\n",
       "      <th>job_titles_topics</th>\n",
       "    </tr>\n",
       "  </thead>\n",
       "  <tbody>\n",
       "    <tr>\n",
       "      <th>0</th>\n",
       "      <td>Data Engineer</td>\n",
       "      <td>GRABTAXI HOLDINGS PTE. LTD.</td>\n",
       "      <td>Full Time</td>\n",
       "      <td>Professional</td>\n",
       "      <td>Engineering</td>\n",
       "      <td>6000to10000</td>\n",
       "      <td>Monthly</td>\n",
       "      <td>Build, deploy and manage big data solutions t...</td>\n",
       "      <td>A degree or higher in Computer Science, Elec...</td>\n",
       "      <td>https://www.mycareersfuture.sg/job/data-engine...</td>\n",
       "      <td>Central</td>\n",
       "      <td>yes</td>\n",
       "      <td>6000</td>\n",
       "      <td>10000</td>\n",
       "      <td>8000.0</td>\n",
       "      <td>1</td>\n",
       "      <td>8</td>\n",
       "      <td>0</td>\n",
       "      <td>1</td>\n",
       "    </tr>\n",
       "    <tr>\n",
       "      <th>1</th>\n",
       "      <td>Data Engineer</td>\n",
       "      <td>MOKA TECHNOLOGY SOLUTIONS PTE. LTD.</td>\n",
       "      <td>Permanent</td>\n",
       "      <td>Professional</td>\n",
       "      <td>Engineering</td>\n",
       "      <td>5000to7000</td>\n",
       "      <td>Monthly</td>\n",
       "      <td>Do you have a passion for data? Are you lookin...</td>\n",
       "      <td>You have:  BS (MS preferred) in Computer Scien...</td>\n",
       "      <td>https://www.mycareersfuture.sg/job/data-engine...</td>\n",
       "      <td>North</td>\n",
       "      <td>yes</td>\n",
       "      <td>5000</td>\n",
       "      <td>7000</td>\n",
       "      <td>6000.0</td>\n",
       "      <td>0</td>\n",
       "      <td>8</td>\n",
       "      <td>0</td>\n",
       "      <td>1</td>\n",
       "    </tr>\n",
       "    <tr>\n",
       "      <th>3</th>\n",
       "      <td>Senior ETL and DATA Engineer</td>\n",
       "      <td>SMARTSOFT PTE. LTD.</td>\n",
       "      <td>Full Time</td>\n",
       "      <td>Senior Executive</td>\n",
       "      <td>Information Technology</td>\n",
       "      <td>6000to11000</td>\n",
       "      <td>Monthly</td>\n",
       "      <td>Responsibilities include understanding ETL &amp;...</td>\n",
       "      <td>Experiences:  Must have 4 to 6 years of experi...</td>\n",
       "      <td>https://www.mycareersfuture.sg/job/senior-etl-...</td>\n",
       "      <td>Islandwide</td>\n",
       "      <td>no</td>\n",
       "      <td>6000</td>\n",
       "      <td>11000</td>\n",
       "      <td>8500.0</td>\n",
       "      <td>1</td>\n",
       "      <td>8</td>\n",
       "      <td>4</td>\n",
       "      <td>3</td>\n",
       "    </tr>\n",
       "    <tr>\n",
       "      <th>4</th>\n",
       "      <td>Senior ETL and Data Engineer</td>\n",
       "      <td>SCHELLDEN GLOBAL SERVICES</td>\n",
       "      <td>Full Time</td>\n",
       "      <td>Senior Executive</td>\n",
       "      <td>Information Technology</td>\n",
       "      <td>6000to11000</td>\n",
       "      <td>Monthly</td>\n",
       "      <td>Responsibilities include understanding ETL &amp; D...</td>\n",
       "      <td>Must have 4 to 6 years of experience using SQ...</td>\n",
       "      <td>https://www.mycareersfuture.sg/job/senior-etl-...</td>\n",
       "      <td>Islandwide</td>\n",
       "      <td>no</td>\n",
       "      <td>6000</td>\n",
       "      <td>11000</td>\n",
       "      <td>8500.0</td>\n",
       "      <td>1</td>\n",
       "      <td>8</td>\n",
       "      <td>4</td>\n",
       "      <td>3</td>\n",
       "    </tr>\n",
       "    <tr>\n",
       "      <th>5</th>\n",
       "      <td>Senior ETL and Data Engineer</td>\n",
       "      <td>SCHELLDEN GLOBAL PTE. LTD.</td>\n",
       "      <td>Full Time</td>\n",
       "      <td>Senior Executive</td>\n",
       "      <td>Information Technology</td>\n",
       "      <td>6000to11000</td>\n",
       "      <td>Monthly</td>\n",
       "      <td>Responsibilities include understanding ETL &amp; D...</td>\n",
       "      <td>Experiences:  Must have 4 to 6 years of experi...</td>\n",
       "      <td>https://www.mycareersfuture.sg/job/senior-etl-...</td>\n",
       "      <td>Islandwide</td>\n",
       "      <td>no</td>\n",
       "      <td>6000</td>\n",
       "      <td>11000</td>\n",
       "      <td>8500.0</td>\n",
       "      <td>1</td>\n",
       "      <td>8</td>\n",
       "      <td>4</td>\n",
       "      <td>3</td>\n",
       "    </tr>\n",
       "  </tbody>\n",
       "</table>\n",
       "</div>"
      ],
      "text/plain": [
       "                     job_titles                             companys  \\\n",
       "0                 Data Engineer          GRABTAXI HOLDINGS PTE. LTD.   \n",
       "1                 Data Engineer  MOKA TECHNOLOGY SOLUTIONS PTE. LTD.   \n",
       "3  Senior ETL and DATA Engineer                  SMARTSOFT PTE. LTD.   \n",
       "4  Senior ETL and Data Engineer            SCHELLDEN GLOBAL SERVICES   \n",
       "5  Senior ETL and Data Engineer           SCHELLDEN GLOBAL PTE. LTD.   \n",
       "\n",
       "  employment_type         seniority               industrys       salary  \\\n",
       "0       Full Time      Professional             Engineering  6000to10000   \n",
       "1       Permanent      Professional             Engineering   5000to7000   \n",
       "3       Full Time  Senior Executive  Information Technology  6000to11000   \n",
       "4       Full Time  Senior Executive  Information Technology  6000to11000   \n",
       "5       Full Time  Senior Executive  Information Technology  6000to11000   \n",
       "\n",
       "  salary_terms                                   job_descriptions  \\\n",
       "0      Monthly   Build, deploy and manage big data solutions t...   \n",
       "1      Monthly  Do you have a passion for data? Are you lookin...   \n",
       "3      Monthly    Responsibilities include understanding ETL &...   \n",
       "4      Monthly  Responsibilities include understanding ETL & D...   \n",
       "5      Monthly  Responsibilities include understanding ETL & D...   \n",
       "\n",
       "                                    job_requirements  \\\n",
       "0    A degree or higher in Computer Science, Elec...   \n",
       "1  You have:  BS (MS preferred) in Computer Scien...   \n",
       "3  Experiences:  Must have 4 to 6 years of experi...   \n",
       "4   Must have 4 to 6 years of experience using SQ...   \n",
       "5  Experiences:  Must have 4 to 6 years of experi...   \n",
       "\n",
       "                                               links    location gov_support  \\\n",
       "0  https://www.mycareersfuture.sg/job/data-engine...     Central         yes   \n",
       "1  https://www.mycareersfuture.sg/job/data-engine...       North         yes   \n",
       "3  https://www.mycareersfuture.sg/job/senior-etl-...  Islandwide          no   \n",
       "4  https://www.mycareersfuture.sg/job/senior-etl-...  Islandwide          no   \n",
       "5  https://www.mycareersfuture.sg/job/senior-etl-...  Islandwide          no   \n",
       "\n",
       "   min_salary  max_salary  avg_salary  salary_med  job_description_topic  \\\n",
       "0        6000       10000      8000.0           1                      8   \n",
       "1        5000        7000      6000.0           0                      8   \n",
       "3        6000       11000      8500.0           1                      8   \n",
       "4        6000       11000      8500.0           1                      8   \n",
       "5        6000       11000      8500.0           1                      8   \n",
       "\n",
       "   job_req_topics  job_titles_topics  \n",
       "0               0                  1  \n",
       "1               0                  1  \n",
       "3               4                  3  \n",
       "4               4                  3  \n",
       "5               4                  3  "
      ]
     },
     "execution_count": 136,
     "metadata": {},
     "output_type": "execute_result"
    }
   ],
   "source": [
    "df.head()"
   ]
  },
  {
   "cell_type": "code",
   "execution_count": 137,
   "metadata": {},
   "outputs": [],
   "source": [
    "to_drop=['job_titles','companys','salary','salary_terms','job_descriptions', 'job_requirements', 'links', \n",
    "         'min_salary', 'max_salary', 'salary_med']\n",
    "\n",
    "df2=df.drop(columns=to_drop, axis=1)\n"
   ]
  },
  {
   "cell_type": "code",
   "execution_count": 138,
   "metadata": {},
   "outputs": [
    {
     "data": {
      "text/html": [
       "<div>\n",
       "<style scoped>\n",
       "    .dataframe tbody tr th:only-of-type {\n",
       "        vertical-align: middle;\n",
       "    }\n",
       "\n",
       "    .dataframe tbody tr th {\n",
       "        vertical-align: top;\n",
       "    }\n",
       "\n",
       "    .dataframe thead th {\n",
       "        text-align: right;\n",
       "    }\n",
       "</style>\n",
       "<table border=\"1\" class=\"dataframe\">\n",
       "  <thead>\n",
       "    <tr style=\"text-align: right;\">\n",
       "      <th></th>\n",
       "      <th>employment_type</th>\n",
       "      <th>seniority</th>\n",
       "      <th>industrys</th>\n",
       "      <th>location</th>\n",
       "      <th>gov_support</th>\n",
       "      <th>avg_salary</th>\n",
       "      <th>job_description_topic</th>\n",
       "      <th>job_req_topics</th>\n",
       "      <th>job_titles_topics</th>\n",
       "    </tr>\n",
       "  </thead>\n",
       "  <tbody>\n",
       "    <tr>\n",
       "      <th>0</th>\n",
       "      <td>Full Time</td>\n",
       "      <td>Professional</td>\n",
       "      <td>Engineering</td>\n",
       "      <td>Central</td>\n",
       "      <td>yes</td>\n",
       "      <td>8000.0</td>\n",
       "      <td>8</td>\n",
       "      <td>0</td>\n",
       "      <td>1</td>\n",
       "    </tr>\n",
       "    <tr>\n",
       "      <th>1</th>\n",
       "      <td>Permanent</td>\n",
       "      <td>Professional</td>\n",
       "      <td>Engineering</td>\n",
       "      <td>North</td>\n",
       "      <td>yes</td>\n",
       "      <td>6000.0</td>\n",
       "      <td>8</td>\n",
       "      <td>0</td>\n",
       "      <td>1</td>\n",
       "    </tr>\n",
       "    <tr>\n",
       "      <th>3</th>\n",
       "      <td>Full Time</td>\n",
       "      <td>Senior Executive</td>\n",
       "      <td>Information Technology</td>\n",
       "      <td>Islandwide</td>\n",
       "      <td>no</td>\n",
       "      <td>8500.0</td>\n",
       "      <td>8</td>\n",
       "      <td>4</td>\n",
       "      <td>3</td>\n",
       "    </tr>\n",
       "    <tr>\n",
       "      <th>4</th>\n",
       "      <td>Full Time</td>\n",
       "      <td>Senior Executive</td>\n",
       "      <td>Information Technology</td>\n",
       "      <td>Islandwide</td>\n",
       "      <td>no</td>\n",
       "      <td>8500.0</td>\n",
       "      <td>8</td>\n",
       "      <td>4</td>\n",
       "      <td>3</td>\n",
       "    </tr>\n",
       "    <tr>\n",
       "      <th>5</th>\n",
       "      <td>Full Time</td>\n",
       "      <td>Senior Executive</td>\n",
       "      <td>Information Technology</td>\n",
       "      <td>Islandwide</td>\n",
       "      <td>no</td>\n",
       "      <td>8500.0</td>\n",
       "      <td>8</td>\n",
       "      <td>4</td>\n",
       "      <td>3</td>\n",
       "    </tr>\n",
       "  </tbody>\n",
       "</table>\n",
       "</div>"
      ],
      "text/plain": [
       "  employment_type         seniority               industrys    location  \\\n",
       "0       Full Time      Professional             Engineering     Central   \n",
       "1       Permanent      Professional             Engineering       North   \n",
       "3       Full Time  Senior Executive  Information Technology  Islandwide   \n",
       "4       Full Time  Senior Executive  Information Technology  Islandwide   \n",
       "5       Full Time  Senior Executive  Information Technology  Islandwide   \n",
       "\n",
       "  gov_support  avg_salary  job_description_topic  job_req_topics  \\\n",
       "0         yes      8000.0                      8               0   \n",
       "1         yes      6000.0                      8               0   \n",
       "3          no      8500.0                      8               4   \n",
       "4          no      8500.0                      8               4   \n",
       "5          no      8500.0                      8               4   \n",
       "\n",
       "   job_titles_topics  \n",
       "0                  1  \n",
       "1                  1  \n",
       "3                  3  \n",
       "4                  3  \n",
       "5                  3  "
      ]
     },
     "execution_count": 138,
     "metadata": {},
     "output_type": "execute_result"
    }
   ],
   "source": [
    "df2.head()"
   ]
  },
  {
   "cell_type": "code",
   "execution_count": 139,
   "metadata": {},
   "outputs": [],
   "source": [
    "dummy_cols=['employment_type','seniority','industrys','location','gov_support', \n",
    "            'job_description_topic', 'job_req_topics', 'job_titles_topics']"
   ]
  },
  {
   "cell_type": "code",
   "execution_count": 140,
   "metadata": {},
   "outputs": [
    {
     "name": "stdout",
     "output_type": "stream",
     "text": [
      "(542, 48)\n"
     ]
    }
   ],
   "source": [
    "df2_dummy= pd.get_dummies(df2,columns=dummy_cols,drop_first=True)\n",
    "print(df2_dummy.shape)"
   ]
  },
  {
   "cell_type": "code",
   "execution_count": 141,
   "metadata": {},
   "outputs": [],
   "source": [
    "X2=df2_dummy.drop('avg_salary', axis=1)"
   ]
  },
  {
   "cell_type": "code",
   "execution_count": 142,
   "metadata": {},
   "outputs": [],
   "source": [
    "y2=df.avg_salary"
   ]
  },
  {
   "cell_type": "code",
   "execution_count": 143,
   "metadata": {},
   "outputs": [],
   "source": [
    "#train test split\n",
    "from sklearn.model_selection import train_test_split\n",
    "X2_train, X2_test, y2_train, y2_test = train_test_split(X2, y2, test_size=0.30)"
   ]
  },
  {
   "cell_type": "code",
   "execution_count": 144,
   "metadata": {},
   "outputs": [
    {
     "name": "stderr",
     "output_type": "stream",
     "text": [
      "/anaconda3/lib/python3.7/site-packages/sklearn/preprocessing/data.py:625: DataConversionWarning: Data with input dtype uint8 were all converted to float64 by StandardScaler.\n",
      "  return self.partial_fit(X, y)\n",
      "/anaconda3/lib/python3.7/site-packages/sklearn/base.py:462: DataConversionWarning: Data with input dtype uint8 were all converted to float64 by StandardScaler.\n",
      "  return self.fit(X, **fit_params).transform(X)\n",
      "/anaconda3/lib/python3.7/site-packages/ipykernel_launcher.py:8: DataConversionWarning: Data with input dtype uint8 were all converted to float64 by StandardScaler.\n",
      "  \n"
     ]
    }
   ],
   "source": [
    "from sklearn.preprocessing import StandardScaler\n",
    "from sklearn.linear_model import Ridge, Lasso, LinearRegression, RidgeCV, LassoCV, ElasticNetCV\n",
    "from sklearn.model_selection import cross_val_score\n",
    "\n",
    "\n",
    "ss = StandardScaler()\n",
    "X2s_train= ss.fit_transform(X2_train)\n",
    "X2s_test=ss.transform(X2_test)"
   ]
  },
  {
   "cell_type": "code",
   "execution_count": 145,
   "metadata": {},
   "outputs": [
    {
     "name": "stdout",
     "output_type": "stream",
     "text": [
      "390.6939937054621\n"
     ]
    },
    {
     "name": "stderr",
     "output_type": "stream",
     "text": [
      "/anaconda3/lib/python3.7/site-packages/sklearn/model_selection/_search.py:841: DeprecationWarning: The default of the `iid` parameter will change from True to False in version 0.22 and will be removed in 0.24. This will change numeric results when test-set sizes are unequal.\n",
      "  DeprecationWarning)\n"
     ]
    }
   ],
   "source": [
    "ridge_alphas = np.logspace(-2, 7, 50)\n",
    "\n",
    "optimal_ridge = RidgeCV(alphas=ridge_alphas, cv=10)\n",
    "optimal_ridge.fit(X2s_train, y2_train)\n",
    "\n",
    "print(optimal_ridge.alpha_)"
   ]
  },
  {
   "cell_type": "code",
   "execution_count": 146,
   "metadata": {},
   "outputs": [
    {
     "name": "stderr",
     "output_type": "stream",
     "text": [
      "[Parallel(n_jobs=1)]: Using backend SequentialBackend with 1 concurrent workers.\n",
      "......................................................................................................................................................................................................................................................................................................................................................................................................................................................................................................................................................................................................................................................................................................................................................................................................................................................................................................................................................................................................................................................................................................................................................................................................................................................................................................................................................................................................................................................................................................................................................................................................................................................................................................................................................................................................................................................................................................................................................................................................................................................................................................................................................................................................................................................................................................................................................................................................................................................................................................................................................................................................................................................................................................................................................................................................................................................................................................................................................................................................................................................................................................................................................................................................................................................................................................................................................................................................................................................................................................................................................................................................................................................................................................................................................................................................................................................................................................................................................................................................................................................................................................................................................................................................................................................................................................................."
     ]
    },
    {
     "name": "stdout",
     "output_type": "stream",
     "text": [
      "911.208763205899\n"
     ]
    },
    {
     "name": "stderr",
     "output_type": "stream",
     "text": [
      ".................................................................................................................................................................................................................................................................................................................................................................................................................................................................................................................................................................................................................................................................................................................................................................................................................................................................................[Parallel(n_jobs=1)]: Done  10 out of  10 | elapsed:    1.0s finished\n"
     ]
    }
   ],
   "source": [
    "optimal_lasso = LassoCV(n_alphas=500, cv=10, verbose=1)\n",
    "optimal_lasso.fit(X2s_train, y2_train)\n",
    "\n",
    "print(optimal_lasso.alpha_)"
   ]
  },
  {
   "cell_type": "code",
   "execution_count": 147,
   "metadata": {},
   "outputs": [
    {
     "name": "stdout",
     "output_type": "stream",
     "text": [
      "------------------------------------\n",
      "\n",
      "5-Fold Cross Validated Results for Model: Linear Regression\n",
      "Cross-validated scores: [-0.50261556 -0.38563515 -0.2899107  -0.02639847 -0.07439497]\n",
      "Mean CV R2: -0.2557909714120684\n",
      "Std CV R2: 0.18136784198767006\n",
      "------------------------------------\n",
      "\n",
      "5-Fold Cross Validated Results for Model: Ridge Regression\n",
      "Cross-validated scores: [ 0.08074252  0.02420364  0.15110343 -0.01771496  0.24522114]\n",
      "Mean CV R2: 0.09671115429623836\n",
      "Std CV R2: 0.09340172096982434\n",
      "------------------------------------\n",
      "\n",
      "5-Fold Cross Validated Results for Model: Lasso Regression\n",
      "Cross-validated scores: [-0.01097052 -0.07070564 -0.0340753  -0.03214942 -0.03237913]\n",
      "Mean CV R2: -0.03605600234824462\n",
      "Std CV R2: 0.019300687228205486\n"
     ]
    }
   ],
   "source": [
    "def print_cross_val_results(model,name,X,y,folds=5):\n",
    "    print( '------------------------------------\\n')\n",
    "    print('{}-Fold Cross Validated Results for Model: '.format(folds)+ name)\n",
    "    scores = cross_val_score(model, X, y, cv=folds)\n",
    "    print(\"Cross-validated scores:\", scores)\n",
    "    print(\"Mean CV R2:\", np.mean(scores))\n",
    "    print('Std CV R2:', np.std(scores))\n",
    "\n",
    "OLS = LinearRegression()\n",
    "ridge = Ridge(alpha=optimal_ridge.alpha_)\n",
    "lasso= Lasso(alpha=optimal_lasso.alpha_)\n",
    "\n",
    "print_cross_val_results(OLS,\"Linear Regression\",X2s_train,y2_train)\n",
    "print_cross_val_results(ridge,\"Ridge Regression\",X2s_train,y2_train)\n",
    "print_cross_val_results(lasso,\"Lasso Regression\",X2s_train,y2_train)"
   ]
  },
  {
   "cell_type": "code",
   "execution_count": 148,
   "metadata": {},
   "outputs": [],
   "source": [
    "# All the Regression models shows very bad results. "
   ]
  },
  {
   "cell_type": "markdown",
   "metadata": {},
   "source": [
    "## Summary:\n",
    "\n",
    "1. RFC shows best results when compared to the others(logistic, decision tree classification, SVM and regression models)\n",
    "\n",
    "2. The most important features that contribute the salary are as follows:\n",
    "\n",
    "    * job titles topic:\n",
    "    \n",
    "        THE TOP 7 WORDS FOR TOPIC #1\n",
    "        ['support', 'infrastructure', 'centre', 'center', 'devops', 'data', 'engineer’]\n",
    "        \n",
    "        THE TOP 7 WORDS FOR TOPIC #9\n",
    "    ['solution', 'monitoring', 'support', 'specialist', 'infrastructure',\n",
    "    'designer', 'application’]\n",
    "\n",
    "\n",
    "    \n",
    "    *job descriptions topic 2:\n",
    "    \n",
    "        THE TOP 15 WORDS FOR TOPIC #2\n",
    "            ['execute', 'existing', 'like', 'experience', 'systems', 'ability', \n",
    "            'issues', 'big', 'working', 'customers', 'technical', 'product', \n",
    "            'engineering', 'team', 'data’]\n",
    "\n",
    "\n",
    "    \n",
    "    * location - West\n",
    "    \n",
    "    * Job requirement:\n",
    "    \n",
    "    \n",
    "        THE TOP 15 WORDS FOR TOPIC #1\n",
    "        ['excelling', 'exceptional', 'exhaustive', 'exceptionally', 'excited',\n",
    "        'exciting', 'execute', 'executes', 'executing', 'execution',\n",
    "        'executive', 'executives', 'exchange', 'zos', 'na’]\n",
    "\n",
    "\n",
    "    *Jobtitle topic 4:\n",
    "    \n",
    "        THE TOP 7 WORDS FOR TOPIC #7\n",
    "        \n",
    "        ['advanced', 'applied', 'scientist', 'engineer', 'associate', 'fellow', 'research']\n",
    "\n",
    "     * Industry: Engineering\n",
    "    \n",
    "    \n"
   ]
  },
  {
   "cell_type": "markdown",
   "metadata": {},
   "source": [
    "## Question 2 \n",
    "\n",
    "### Aim: To understand the features affecting the seniority (ex: professional, executive, fresh/entry etc)\n",
    "\n"
   ]
  },
  {
   "cell_type": "code",
   "execution_count": 149,
   "metadata": {},
   "outputs": [
    {
     "data": {
      "text/html": [
       "<div>\n",
       "<style scoped>\n",
       "    .dataframe tbody tr th:only-of-type {\n",
       "        vertical-align: middle;\n",
       "    }\n",
       "\n",
       "    .dataframe tbody tr th {\n",
       "        vertical-align: top;\n",
       "    }\n",
       "\n",
       "    .dataframe thead th {\n",
       "        text-align: right;\n",
       "    }\n",
       "</style>\n",
       "<table border=\"1\" class=\"dataframe\">\n",
       "  <thead>\n",
       "    <tr style=\"text-align: right;\">\n",
       "      <th></th>\n",
       "      <th>job_titles</th>\n",
       "      <th>companys</th>\n",
       "      <th>employment_type</th>\n",
       "      <th>seniority</th>\n",
       "      <th>industrys</th>\n",
       "      <th>salary</th>\n",
       "      <th>salary_terms</th>\n",
       "      <th>job_descriptions</th>\n",
       "      <th>job_requirements</th>\n",
       "      <th>links</th>\n",
       "      <th>location</th>\n",
       "      <th>gov_support</th>\n",
       "      <th>min_salary</th>\n",
       "      <th>max_salary</th>\n",
       "      <th>avg_salary</th>\n",
       "      <th>salary_med</th>\n",
       "      <th>job_description_topic</th>\n",
       "      <th>job_req_topics</th>\n",
       "      <th>job_titles_topics</th>\n",
       "    </tr>\n",
       "  </thead>\n",
       "  <tbody>\n",
       "    <tr>\n",
       "      <th>0</th>\n",
       "      <td>Data Engineer</td>\n",
       "      <td>GRABTAXI HOLDINGS PTE. LTD.</td>\n",
       "      <td>Full Time</td>\n",
       "      <td>Professional</td>\n",
       "      <td>Engineering</td>\n",
       "      <td>6000to10000</td>\n",
       "      <td>Monthly</td>\n",
       "      <td>Build, deploy and manage big data solutions t...</td>\n",
       "      <td>A degree or higher in Computer Science, Elec...</td>\n",
       "      <td>https://www.mycareersfuture.sg/job/data-engine...</td>\n",
       "      <td>Central</td>\n",
       "      <td>yes</td>\n",
       "      <td>6000</td>\n",
       "      <td>10000</td>\n",
       "      <td>8000.0</td>\n",
       "      <td>1</td>\n",
       "      <td>8</td>\n",
       "      <td>0</td>\n",
       "      <td>1</td>\n",
       "    </tr>\n",
       "    <tr>\n",
       "      <th>1</th>\n",
       "      <td>Data Engineer</td>\n",
       "      <td>MOKA TECHNOLOGY SOLUTIONS PTE. LTD.</td>\n",
       "      <td>Permanent</td>\n",
       "      <td>Professional</td>\n",
       "      <td>Engineering</td>\n",
       "      <td>5000to7000</td>\n",
       "      <td>Monthly</td>\n",
       "      <td>Do you have a passion for data? Are you lookin...</td>\n",
       "      <td>You have:  BS (MS preferred) in Computer Scien...</td>\n",
       "      <td>https://www.mycareersfuture.sg/job/data-engine...</td>\n",
       "      <td>North</td>\n",
       "      <td>yes</td>\n",
       "      <td>5000</td>\n",
       "      <td>7000</td>\n",
       "      <td>6000.0</td>\n",
       "      <td>0</td>\n",
       "      <td>8</td>\n",
       "      <td>0</td>\n",
       "      <td>1</td>\n",
       "    </tr>\n",
       "    <tr>\n",
       "      <th>3</th>\n",
       "      <td>Senior ETL and DATA Engineer</td>\n",
       "      <td>SMARTSOFT PTE. LTD.</td>\n",
       "      <td>Full Time</td>\n",
       "      <td>Senior Executive</td>\n",
       "      <td>Information Technology</td>\n",
       "      <td>6000to11000</td>\n",
       "      <td>Monthly</td>\n",
       "      <td>Responsibilities include understanding ETL &amp;...</td>\n",
       "      <td>Experiences:  Must have 4 to 6 years of experi...</td>\n",
       "      <td>https://www.mycareersfuture.sg/job/senior-etl-...</td>\n",
       "      <td>Islandwide</td>\n",
       "      <td>no</td>\n",
       "      <td>6000</td>\n",
       "      <td>11000</td>\n",
       "      <td>8500.0</td>\n",
       "      <td>1</td>\n",
       "      <td>8</td>\n",
       "      <td>4</td>\n",
       "      <td>3</td>\n",
       "    </tr>\n",
       "    <tr>\n",
       "      <th>4</th>\n",
       "      <td>Senior ETL and Data Engineer</td>\n",
       "      <td>SCHELLDEN GLOBAL SERVICES</td>\n",
       "      <td>Full Time</td>\n",
       "      <td>Senior Executive</td>\n",
       "      <td>Information Technology</td>\n",
       "      <td>6000to11000</td>\n",
       "      <td>Monthly</td>\n",
       "      <td>Responsibilities include understanding ETL &amp; D...</td>\n",
       "      <td>Must have 4 to 6 years of experience using SQ...</td>\n",
       "      <td>https://www.mycareersfuture.sg/job/senior-etl-...</td>\n",
       "      <td>Islandwide</td>\n",
       "      <td>no</td>\n",
       "      <td>6000</td>\n",
       "      <td>11000</td>\n",
       "      <td>8500.0</td>\n",
       "      <td>1</td>\n",
       "      <td>8</td>\n",
       "      <td>4</td>\n",
       "      <td>3</td>\n",
       "    </tr>\n",
       "    <tr>\n",
       "      <th>5</th>\n",
       "      <td>Senior ETL and Data Engineer</td>\n",
       "      <td>SCHELLDEN GLOBAL PTE. LTD.</td>\n",
       "      <td>Full Time</td>\n",
       "      <td>Senior Executive</td>\n",
       "      <td>Information Technology</td>\n",
       "      <td>6000to11000</td>\n",
       "      <td>Monthly</td>\n",
       "      <td>Responsibilities include understanding ETL &amp; D...</td>\n",
       "      <td>Experiences:  Must have 4 to 6 years of experi...</td>\n",
       "      <td>https://www.mycareersfuture.sg/job/senior-etl-...</td>\n",
       "      <td>Islandwide</td>\n",
       "      <td>no</td>\n",
       "      <td>6000</td>\n",
       "      <td>11000</td>\n",
       "      <td>8500.0</td>\n",
       "      <td>1</td>\n",
       "      <td>8</td>\n",
       "      <td>4</td>\n",
       "      <td>3</td>\n",
       "    </tr>\n",
       "  </tbody>\n",
       "</table>\n",
       "</div>"
      ],
      "text/plain": [
       "                     job_titles                             companys  \\\n",
       "0                 Data Engineer          GRABTAXI HOLDINGS PTE. LTD.   \n",
       "1                 Data Engineer  MOKA TECHNOLOGY SOLUTIONS PTE. LTD.   \n",
       "3  Senior ETL and DATA Engineer                  SMARTSOFT PTE. LTD.   \n",
       "4  Senior ETL and Data Engineer            SCHELLDEN GLOBAL SERVICES   \n",
       "5  Senior ETL and Data Engineer           SCHELLDEN GLOBAL PTE. LTD.   \n",
       "\n",
       "  employment_type         seniority               industrys       salary  \\\n",
       "0       Full Time      Professional             Engineering  6000to10000   \n",
       "1       Permanent      Professional             Engineering   5000to7000   \n",
       "3       Full Time  Senior Executive  Information Technology  6000to11000   \n",
       "4       Full Time  Senior Executive  Information Technology  6000to11000   \n",
       "5       Full Time  Senior Executive  Information Technology  6000to11000   \n",
       "\n",
       "  salary_terms                                   job_descriptions  \\\n",
       "0      Monthly   Build, deploy and manage big data solutions t...   \n",
       "1      Monthly  Do you have a passion for data? Are you lookin...   \n",
       "3      Monthly    Responsibilities include understanding ETL &...   \n",
       "4      Monthly  Responsibilities include understanding ETL & D...   \n",
       "5      Monthly  Responsibilities include understanding ETL & D...   \n",
       "\n",
       "                                    job_requirements  \\\n",
       "0    A degree or higher in Computer Science, Elec...   \n",
       "1  You have:  BS (MS preferred) in Computer Scien...   \n",
       "3  Experiences:  Must have 4 to 6 years of experi...   \n",
       "4   Must have 4 to 6 years of experience using SQ...   \n",
       "5  Experiences:  Must have 4 to 6 years of experi...   \n",
       "\n",
       "                                               links    location gov_support  \\\n",
       "0  https://www.mycareersfuture.sg/job/data-engine...     Central         yes   \n",
       "1  https://www.mycareersfuture.sg/job/data-engine...       North         yes   \n",
       "3  https://www.mycareersfuture.sg/job/senior-etl-...  Islandwide          no   \n",
       "4  https://www.mycareersfuture.sg/job/senior-etl-...  Islandwide          no   \n",
       "5  https://www.mycareersfuture.sg/job/senior-etl-...  Islandwide          no   \n",
       "\n",
       "   min_salary  max_salary  avg_salary  salary_med  job_description_topic  \\\n",
       "0        6000       10000      8000.0           1                      8   \n",
       "1        5000        7000      6000.0           0                      8   \n",
       "3        6000       11000      8500.0           1                      8   \n",
       "4        6000       11000      8500.0           1                      8   \n",
       "5        6000       11000      8500.0           1                      8   \n",
       "\n",
       "   job_req_topics  job_titles_topics  \n",
       "0               0                  1  \n",
       "1               0                  1  \n",
       "3               4                  3  \n",
       "4               4                  3  \n",
       "5               4                  3  "
      ]
     },
     "execution_count": 149,
     "metadata": {},
     "output_type": "execute_result"
    }
   ],
   "source": [
    "df.head()"
   ]
  },
  {
   "cell_type": "code",
   "execution_count": 150,
   "metadata": {},
   "outputs": [
    {
     "data": {
      "text/plain": [
       "Professional         177\n",
       "Executive            112\n",
       "Senior Executive      59\n",
       "Middle Management     58\n",
       "Manager               54\n",
       "Non-executive         24\n",
       "Senior Management     24\n",
       "Junior Executive      22\n",
       "Fresh/entry level     11\n",
       "NA                     1\n",
       "Name: seniority, dtype: int64"
      ]
     },
     "execution_count": 150,
     "metadata": {},
     "output_type": "execute_result"
    }
   ],
   "source": [
    "df.seniority.value_counts()"
   ]
  },
  {
   "cell_type": "code",
   "execution_count": 151,
   "metadata": {},
   "outputs": [],
   "source": [
    "#df = df[df.seniority != 'NA']"
   ]
  },
  {
   "cell_type": "code",
   "execution_count": 152,
   "metadata": {},
   "outputs": [
    {
     "data": {
      "text/plain": [
       "<matplotlib.axes._subplots.AxesSubplot at 0x1a1fbdb5c0>"
      ]
     },
     "execution_count": 152,
     "metadata": {},
     "output_type": "execute_result"
    },
    {
     "data": {
      "image/png": "[encoded data removed]",
      "text/plain": [
       "<Figure size 432x288 with 1 Axes>"
      ]
     },
     "metadata": {
      "needs_background": "light"
     },
     "output_type": "display_data"
    }
   ],
   "source": [
    "# Based on the salary the seniority group was classified into three category. Manager and Senior Executive was given 2, \n",
    "#Middle Management, professional, senior executive was given 1 and others as 0\n",
    "\n",
    "df.groupby(['seniority'])['avg_salary'].median().plot.bar()\n"
   ]
  },
  {
   "cell_type": "code",
   "execution_count": 153,
   "metadata": {},
   "outputs": [],
   "source": [
    "df['seniority_med']= df.seniority.apply(lambda x:2 if x== 'Manager'or x=='Senior Executive' else 1 if x=='Middle Management' or x=='Professional' or x=='Senior Executive'\n",
    "                                        else 0)\n",
    "\n"
   ]
  },
  {
   "cell_type": "code",
   "execution_count": 154,
   "metadata": {},
   "outputs": [
    {
     "data": {
      "text/plain": [
       "1    235\n",
       "0    194\n",
       "2    113\n",
       "Name: seniority_med, dtype: int64"
      ]
     },
     "execution_count": 154,
     "metadata": {},
     "output_type": "execute_result"
    }
   ],
   "source": [
    "#checking for class balance. it shows that its a balance class\n",
    "\n",
    "df['seniority_med'].value_counts()"
   ]
  },
  {
   "cell_type": "code",
   "execution_count": 155,
   "metadata": {},
   "outputs": [
    {
     "data": {
      "text/html": [
       "<div>\n",
       "<style scoped>\n",
       "    .dataframe tbody tr th:only-of-type {\n",
       "        vertical-align: middle;\n",
       "    }\n",
       "\n",
       "    .dataframe tbody tr th {\n",
       "        vertical-align: top;\n",
       "    }\n",
       "\n",
       "    .dataframe thead th {\n",
       "        text-align: right;\n",
       "    }\n",
       "</style>\n",
       "<table border=\"1\" class=\"dataframe\">\n",
       "  <thead>\n",
       "    <tr style=\"text-align: right;\">\n",
       "      <th></th>\n",
       "      <th>employment_type</th>\n",
       "      <th>seniority</th>\n",
       "      <th>industrys</th>\n",
       "      <th>location</th>\n",
       "      <th>gov_support</th>\n",
       "      <th>salary_med</th>\n",
       "      <th>job_description_topic</th>\n",
       "      <th>job_req_topics</th>\n",
       "      <th>job_titles_topics</th>\n",
       "    </tr>\n",
       "  </thead>\n",
       "  <tbody>\n",
       "    <tr>\n",
       "      <th>0</th>\n",
       "      <td>Full Time</td>\n",
       "      <td>Professional</td>\n",
       "      <td>Engineering</td>\n",
       "      <td>Central</td>\n",
       "      <td>yes</td>\n",
       "      <td>1</td>\n",
       "      <td>8</td>\n",
       "      <td>0</td>\n",
       "      <td>1</td>\n",
       "    </tr>\n",
       "    <tr>\n",
       "      <th>1</th>\n",
       "      <td>Permanent</td>\n",
       "      <td>Professional</td>\n",
       "      <td>Engineering</td>\n",
       "      <td>North</td>\n",
       "      <td>yes</td>\n",
       "      <td>0</td>\n",
       "      <td>8</td>\n",
       "      <td>0</td>\n",
       "      <td>1</td>\n",
       "    </tr>\n",
       "    <tr>\n",
       "      <th>3</th>\n",
       "      <td>Full Time</td>\n",
       "      <td>Senior Executive</td>\n",
       "      <td>Information Technology</td>\n",
       "      <td>Islandwide</td>\n",
       "      <td>no</td>\n",
       "      <td>1</td>\n",
       "      <td>8</td>\n",
       "      <td>4</td>\n",
       "      <td>3</td>\n",
       "    </tr>\n",
       "    <tr>\n",
       "      <th>4</th>\n",
       "      <td>Full Time</td>\n",
       "      <td>Senior Executive</td>\n",
       "      <td>Information Technology</td>\n",
       "      <td>Islandwide</td>\n",
       "      <td>no</td>\n",
       "      <td>1</td>\n",
       "      <td>8</td>\n",
       "      <td>4</td>\n",
       "      <td>3</td>\n",
       "    </tr>\n",
       "    <tr>\n",
       "      <th>5</th>\n",
       "      <td>Full Time</td>\n",
       "      <td>Senior Executive</td>\n",
       "      <td>Information Technology</td>\n",
       "      <td>Islandwide</td>\n",
       "      <td>no</td>\n",
       "      <td>1</td>\n",
       "      <td>8</td>\n",
       "      <td>4</td>\n",
       "      <td>3</td>\n",
       "    </tr>\n",
       "  </tbody>\n",
       "</table>\n",
       "</div>"
      ],
      "text/plain": [
       "  employment_type         seniority               industrys    location  \\\n",
       "0       Full Time      Professional             Engineering     Central   \n",
       "1       Permanent      Professional             Engineering       North   \n",
       "3       Full Time  Senior Executive  Information Technology  Islandwide   \n",
       "4       Full Time  Senior Executive  Information Technology  Islandwide   \n",
       "5       Full Time  Senior Executive  Information Technology  Islandwide   \n",
       "\n",
       "  gov_support  salary_med  job_description_topic  job_req_topics  \\\n",
       "0         yes           1                      8               0   \n",
       "1         yes           0                      8               0   \n",
       "3          no           1                      8               4   \n",
       "4          no           1                      8               4   \n",
       "5          no           1                      8               4   \n",
       "\n",
       "   job_titles_topics  \n",
       "0                  1  \n",
       "1                  1  \n",
       "3                  3  \n",
       "4                  3  \n",
       "5                  3  "
      ]
     },
     "execution_count": 155,
     "metadata": {},
     "output_type": "execute_result"
    }
   ],
   "source": [
    "df1.head()"
   ]
  },
  {
   "cell_type": "code",
   "execution_count": 156,
   "metadata": {},
   "outputs": [],
   "source": [
    "# creating data for classification\n",
    "\n",
    "dummy_cols=['employment_type','industrys','location','gov_support','job_description_topic', \n",
    "            'job_req_topics', 'job_titles_topics']"
   ]
  },
  {
   "cell_type": "code",
   "execution_count": 157,
   "metadata": {},
   "outputs": [],
   "source": [
    "df3_dummy= pd.get_dummies(df1,columns=dummy_cols,drop_first=True)\n",
    "\n",
    "col_drop=['salary_med','seniority']\n",
    "\n",
    "X3=df3_dummy.drop(columns=col_drop, axis=1)\n",
    "X3['avg_salary']=df['avg_salary']"
   ]
  },
  {
   "cell_type": "code",
   "execution_count": 158,
   "metadata": {},
   "outputs": [
    {
     "data": {
      "text/html": [
       "<div>\n",
       "<style scoped>\n",
       "    .dataframe tbody tr th:only-of-type {\n",
       "        vertical-align: middle;\n",
       "    }\n",
       "\n",
       "    .dataframe tbody tr th {\n",
       "        vertical-align: top;\n",
       "    }\n",
       "\n",
       "    .dataframe thead th {\n",
       "        text-align: right;\n",
       "    }\n",
       "</style>\n",
       "<table border=\"1\" class=\"dataframe\">\n",
       "  <thead>\n",
       "    <tr style=\"text-align: right;\">\n",
       "      <th></th>\n",
       "      <th>employment_type_Full Time</th>\n",
       "      <th>employment_type_Permanent</th>\n",
       "      <th>industrys_Engineering</th>\n",
       "      <th>industrys_Information Technology</th>\n",
       "      <th>location_East</th>\n",
       "      <th>location_Islandwide</th>\n",
       "      <th>location_NA</th>\n",
       "      <th>location_North</th>\n",
       "      <th>location_South</th>\n",
       "      <th>location_West</th>\n",
       "      <th>...</th>\n",
       "      <th>job_titles_topics_1</th>\n",
       "      <th>job_titles_topics_2</th>\n",
       "      <th>job_titles_topics_3</th>\n",
       "      <th>job_titles_topics_4</th>\n",
       "      <th>job_titles_topics_5</th>\n",
       "      <th>job_titles_topics_6</th>\n",
       "      <th>job_titles_topics_7</th>\n",
       "      <th>job_titles_topics_8</th>\n",
       "      <th>job_titles_topics_9</th>\n",
       "      <th>avg_salary</th>\n",
       "    </tr>\n",
       "  </thead>\n",
       "  <tbody>\n",
       "    <tr>\n",
       "      <th>0</th>\n",
       "      <td>1</td>\n",
       "      <td>0</td>\n",
       "      <td>1</td>\n",
       "      <td>0</td>\n",
       "      <td>0</td>\n",
       "      <td>0</td>\n",
       "      <td>0</td>\n",
       "      <td>0</td>\n",
       "      <td>0</td>\n",
       "      <td>0</td>\n",
       "      <td>...</td>\n",
       "      <td>1</td>\n",
       "      <td>0</td>\n",
       "      <td>0</td>\n",
       "      <td>0</td>\n",
       "      <td>0</td>\n",
       "      <td>0</td>\n",
       "      <td>0</td>\n",
       "      <td>0</td>\n",
       "      <td>0</td>\n",
       "      <td>8000.0</td>\n",
       "    </tr>\n",
       "    <tr>\n",
       "      <th>1</th>\n",
       "      <td>0</td>\n",
       "      <td>1</td>\n",
       "      <td>1</td>\n",
       "      <td>0</td>\n",
       "      <td>0</td>\n",
       "      <td>0</td>\n",
       "      <td>0</td>\n",
       "      <td>1</td>\n",
       "      <td>0</td>\n",
       "      <td>0</td>\n",
       "      <td>...</td>\n",
       "      <td>1</td>\n",
       "      <td>0</td>\n",
       "      <td>0</td>\n",
       "      <td>0</td>\n",
       "      <td>0</td>\n",
       "      <td>0</td>\n",
       "      <td>0</td>\n",
       "      <td>0</td>\n",
       "      <td>0</td>\n",
       "      <td>6000.0</td>\n",
       "    </tr>\n",
       "    <tr>\n",
       "      <th>3</th>\n",
       "      <td>1</td>\n",
       "      <td>0</td>\n",
       "      <td>0</td>\n",
       "      <td>1</td>\n",
       "      <td>0</td>\n",
       "      <td>1</td>\n",
       "      <td>0</td>\n",
       "      <td>0</td>\n",
       "      <td>0</td>\n",
       "      <td>0</td>\n",
       "      <td>...</td>\n",
       "      <td>0</td>\n",
       "      <td>0</td>\n",
       "      <td>1</td>\n",
       "      <td>0</td>\n",
       "      <td>0</td>\n",
       "      <td>0</td>\n",
       "      <td>0</td>\n",
       "      <td>0</td>\n",
       "      <td>0</td>\n",
       "      <td>8500.0</td>\n",
       "    </tr>\n",
       "    <tr>\n",
       "      <th>4</th>\n",
       "      <td>1</td>\n",
       "      <td>0</td>\n",
       "      <td>0</td>\n",
       "      <td>1</td>\n",
       "      <td>0</td>\n",
       "      <td>1</td>\n",
       "      <td>0</td>\n",
       "      <td>0</td>\n",
       "      <td>0</td>\n",
       "      <td>0</td>\n",
       "      <td>...</td>\n",
       "      <td>0</td>\n",
       "      <td>0</td>\n",
       "      <td>1</td>\n",
       "      <td>0</td>\n",
       "      <td>0</td>\n",
       "      <td>0</td>\n",
       "      <td>0</td>\n",
       "      <td>0</td>\n",
       "      <td>0</td>\n",
       "      <td>8500.0</td>\n",
       "    </tr>\n",
       "    <tr>\n",
       "      <th>5</th>\n",
       "      <td>1</td>\n",
       "      <td>0</td>\n",
       "      <td>0</td>\n",
       "      <td>1</td>\n",
       "      <td>0</td>\n",
       "      <td>1</td>\n",
       "      <td>0</td>\n",
       "      <td>0</td>\n",
       "      <td>0</td>\n",
       "      <td>0</td>\n",
       "      <td>...</td>\n",
       "      <td>0</td>\n",
       "      <td>0</td>\n",
       "      <td>1</td>\n",
       "      <td>0</td>\n",
       "      <td>0</td>\n",
       "      <td>0</td>\n",
       "      <td>0</td>\n",
       "      <td>0</td>\n",
       "      <td>0</td>\n",
       "      <td>8500.0</td>\n",
       "    </tr>\n",
       "  </tbody>\n",
       "</table>\n",
       "<p>5 rows × 39 columns</p>\n",
       "</div>"
      ],
      "text/plain": [
       "   employment_type_Full Time  employment_type_Permanent  \\\n",
       "0                          1                          0   \n",
       "1                          0                          1   \n",
       "3                          1                          0   \n",
       "4                          1                          0   \n",
       "5                          1                          0   \n",
       "\n",
       "   industrys_Engineering  industrys_Information Technology  location_East  \\\n",
       "0                      1                                 0              0   \n",
       "1                      1                                 0              0   \n",
       "3                      0                                 1              0   \n",
       "4                      0                                 1              0   \n",
       "5                      0                                 1              0   \n",
       "\n",
       "   location_Islandwide  location_NA  location_North  location_South  \\\n",
       "0                    0            0               0               0   \n",
       "1                    0            0               1               0   \n",
       "3                    1            0               0               0   \n",
       "4                    1            0               0               0   \n",
       "5                    1            0               0               0   \n",
       "\n",
       "   location_West     ...      job_titles_topics_1  job_titles_topics_2  \\\n",
       "0              0     ...                        1                    0   \n",
       "1              0     ...                        1                    0   \n",
       "3              0     ...                        0                    0   \n",
       "4              0     ...                        0                    0   \n",
       "5              0     ...                        0                    0   \n",
       "\n",
       "   job_titles_topics_3  job_titles_topics_4  job_titles_topics_5  \\\n",
       "0                    0                    0                    0   \n",
       "1                    0                    0                    0   \n",
       "3                    1                    0                    0   \n",
       "4                    1                    0                    0   \n",
       "5                    1                    0                    0   \n",
       "\n",
       "   job_titles_topics_6  job_titles_topics_7  job_titles_topics_8  \\\n",
       "0                    0                    0                    0   \n",
       "1                    0                    0                    0   \n",
       "3                    0                    0                    0   \n",
       "4                    0                    0                    0   \n",
       "5                    0                    0                    0   \n",
       "\n",
       "   job_titles_topics_9  avg_salary  \n",
       "0                    0      8000.0  \n",
       "1                    0      6000.0  \n",
       "3                    0      8500.0  \n",
       "4                    0      8500.0  \n",
       "5                    0      8500.0  \n",
       "\n",
       "[5 rows x 39 columns]"
      ]
     },
     "execution_count": 158,
     "metadata": {},
     "output_type": "execute_result"
    }
   ],
   "source": [
    "X3.head()"
   ]
  },
  {
   "cell_type": "code",
   "execution_count": 159,
   "metadata": {},
   "outputs": [],
   "source": [
    "#Target is seniority\n",
    "y3=df['seniority_med']\n",
    "\n",
    "#y3 = label_binarize(y_3, classes=[0, 1, 2])"
   ]
  },
  {
   "cell_type": "code",
   "execution_count": 160,
   "metadata": {},
   "outputs": [
    {
     "data": {
      "text/plain": [
       "(542, 39)"
      ]
     },
     "execution_count": 160,
     "metadata": {},
     "output_type": "execute_result"
    }
   ],
   "source": [
    "X3.shape"
   ]
  },
  {
   "cell_type": "code",
   "execution_count": 161,
   "metadata": {},
   "outputs": [
    {
     "data": {
      "text/plain": [
       "(542,)"
      ]
     },
     "execution_count": 161,
     "metadata": {},
     "output_type": "execute_result"
    }
   ],
   "source": [
    "df['seniority_med'].shape"
   ]
  },
  {
   "cell_type": "markdown",
   "metadata": {},
   "source": [
    "## Modelling"
   ]
  },
  {
   "cell_type": "markdown",
   "metadata": {},
   "source": [
    "### 1. Logistic Regression"
   ]
  },
  {
   "cell_type": "code",
   "execution_count": 162,
   "metadata": {},
   "outputs": [],
   "source": [
    "from sklearn.linear_model import LogisticRegression\n",
    "from sklearn.model_selection import cross_val_score"
   ]
  },
  {
   "cell_type": "code",
   "execution_count": 163,
   "metadata": {},
   "outputs": [
    {
     "name": "stdout",
     "output_type": "stream",
     "text": [
      "[0.45985401 0.50735294 0.5037037  0.44029851] 0.4778022917353502\n"
     ]
    },
    {
     "name": "stderr",
     "output_type": "stream",
     "text": [
      "/anaconda3/lib/python3.7/site-packages/sklearn/linear_model/logistic.py:433: FutureWarning: Default solver will be changed to 'lbfgs' in 0.22. Specify a solver to silence this warning.\n",
      "  FutureWarning)\n",
      "/anaconda3/lib/python3.7/site-packages/sklearn/linear_model/logistic.py:460: FutureWarning: Default multi_class will be changed to 'auto' in 0.22. Specify the multi_class option to silence this warning.\n",
      "  \"this warning.\", FutureWarning)\n",
      "/anaconda3/lib/python3.7/site-packages/sklearn/linear_model/logistic.py:433: FutureWarning: Default solver will be changed to 'lbfgs' in 0.22. Specify a solver to silence this warning.\n",
      "  FutureWarning)\n",
      "/anaconda3/lib/python3.7/site-packages/sklearn/linear_model/logistic.py:460: FutureWarning: Default multi_class will be changed to 'auto' in 0.22. Specify the multi_class option to silence this warning.\n",
      "  \"this warning.\", FutureWarning)\n",
      "/anaconda3/lib/python3.7/site-packages/sklearn/linear_model/logistic.py:433: FutureWarning: Default solver will be changed to 'lbfgs' in 0.22. Specify a solver to silence this warning.\n",
      "  FutureWarning)\n",
      "/anaconda3/lib/python3.7/site-packages/sklearn/linear_model/logistic.py:460: FutureWarning: Default multi_class will be changed to 'auto' in 0.22. Specify the multi_class option to silence this warning.\n",
      "  \"this warning.\", FutureWarning)\n",
      "/anaconda3/lib/python3.7/site-packages/sklearn/linear_model/logistic.py:433: FutureWarning: Default solver will be changed to 'lbfgs' in 0.22. Specify a solver to silence this warning.\n",
      "  FutureWarning)\n",
      "/anaconda3/lib/python3.7/site-packages/sklearn/linear_model/logistic.py:460: FutureWarning: Default multi_class will be changed to 'auto' in 0.22. Specify the multi_class option to silence this warning.\n",
      "  \"this warning.\", FutureWarning)\n",
      "/anaconda3/lib/python3.7/site-packages/sklearn/linear_model/logistic.py:433: FutureWarning: Default solver will be changed to 'lbfgs' in 0.22. Specify a solver to silence this warning.\n",
      "  FutureWarning)\n",
      "/anaconda3/lib/python3.7/site-packages/sklearn/linear_model/logistic.py:460: FutureWarning: Default multi_class will be changed to 'auto' in 0.22. Specify the multi_class option to silence this warning.\n",
      "  \"this warning.\", FutureWarning)\n"
     ]
    }
   ],
   "source": [
    "# cross val Log Reg with 4 folds\n",
    "cls_scores = cross_val_score(LogisticRegression(), X3, y3, cv=4)\n",
    "\n",
    "#get scores\n",
    "print(cls_scores, np.mean(cls_scores))\n",
    "\n",
    "# fit models\n",
    "logreg = LogisticRegression().fit(X3, y3) #AUC"
   ]
  },
  {
   "cell_type": "code",
   "execution_count": 164,
   "metadata": {},
   "outputs": [],
   "source": [
    "# Logistic regression works were bad with score as 0.477"
   ]
  },
  {
   "cell_type": "markdown",
   "metadata": {},
   "source": [
    "### 2. Decision Tree Classifier"
   ]
  },
  {
   "cell_type": "code",
   "execution_count": 165,
   "metadata": {},
   "outputs": [],
   "source": [
    "from sklearn.tree import DecisionTreeClassifier\n",
    "\n",
    "# gridsearch params\n",
    "dtc_params = {\n",
    "    'max_depth':[None,1,2,3,4],\n",
    "    'max_features':[None,'log2','sqrt',2,3,4,5],\n",
    "    'min_samples_split':[2,3,4,5,10,15,20,25,30,40,50]\n",
    "}\n",
    "\n",
    "from sklearn.model_selection import GridSearchCV\n",
    "# set the gridsearch\n",
    "dtc_gs = GridSearchCV(DecisionTreeClassifier(), \n",
    "                      dtc_params, \n",
    "                      cv=5, \n",
    "                      verbose=1, \n",
    "                      n_jobs=-1)"
   ]
  },
  {
   "cell_type": "code",
   "execution_count": 166,
   "metadata": {},
   "outputs": [
    {
     "name": "stderr",
     "output_type": "stream",
     "text": [
      "[Parallel(n_jobs=-1)]: Using backend LokyBackend with 8 concurrent workers.\n"
     ]
    },
    {
     "name": "stdout",
     "output_type": "stream",
     "text": [
      "Fitting 5 folds for each of 385 candidates, totalling 1925 fits\n"
     ]
    },
    {
     "name": "stderr",
     "output_type": "stream",
     "text": [
      "[Parallel(n_jobs=-1)]: Done 592 tasks      | elapsed:    0.7s\n",
      "[Parallel(n_jobs=-1)]: Done 1925 out of 1925 | elapsed:    1.4s finished\n",
      "/anaconda3/lib/python3.7/site-packages/sklearn/model_selection/_search.py:841: DeprecationWarning: The default of the `iid` parameter will change from True to False in version 0.22 and will be removed in 0.24. This will change numeric results when test-set sizes are unequal.\n",
      "  DeprecationWarning)\n"
     ]
    },
    {
     "data": {
      "text/plain": [
       "GridSearchCV(cv=5, error_score='raise-deprecating',\n",
       "       estimator=DecisionTreeClassifier(class_weight=None, criterion='gini', max_depth=None,\n",
       "            max_features=None, max_leaf_nodes=None,\n",
       "            min_impurity_decrease=0.0, min_impurity_split=None,\n",
       "            min_samples_leaf=1, min_samples_split=2,\n",
       "            min_weight_fraction_leaf=0.0, presort=False, random_state=None,\n",
       "            splitter='best'),\n",
       "       fit_params=None, iid='warn', n_jobs=-1,\n",
       "       param_grid={'max_depth': [None, 1, 2, 3, 4], 'max_features': [None, 'log2', 'sqrt', 2, 3, 4, 5], 'min_samples_split': [2, 3, 4, 5, 10, 15, 20, 25, 30, 40, 50]},\n",
       "       pre_dispatch='2*n_jobs', refit=True, return_train_score='warn',\n",
       "       scoring=None, verbose=1)"
      ]
     },
     "execution_count": 166,
     "metadata": {},
     "output_type": "execute_result"
    }
   ],
   "source": [
    "# use the gridearc C model to fit the data\n",
    "dtc_gs.fit(X3, y3)"
   ]
  },
  {
   "cell_type": "code",
   "execution_count": 167,
   "metadata": {},
   "outputs": [
    {
     "name": "stdout",
     "output_type": "stream",
     "text": [
      "{'max_depth': 4, 'max_features': None, 'min_samples_split': 4}\n",
      "0.5627306273062731\n"
     ]
    }
   ],
   "source": [
    "dtc_best = dtc_gs.best_estimator_\n",
    "print(dtc_gs.best_params_)\n",
    "print(dtc_gs.best_score_)"
   ]
  },
  {
   "cell_type": "code",
   "execution_count": 168,
   "metadata": {},
   "outputs": [
    {
     "data": {
      "text/html": [
       "<div>\n",
       "<style scoped>\n",
       "    .dataframe tbody tr th:only-of-type {\n",
       "        vertical-align: middle;\n",
       "    }\n",
       "\n",
       "    .dataframe tbody tr th {\n",
       "        vertical-align: top;\n",
       "    }\n",
       "\n",
       "    .dataframe thead th {\n",
       "        text-align: right;\n",
       "    }\n",
       "</style>\n",
       "<table border=\"1\" class=\"dataframe\">\n",
       "  <thead>\n",
       "    <tr style=\"text-align: right;\">\n",
       "      <th></th>\n",
       "      <th>feature</th>\n",
       "      <th>importance</th>\n",
       "    </tr>\n",
       "  </thead>\n",
       "  <tbody>\n",
       "    <tr>\n",
       "      <th>38</th>\n",
       "      <td>avg_salary</td>\n",
       "      <td>0.343377</td>\n",
       "    </tr>\n",
       "    <tr>\n",
       "      <th>15</th>\n",
       "      <td>job_description_topic_5</td>\n",
       "      <td>0.146907</td>\n",
       "    </tr>\n",
       "    <tr>\n",
       "      <th>9</th>\n",
       "      <td>location_West</td>\n",
       "      <td>0.112751</td>\n",
       "    </tr>\n",
       "    <tr>\n",
       "      <th>20</th>\n",
       "      <td>job_req_topics_1</td>\n",
       "      <td>0.102664</td>\n",
       "    </tr>\n",
       "    <tr>\n",
       "      <th>19</th>\n",
       "      <td>job_description_topic_9</td>\n",
       "      <td>0.087919</td>\n",
       "    </tr>\n",
       "    <tr>\n",
       "      <th>2</th>\n",
       "      <td>industrys_Engineering</td>\n",
       "      <td>0.075404</td>\n",
       "    </tr>\n",
       "    <tr>\n",
       "      <th>32</th>\n",
       "      <td>job_titles_topics_4</td>\n",
       "      <td>0.041910</td>\n",
       "    </tr>\n",
       "    <tr>\n",
       "      <th>1</th>\n",
       "      <td>employment_type_Permanent</td>\n",
       "      <td>0.039424</td>\n",
       "    </tr>\n",
       "    <tr>\n",
       "      <th>5</th>\n",
       "      <td>location_Islandwide</td>\n",
       "      <td>0.026845</td>\n",
       "    </tr>\n",
       "    <tr>\n",
       "      <th>0</th>\n",
       "      <td>employment_type_Full Time</td>\n",
       "      <td>0.022798</td>\n",
       "    </tr>\n",
       "    <tr>\n",
       "      <th>10</th>\n",
       "      <td>gov_support_yes</td>\n",
       "      <td>0.000000</td>\n",
       "    </tr>\n",
       "    <tr>\n",
       "      <th>25</th>\n",
       "      <td>job_req_topics_6</td>\n",
       "      <td>0.000000</td>\n",
       "    </tr>\n",
       "    <tr>\n",
       "      <th>37</th>\n",
       "      <td>job_titles_topics_9</td>\n",
       "      <td>0.000000</td>\n",
       "    </tr>\n",
       "    <tr>\n",
       "      <th>36</th>\n",
       "      <td>job_titles_topics_8</td>\n",
       "      <td>0.000000</td>\n",
       "    </tr>\n",
       "    <tr>\n",
       "      <th>35</th>\n",
       "      <td>job_titles_topics_7</td>\n",
       "      <td>0.000000</td>\n",
       "    </tr>\n",
       "    <tr>\n",
       "      <th>34</th>\n",
       "      <td>job_titles_topics_6</td>\n",
       "      <td>0.000000</td>\n",
       "    </tr>\n",
       "    <tr>\n",
       "      <th>33</th>\n",
       "      <td>job_titles_topics_5</td>\n",
       "      <td>0.000000</td>\n",
       "    </tr>\n",
       "    <tr>\n",
       "      <th>7</th>\n",
       "      <td>location_North</td>\n",
       "      <td>0.000000</td>\n",
       "    </tr>\n",
       "    <tr>\n",
       "      <th>31</th>\n",
       "      <td>job_titles_topics_3</td>\n",
       "      <td>0.000000</td>\n",
       "    </tr>\n",
       "    <tr>\n",
       "      <th>30</th>\n",
       "      <td>job_titles_topics_2</td>\n",
       "      <td>0.000000</td>\n",
       "    </tr>\n",
       "    <tr>\n",
       "      <th>29</th>\n",
       "      <td>job_titles_topics_1</td>\n",
       "      <td>0.000000</td>\n",
       "    </tr>\n",
       "    <tr>\n",
       "      <th>28</th>\n",
       "      <td>job_req_topics_9</td>\n",
       "      <td>0.000000</td>\n",
       "    </tr>\n",
       "    <tr>\n",
       "      <th>27</th>\n",
       "      <td>job_req_topics_8</td>\n",
       "      <td>0.000000</td>\n",
       "    </tr>\n",
       "    <tr>\n",
       "      <th>26</th>\n",
       "      <td>job_req_topics_7</td>\n",
       "      <td>0.000000</td>\n",
       "    </tr>\n",
       "    <tr>\n",
       "      <th>24</th>\n",
       "      <td>job_req_topics_5</td>\n",
       "      <td>0.000000</td>\n",
       "    </tr>\n",
       "    <tr>\n",
       "      <th>11</th>\n",
       "      <td>job_description_topic_1</td>\n",
       "      <td>0.000000</td>\n",
       "    </tr>\n",
       "    <tr>\n",
       "      <th>23</th>\n",
       "      <td>job_req_topics_4</td>\n",
       "      <td>0.000000</td>\n",
       "    </tr>\n",
       "    <tr>\n",
       "      <th>6</th>\n",
       "      <td>location_NA</td>\n",
       "      <td>0.000000</td>\n",
       "    </tr>\n",
       "    <tr>\n",
       "      <th>21</th>\n",
       "      <td>job_req_topics_2</td>\n",
       "      <td>0.000000</td>\n",
       "    </tr>\n",
       "    <tr>\n",
       "      <th>8</th>\n",
       "      <td>location_South</td>\n",
       "      <td>0.000000</td>\n",
       "    </tr>\n",
       "    <tr>\n",
       "      <th>4</th>\n",
       "      <td>location_East</td>\n",
       "      <td>0.000000</td>\n",
       "    </tr>\n",
       "    <tr>\n",
       "      <th>18</th>\n",
       "      <td>job_description_topic_8</td>\n",
       "      <td>0.000000</td>\n",
       "    </tr>\n",
       "    <tr>\n",
       "      <th>17</th>\n",
       "      <td>job_description_topic_7</td>\n",
       "      <td>0.000000</td>\n",
       "    </tr>\n",
       "    <tr>\n",
       "      <th>16</th>\n",
       "      <td>job_description_topic_6</td>\n",
       "      <td>0.000000</td>\n",
       "    </tr>\n",
       "    <tr>\n",
       "      <th>3</th>\n",
       "      <td>industrys_Information Technology</td>\n",
       "      <td>0.000000</td>\n",
       "    </tr>\n",
       "    <tr>\n",
       "      <th>14</th>\n",
       "      <td>job_description_topic_4</td>\n",
       "      <td>0.000000</td>\n",
       "    </tr>\n",
       "    <tr>\n",
       "      <th>13</th>\n",
       "      <td>job_description_topic_3</td>\n",
       "      <td>0.000000</td>\n",
       "    </tr>\n",
       "    <tr>\n",
       "      <th>12</th>\n",
       "      <td>job_description_topic_2</td>\n",
       "      <td>0.000000</td>\n",
       "    </tr>\n",
       "    <tr>\n",
       "      <th>22</th>\n",
       "      <td>job_req_topics_3</td>\n",
       "      <td>0.000000</td>\n",
       "    </tr>\n",
       "  </tbody>\n",
       "</table>\n",
       "</div>"
      ],
      "text/plain": [
       "                             feature  importance\n",
       "38                        avg_salary    0.343377\n",
       "15           job_description_topic_5    0.146907\n",
       "9                      location_West    0.112751\n",
       "20                  job_req_topics_1    0.102664\n",
       "19           job_description_topic_9    0.087919\n",
       "2              industrys_Engineering    0.075404\n",
       "32               job_titles_topics_4    0.041910\n",
       "1          employment_type_Permanent    0.039424\n",
       "5                location_Islandwide    0.026845\n",
       "0          employment_type_Full Time    0.022798\n",
       "10                   gov_support_yes    0.000000\n",
       "25                  job_req_topics_6    0.000000\n",
       "37               job_titles_topics_9    0.000000\n",
       "36               job_titles_topics_8    0.000000\n",
       "35               job_titles_topics_7    0.000000\n",
       "34               job_titles_topics_6    0.000000\n",
       "33               job_titles_topics_5    0.000000\n",
       "7                     location_North    0.000000\n",
       "31               job_titles_topics_3    0.000000\n",
       "30               job_titles_topics_2    0.000000\n",
       "29               job_titles_topics_1    0.000000\n",
       "28                  job_req_topics_9    0.000000\n",
       "27                  job_req_topics_8    0.000000\n",
       "26                  job_req_topics_7    0.000000\n",
       "24                  job_req_topics_5    0.000000\n",
       "11           job_description_topic_1    0.000000\n",
       "23                  job_req_topics_4    0.000000\n",
       "6                        location_NA    0.000000\n",
       "21                  job_req_topics_2    0.000000\n",
       "8                     location_South    0.000000\n",
       "4                      location_East    0.000000\n",
       "18           job_description_topic_8    0.000000\n",
       "17           job_description_topic_7    0.000000\n",
       "16           job_description_topic_6    0.000000\n",
       "3   industrys_Information Technology    0.000000\n",
       "14           job_description_topic_4    0.000000\n",
       "13           job_description_topic_3    0.000000\n",
       "12           job_description_topic_2    0.000000\n",
       "22                  job_req_topics_3    0.000000"
      ]
     },
     "execution_count": 168,
     "metadata": {},
     "output_type": "execute_result"
    }
   ],
   "source": [
    "fi = pd.DataFrame({\n",
    "        'feature':X3.columns,\n",
    "        'importance':dtc_best.feature_importances_\n",
    "    })\n",
    "\n",
    "fi.sort_values('importance', ascending=False, inplace=True)\n",
    "fi"
   ]
  },
  {
   "cell_type": "code",
   "execution_count": 169,
   "metadata": {},
   "outputs": [],
   "source": [
    "# The score improved from logistic regression(0.477) to 0.56 in Decision tree.\n",
    "\n",
    "# Avg salary, job description topic 5 and 9, Industry - Engineering, Location west and permanent, full time \n",
    "#employment type and job title topic 4 are the most important features."
   ]
  },
  {
   "cell_type": "markdown",
   "metadata": {},
   "source": [
    "### 3. Random Forest Classifier (RFC)"
   ]
  },
  {
   "cell_type": "code",
   "execution_count": 170,
   "metadata": {},
   "outputs": [],
   "source": [
    "#train test split\n",
    "from sklearn.model_selection import train_test_split\n",
    "X3_train, X3_test, y3_train, y3_test = train_test_split(X3, y3, test_size=0.30)"
   ]
  },
  {
   "cell_type": "code",
   "execution_count": 171,
   "metadata": {},
   "outputs": [],
   "source": [
    "from sklearn.ensemble import RandomForestClassifier\n",
    "from sklearn.metrics import classification_report,confusion_matrix\n",
    "#rfc = RandomForestClassifier(n_estimators=200)\n",
    "#rfc.fit(X3_train, y3_train)"
   ]
  },
  {
   "cell_type": "code",
   "execution_count": 172,
   "metadata": {},
   "outputs": [],
   "source": [
    "# gridsearch params\n",
    "rfc_params = {\n",
    "    'max_depth':[None,1,2,3,4],\n",
    "    'max_features':[None,'log2','sqrt',2,3,4,5],\n",
    "    'min_samples_split':[2,3,4,5,10,15,20,25,30,40,50]\n",
    "}\n",
    "\n",
    "from sklearn.model_selection import GridSearchCV\n",
    "# set the gridsearch\n",
    "rfc_gs = GridSearchCV(RandomForestClassifier(n_estimators=200), \n",
    "                      dtc_params, \n",
    "                      cv=5, \n",
    "                      verbose=1, \n",
    "                      n_jobs=-1)"
   ]
  },
  {
   "cell_type": "code",
   "execution_count": 173,
   "metadata": {},
   "outputs": [
    {
     "name": "stderr",
     "output_type": "stream",
     "text": [
      "[Parallel(n_jobs=-1)]: Using backend LokyBackend with 8 concurrent workers.\n"
     ]
    },
    {
     "name": "stdout",
     "output_type": "stream",
     "text": [
      "Fitting 5 folds for each of 385 candidates, totalling 1925 fits\n"
     ]
    },
    {
     "name": "stderr",
     "output_type": "stream",
     "text": [
      "[Parallel(n_jobs=-1)]: Done  34 tasks      | elapsed:    2.1s\n",
      "[Parallel(n_jobs=-1)]: Done 184 tasks      | elapsed:    7.7s\n",
      "[Parallel(n_jobs=-1)]: Done 434 tasks      | elapsed:   17.5s\n",
      "[Parallel(n_jobs=-1)]: Done 784 tasks      | elapsed:   30.3s\n",
      "[Parallel(n_jobs=-1)]: Done 1234 tasks      | elapsed:   47.6s\n",
      "[Parallel(n_jobs=-1)]: Done 1784 tasks      | elapsed:  1.2min\n",
      "[Parallel(n_jobs=-1)]: Done 1925 out of 1925 | elapsed:  1.3min finished\n",
      "/anaconda3/lib/python3.7/site-packages/sklearn/model_selection/_search.py:841: DeprecationWarning: The default of the `iid` parameter will change from True to False in version 0.22 and will be removed in 0.24. This will change numeric results when test-set sizes are unequal.\n",
      "  DeprecationWarning)\n"
     ]
    },
    {
     "data": {
      "text/plain": [
       "GridSearchCV(cv=5, error_score='raise-deprecating',\n",
       "       estimator=RandomForestClassifier(bootstrap=True, class_weight=None, criterion='gini',\n",
       "            max_depth=None, max_features='auto', max_leaf_nodes=None,\n",
       "            min_impurity_decrease=0.0, min_impurity_split=None,\n",
       "            min_samples_leaf=1, min_samples_split=2,\n",
       "            min_weight_fraction_leaf=0.0, n_estimators=200, n_jobs=None,\n",
       "            oob_score=False, random_state=None, verbose=0,\n",
       "            warm_start=False),\n",
       "       fit_params=None, iid='warn', n_jobs=-1,\n",
       "       param_grid={'max_depth': [None, 1, 2, 3, 4], 'max_features': [None, 'log2', 'sqrt', 2, 3, 4, 5], 'min_samples_split': [2, 3, 4, 5, 10, 15, 20, 25, 30, 40, 50]},\n",
       "       pre_dispatch='2*n_jobs', refit=True, return_train_score='warn',\n",
       "       scoring=None, verbose=1)"
      ]
     },
     "execution_count": 173,
     "metadata": {},
     "output_type": "execute_result"
    }
   ],
   "source": [
    "# use the gridearc C model to fit the data\n",
    "rfc_gs.fit(X3_train, y3_train)"
   ]
  },
  {
   "cell_type": "code",
   "execution_count": 174,
   "metadata": {},
   "outputs": [],
   "source": [
    "rfc_pred = rfc_gs.predict(X3_test)"
   ]
  },
  {
   "cell_type": "code",
   "execution_count": 175,
   "metadata": {},
   "outputs": [
    {
     "name": "stdout",
     "output_type": "stream",
     "text": [
      "[[34 11  3]\n",
      " [19 55  5]\n",
      " [12 16  8]]\n"
     ]
    }
   ],
   "source": [
    "print(confusion_matrix(y3_test,rfc_pred))"
   ]
  },
  {
   "cell_type": "code",
   "execution_count": 176,
   "metadata": {},
   "outputs": [
    {
     "name": "stdout",
     "output_type": "stream",
     "text": [
      "              precision    recall  f1-score   support\n",
      "\n",
      "           0       0.52      0.71      0.60        48\n",
      "           1       0.67      0.70      0.68        79\n",
      "           2       0.50      0.22      0.31        36\n",
      "\n",
      "   micro avg       0.60      0.60      0.60       163\n",
      "   macro avg       0.56      0.54      0.53       163\n",
      "weighted avg       0.59      0.60      0.58       163\n",
      "\n"
     ]
    }
   ],
   "source": [
    "print(classification_report(y3_test,rfc_pred))"
   ]
  },
  {
   "cell_type": "code",
   "execution_count": 177,
   "metadata": {},
   "outputs": [],
   "source": [
    "# As expected, the score is improved by using Random forest classifier when compared to \n",
    "#decision tree and logistic regression\n",
    "\n",
    "# It can be seen that this RFC could able to classify category 0 and 1 better when compared to category 2"
   ]
  },
  {
   "cell_type": "markdown",
   "metadata": {},
   "source": [
    "## Summary:\n",
    "\n",
    "1. RFC shows best results when compared to the others(logistic and decision tree classification)\n",
    "\n",
    "2. The most important features that contribute the seniority roles are as follows:\n",
    "\n",
    "    * Avg salary\n",
    "    \n",
    "    *job descriptions topic 5:\n",
    "    \n",
    "    THE TOP 15 WORDS FOR TOPIC #5\n",
    "            ['processes', 'automation', 'projects', 'bank', 'delivery', \n",
    "            'development', 'global','services', 'clients', 'applications',\n",
    "            'technology', 'team', 'project', 'management', 'business']\n",
    "\n",
    "\n",
    "    \n",
    "    * location - West\n",
    "    \n",
    "    * Industry - Engineering\n",
    "    \n",
    "    * Job descriptions topic 9: \n",
    "    \n",
    "    THE TOP 15 WORDS FOR TOPIC #9\n",
    "           ['make', 'engineers', 'systems', 'goldman', 'sachs', 'world',\n",
    "           'software', 'development', 'business', 'technology', 'global', 'data',\n",
    "           'platform', 'engineering', 'solutions’]\n",
    "\n",
    "    \n",
    "    * Fulltime and permanent employment type\n",
    "    \n",
    "    * Jobtitle topic 4:\n",
    "    \n",
    "    THE TOP 7 WORDS FOR TOPIC #4\n",
    "            ['quantitative', 'backend', 'etl', 'stack', 'big', 'java', 'developer’]\n",
    "\n",
    "    \n",
    "    \n",
    "    \n",
    "    \n",
    "    \n",
    " \n"
   ]
  },
  {
   "cell_type": "code",
   "execution_count": null,
   "metadata": {},
   "outputs": [],
   "source": []
  }
 ],
 "metadata": {
  "kernelspec": {
   "display_name": "Python 3",
   "language": "python",
   "name": "python3"
  },
  "language_info": {
   "codemirror_mode": {
    "name": "ipython",
    "version": 3
   },
   "file_extension": ".py",
   "mimetype": "text/x-python",
   "name": "python",
   "nbconvert_exporter": "python",
   "pygments_lexer": "ipython3",
   "version": "3.7.2"
  }
 },
 "nbformat": 4,
 "nbformat_minor": 2
}
