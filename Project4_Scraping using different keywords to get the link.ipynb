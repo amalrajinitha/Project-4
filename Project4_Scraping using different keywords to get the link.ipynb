{
 "cells": [
  {
   "cell_type": "code",
   "execution_count": 85,
   "metadata": {},
   "outputs": [],
   "source": [
    "import os\n",
    "from selenium import webdriver\n",
    "# Import sleep:\n",
    "from time import sleep\n",
    "from bs4 import BeautifulSoup\n",
    "import re\n",
    "\n",
    "chromedriver = \"./chromedriver\"\n",
    "os.environ[\"webdriver.chrome.driver\"] = chromedriver\n",
    "# driver = webdriver.Chrome(chromedriver)"
   ]
  },
  {
   "cell_type": "markdown",
   "metadata": {},
   "source": [
    "### Used different keywords such as Data, machine learning, python, data science, data analytics, data scientist, python, big data, deep learning etc to get the links and other details"
   ]
  },
  {
   "cell_type": "code",
   "execution_count": 86,
   "metadata": {},
   "outputs": [
    {
     "name": "stdout",
     "output_type": "stream",
     "text": [
      "Page 1\n",
      "Page 2\n",
      "Page 3\n",
      "Page 4\n",
      "Page 5\n",
      "Page 6\n",
      "Page 7\n"
     ]
    }
   ],
   "source": [
    "job_titles=[]\n",
    "companys=[]    \n",
    "locations=[]\n",
    "employment_types=[]\n",
    "gov_support=[]\n",
    "industrys=[]\n",
    "salary=[]\n",
    "links=[]\n",
    "\n",
    "#url=\"https://www.mycareersfuture.sg/search?search=data&sortBy=relevancy&page={}\"\n",
    "\n",
    "#url=\"https://www.mycareersfuture.sg/search?search=data&sortBy=new_posting_date&page={}\"\n",
    "\n",
    "#url=\"https://www.mycareersfuture.sg/search?search=machine%20learning%20&sortBy=relevancy&page={}\"\n",
    "\n",
    "#url=\"https://www.mycareersfuture.sg/search?search=data%20science&sortBy=relevancy&page={}\"\n",
    "\n",
    "#url=\"https://www.mycareersfuture.sg/search?search=data%20engineer&sortBy=relevancy&page={}\"\n",
    "\n",
    "#url=\"https://www.mycareersfuture.sg/search?search=data%20scientist&sortBy=relevancy&page={}\"\n",
    "\n",
    "#url=\"https://www.mycareersfuture.sg/search?search=Data%20analyst&sortBy=relevancy&page={}\"\n",
    "\n",
    "#url=\"https://www.mycareersfuture.sg/search?search=big%20data&sortBy=relevancy&page={}\"\n",
    "\n",
    "#url=\"https://www.mycareersfuture.sg/search?search=python&sortBy=relevancy&page={}\"\n",
    "\n",
    "#url=\"https://www.mycareersfuture.sg/search?search=deep%20learning&sortBy=relevancy&page={}\"\n",
    "\n",
    "url=\"https://www.mycareersfuture.sg/search?search=data%20management&sortBy=relevancy&page={}\"\n",
    "\n",
    "driver = webdriver.Chrome(executable_path=\"./chromedriver\")\n",
    "for page in range(1,7+1):\n",
    "    \n",
    "    print('Page {}'.format(page))  \n",
    "    # make request for that page\n",
    "    driver.get(url.format(page))\n",
    "    sleep(10)\n",
    "    html=driver.page_source\n",
    "    # turn into a BeautifulSoup object\n",
    "    html=BeautifulSoup(html, 'lxml')\n",
    "    \n",
    "    for entry in html.find_all('a', {'class':'bg-white mb3 w-100 dib v-top pa3 no-underline flex-ns flex-wrap JobCard__card___22xP3'}):\n",
    "        # Grab the Jobtitle.\n",
    "        job_title = entry.find('h1', {'class': 'f4-5 fw6 mv0 brand-sec dib mr2 JobCard__jobtitle___3HqOw'}).text\n",
    "        job_titles.append(job_title)\n",
    "        #print(job_title)\n",
    "    \n",
    "        # Grab the Company.\n",
    "        try:\n",
    "            company = entry.find('p', {'class': 'f6 fw6 mv0 black-80 mr2 di ttu'}).text\n",
    "            companys.append(company)\n",
    "        except:\n",
    "            companys.append('NA')\n",
    "            \n",
    "        #print(company)\n",
    "    \n",
    "        #location\n",
    "        try:\n",
    "            location=entry.find('p',{'class': 'black-80 f6 fw4 mt0 mb1 dib pr3 icon-bw-location'}).text\n",
    "            locations.append(location)\n",
    "        except:\n",
    "            locations.append('NA')\n",
    "        #print(location)\n",
    "    \n",
    "        #employment_type\n",
    "        try:\n",
    "            employment_type=entry.find('p',{'class':'black-80 f6 fw4 mt0 mb1 dib pr3 icon-bw-seniority'}).text\n",
    "            employment_types.append(employment_type)\n",
    "        except:\n",
    "            employment_types.append('NA')\n",
    "    \n",
    "        # gov_support\n",
    "        try:\n",
    "            gov_supp=entry.find('p',{'class':'green mv0 pr3 f5-5 fw4 mr2 db pb2 JobCard__greentick___3e2_Y'}).text\n",
    "            gov_support.append(gov_supp)\n",
    "        except:\n",
    "            gov_support.append('NA')\n",
    "        \n",
    "        #industry:\n",
    "        try:\n",
    "            industry=entry.find('p',{'class':'black-80 f6 fw4 mt0 mb1 dib pr3 icon-bw-category'}).text\n",
    "            industrys.append(industry)\n",
    "        except:\n",
    "            industrys.append('NA')\n",
    "    \n",
    "        #salary:\n",
    "    \n",
    "        for row in entry.findAll(\"span\", class_ = re.compile(\"salary_range\")):\n",
    "            salary.append(row.text)\n",
    "        \n",
    "        #links\n",
    "        link=entry.get('href')\n",
    "        link='https://www.mycareersfuture.sg'+str(link)\n",
    "        links.append(link)\n",
    "\n",
    "# First, create an empty DataFrame.\n",
    "import pandas as pd\n",
    "jobs6 = pd.DataFrame(columns=[\"job_titles\",\"companys\", \"location\", \"employment_type\", \"gov_support\", \"salary\", \"links\"])\n",
    "\n",
    "jobs6['job_titles']=job_titles\n",
    "\n",
    "jobs6['companys']=companys\n",
    "\n",
    "jobs6['location']=locations\n",
    "\n",
    "jobs6['employment_type']=employment_types\n",
    "\n",
    "jobs6['gov_support']=gov_support\n",
    "\n",
    "jobs6['industrys']=industrys\n",
    "\n",
    "jobs6['salary']=salary\n",
    "\n",
    "jobs6['links']=links\n",
    "\n",
    "\n",
    "jobs6.to_csv('jobs_31Jan_DM.csv')\n",
    "\n",
    "driver.close()\n",
    "\n"
   ]
  },
  {
   "cell_type": "code",
   "execution_count": 84,
   "metadata": {},
   "outputs": [],
   "source": [
    "job_titles[:]=[]\n",
    "companys[:]=[]\n",
    "locations[:]=[]\n",
    "employment_types[:]=[]\n",
    "gov_support[:]=[]\n",
    "industrys[:]=[]\n",
    "salary[:]=[]\n",
    "links[:]=[]"
   ]
  },
  {
   "cell_type": "code",
   "execution_count": 75,
   "metadata": {},
   "outputs": [
    {
     "data": {
      "text/plain": [
       "[]"
      ]
     },
     "execution_count": 75,
     "metadata": {},
     "output_type": "execute_result"
    }
   ],
   "source": [
    "links"
   ]
  },
  {
   "cell_type": "code",
   "execution_count": 61,
   "metadata": {},
   "outputs": [
    {
     "data": {
      "text/plain": [
       "(145, 8)"
      ]
     },
     "execution_count": 61,
     "metadata": {},
     "output_type": "execute_result"
    }
   ],
   "source": [
    "jobs.shape"
   ]
  },
  {
   "cell_type": "code",
   "execution_count": 39,
   "metadata": {},
   "outputs": [],
   "source": [
    "df1=pd.read_csv('jobs_30Jan.csv')\n",
    "\n",
    "df2=pd.read_csv('jobs_30Jan_2.csv')\n",
    "\n",
    "df3=pd.read_csv('jobs_30Jan_ML.csv')\n",
    "\n"
   ]
  },
  {
   "cell_type": "code",
   "execution_count": 40,
   "metadata": {},
   "outputs": [],
   "source": [
    "frames=[df1,df2,df3]\n",
    "df = pd.concat(frames)"
   ]
  },
  {
   "cell_type": "code",
   "execution_count": 41,
   "metadata": {},
   "outputs": [
    {
     "data": {
      "text/plain": [
       "(2259, 9)"
      ]
     },
     "execution_count": 41,
     "metadata": {},
     "output_type": "execute_result"
    }
   ],
   "source": [
    "df.shape"
   ]
  },
  {
   "cell_type": "code",
   "execution_count": 42,
   "metadata": {},
   "outputs": [],
   "source": [
    "df.drop_duplicates(subset=None, keep='first', inplace=True)"
   ]
  },
  {
   "cell_type": "code",
   "execution_count": 43,
   "metadata": {},
   "outputs": [
    {
     "data": {
      "text/plain": [
       "(2258, 9)"
      ]
     },
     "execution_count": 43,
     "metadata": {},
     "output_type": "execute_result"
    }
   ],
   "source": [
    "df.shape"
   ]
  },
  {
   "cell_type": "code",
   "execution_count": 44,
   "metadata": {},
   "outputs": [
    {
     "data": {
      "text/html": [
       "<div>\n",
       "<style scoped>\n",
       "    .dataframe tbody tr th:only-of-type {\n",
       "        vertical-align: middle;\n",
       "    }\n",
       "\n",
       "    .dataframe tbody tr th {\n",
       "        vertical-align: top;\n",
       "    }\n",
       "\n",
       "    .dataframe thead th {\n",
       "        text-align: right;\n",
       "    }\n",
       "</style>\n",
       "<table border=\"1\" class=\"dataframe\">\n",
       "  <thead>\n",
       "    <tr style=\"text-align: right;\">\n",
       "      <th></th>\n",
       "      <th>Unnamed: 0</th>\n",
       "      <th>job_titles</th>\n",
       "      <th>companys</th>\n",
       "      <th>location</th>\n",
       "      <th>employment_type</th>\n",
       "      <th>gov_support</th>\n",
       "      <th>salary</th>\n",
       "      <th>links</th>\n",
       "      <th>industrys</th>\n",
       "    </tr>\n",
       "  </thead>\n",
       "  <tbody>\n",
       "    <tr>\n",
       "      <th>0</th>\n",
       "      <td>0</td>\n",
       "      <td>Data Scientist</td>\n",
       "      <td>GOVERNMENT TECHNOLOGY AGENCY</td>\n",
       "      <td>NaN</td>\n",
       "      <td>Middle Management</td>\n",
       "      <td>NaN</td>\n",
       "      <td>$5,000to$8,000</td>\n",
       "      <td>https://www.mycareersfuture.sg/job/data-scient...</td>\n",
       "      <td>Information Technology ...</td>\n",
       "    </tr>\n",
       "    <tr>\n",
       "      <th>1</th>\n",
       "      <td>1</td>\n",
       "      <td>Data Scientist</td>\n",
       "      <td>GOVERNMENT TECHNOLOGY AGENCY</td>\n",
       "      <td>NaN</td>\n",
       "      <td>Middle Management</td>\n",
       "      <td>NaN</td>\n",
       "      <td>$5,000to$8,000</td>\n",
       "      <td>https://www.mycareersfuture.sg/job/data-scient...</td>\n",
       "      <td>Information Technology ...</td>\n",
       "    </tr>\n",
       "    <tr>\n",
       "      <th>2</th>\n",
       "      <td>2</td>\n",
       "      <td>Data Scientist</td>\n",
       "      <td>GOVERNMENT TECHNOLOGY AGENCY</td>\n",
       "      <td>NaN</td>\n",
       "      <td>Middle Management</td>\n",
       "      <td>NaN</td>\n",
       "      <td>$5,000to$8,000</td>\n",
       "      <td>https://www.mycareersfuture.sg/job/data-scient...</td>\n",
       "      <td>Information Technology ...</td>\n",
       "    </tr>\n",
       "    <tr>\n",
       "      <th>3</th>\n",
       "      <td>3</td>\n",
       "      <td>Data Manager</td>\n",
       "      <td>CAPGEMINI SINGAPORE PTE. LTD.</td>\n",
       "      <td>Central</td>\n",
       "      <td>Professional</td>\n",
       "      <td>Government support available</td>\n",
       "      <td>$5,000to$7,500</td>\n",
       "      <td>https://www.mycareersfuture.sg/job/data-manage...</td>\n",
       "      <td>Engineering</td>\n",
       "    </tr>\n",
       "    <tr>\n",
       "      <th>4</th>\n",
       "      <td>4</td>\n",
       "      <td>VP, Data Privacy, Controls Reporting &amp; Product...</td>\n",
       "      <td>THE HONGKONG AND SHANGHAI BANKING CORPORATION ...</td>\n",
       "      <td>Central</td>\n",
       "      <td>Senior Executive</td>\n",
       "      <td>Government support available</td>\n",
       "      <td>$6,500to$12,000</td>\n",
       "      <td>https://www.mycareersfuture.sg/job/vp-data-pri...</td>\n",
       "      <td>Banking and Finance</td>\n",
       "    </tr>\n",
       "  </tbody>\n",
       "</table>\n",
       "</div>"
      ],
      "text/plain": [
       "   Unnamed: 0                                         job_titles  \\\n",
       "0           0                                     Data Scientist   \n",
       "1           1                                     Data Scientist   \n",
       "2           2                                     Data Scientist   \n",
       "3           3                                       Data Manager   \n",
       "4           4  VP, Data Privacy, Controls Reporting & Product...   \n",
       "\n",
       "                                            companys location  \\\n",
       "0                       GOVERNMENT TECHNOLOGY AGENCY      NaN   \n",
       "1                       GOVERNMENT TECHNOLOGY AGENCY      NaN   \n",
       "2                       GOVERNMENT TECHNOLOGY AGENCY      NaN   \n",
       "3                      CAPGEMINI SINGAPORE PTE. LTD.  Central   \n",
       "4  THE HONGKONG AND SHANGHAI BANKING CORPORATION ...  Central   \n",
       "\n",
       "     employment_type                   gov_support           salary  \\\n",
       "0  Middle Management                           NaN   $5,000to$8,000   \n",
       "1  Middle Management                           NaN   $5,000to$8,000   \n",
       "2  Middle Management                           NaN   $5,000to$8,000   \n",
       "3       Professional  Government support available   $5,000to$7,500   \n",
       "4   Senior Executive  Government support available  $6,500to$12,000   \n",
       "\n",
       "                                               links  \\\n",
       "0  https://www.mycareersfuture.sg/job/data-scient...   \n",
       "1  https://www.mycareersfuture.sg/job/data-scient...   \n",
       "2  https://www.mycareersfuture.sg/job/data-scient...   \n",
       "3  https://www.mycareersfuture.sg/job/data-manage...   \n",
       "4  https://www.mycareersfuture.sg/job/vp-data-pri...   \n",
       "\n",
       "                    industrys  \n",
       "0  Information Technology ...  \n",
       "1  Information Technology ...  \n",
       "2  Information Technology ...  \n",
       "3                 Engineering  \n",
       "4         Banking and Finance  "
      ]
     },
     "execution_count": 44,
     "metadata": {},
     "output_type": "execute_result"
    }
   ],
   "source": [
    "df.head()"
   ]
  },
  {
   "cell_type": "code",
   "execution_count": 48,
   "metadata": {},
   "outputs": [
    {
     "data": {
      "text/plain": [
       "array(['Data Scientist', 'Data Manager',\n",
       "       'VP, Data Privacy, Controls Reporting & Product Governance', ...,\n",
       "       'KYC Automation Program Director',\n",
       "       'Product Development Engineer (68886)', 'DATA  ANALYST'],\n",
       "      dtype=object)"
      ]
     },
     "execution_count": 48,
     "metadata": {},
     "output_type": "execute_result"
    }
   ],
   "source": [
    "df.job_titles.unique()"
   ]
  },
  {
   "cell_type": "code",
   "execution_count": null,
   "metadata": {},
   "outputs": [],
   "source": []
  }
 ],
 "metadata": {
  "kernelspec": {
   "display_name": "Python 3",
   "language": "python",
   "name": "python3"
  },
  "language_info": {
   "codemirror_mode": {
    "name": "ipython",
    "version": 3
   },
   "file_extension": ".py",
   "mimetype": "text/x-python",
   "name": "python",
   "nbconvert_exporter": "python",
   "pygments_lexer": "ipython3",
   "version": "3.7.2"
  }
 },
 "nbformat": 4,
 "nbformat_minor": 2
}
